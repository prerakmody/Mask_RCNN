{
 "cells": [
  {
   "cell_type": "code",
   "execution_count": 1,
   "metadata": {
    "ExecuteTime": {
     "end_time": "2018-03-22T15:15:18.517552Z",
     "start_time": "2018-03-22T15:15:16.063114Z"
    }
   },
   "outputs": [
    {
     "name": "stderr",
     "output_type": "stream",
     "text": [
      "/usr/local/lib/python3.5/dist-packages/h5py/__init__.py:36: FutureWarning: Conversion of the second argument of issubdtype from `float` to `np.floating` is deprecated. In future, it will be treated as `np.float64 == np.dtype(float).type`.\n",
      "  from ._conv import register_converters as _register_converters\n",
      "Using TensorFlow backend.\n"
     ]
    },
    {
     "name": "stdout",
     "output_type": "stream",
     "text": [
      "TF :  1.6.0   Keras :  2.1.5   CUDA :  CUDA Version 9.0.176\n",
      "\n"
     ]
    }
   ],
   "source": [
    "## STANDARD PYTHON LIBS\n",
    "import os\n",
    "import sys\n",
    "import numpy as np\n",
    "import matplotlib.pyplot as plt\n",
    "%matplotlib inline\n",
    "\n",
    "## ADDING TO ROOT\n",
    "ROOT_DIR = os.path.abspath(os.path.join(os.getcwd(), '../../'))\n",
    "sys.path.append(ROOT_DIR)\n",
    "\n",
    "## CUSTOM LIBS\n",
    "import src.utils as utils\n",
    "import src.model as modellib\n",
    "from src.config import Config\n",
    "import src.visualize as visualize\n",
    "\n",
    "# GPU LIBS\n",
    "import keras\n",
    "import tensorflow as tf\n",
    "\n",
    "cuda_version = os.popen(\"cat /usr/local/cuda/version.txt \").read()\n",
    "print ('TF : ', tf.__version__, '  Keras : ', keras.__version__, '  CUDA : ', cuda_version)"
   ]
  },
  {
   "cell_type": "code",
   "execution_count": null,
   "metadata": {
    "ExecuteTime": {
     "end_time": "2018-03-17T10:38:21.633518Z",
     "start_time": "2018-03-17T10:38:07.589327Z"
    }
   },
   "outputs": [],
   "source": [
    "if utils.check_gpu(verbose=0):\n",
    "    pass\n",
    "    #import keras.backend as K\n",
    "    #config = tf.ConfigProto()\n",
    "    #config.gpu_options.allow_growth = True \n",
    "    #K.tensorflow_backend.set_session(tf.Session(config=config))\n",
    "else:\n",
    "    sys.exit(1)"
   ]
  },
  {
   "cell_type": "code",
   "execution_count": 2,
   "metadata": {
    "ExecuteTime": {
     "end_time": "2018-03-22T15:15:20.256122Z",
     "start_time": "2018-03-22T15:15:19.942123Z"
    },
    "scrolled": false
   },
   "outputs": [
    {
     "name": "stdout",
     "output_type": "stream",
     "text": [
      "16\n"
     ]
    }
   ],
   "source": [
    "if 'src.mapillary' in sys.modules : del sys.modules['src.mapillary']\n",
    "if 'src.utils'     in sys.modules : del sys.modules['src.utils']\n",
    "if 'src.model'     in sys.modules : del sys.modules['src.model']\n",
    "\n",
    "import src.utils as utils\n",
    "import src.model as modellib\n",
    "import src.mapillary as mapillary\n",
    "\n",
    "if __name__ == \"__main__\":\n",
    "#     url_dataset = '/home/play/datasets/open_datasets/mapillary'\n",
    "#     mapillary_mapper = '/home/play/playment/Mask_RCNN/demo/raw/merge__cityscapes_mapillary_v2.json'\n",
    "    mapillary_config = mapillary.MapillaryConfig(images_per_gpu=16, gpu_count = 1)\n",
    "    mapillary_config.STEPS_PER_EPOCH  = 2250 #2250\n",
    "    mapillary_config.VALIDATION_STEPS = 50 #50\n",
    "    print (mapillary_config.BATCH_SIZE)\n",
    "    trainData = '/home/ubuntu/datasets/open_datasets/mapillary_hdf5_16/mapillary-vistas-dataset_public_v1.0/training'\n",
    "    valData   = '/home/ubuntu/datasets/open_datasets/mapillary_hdf5_16/mapillary-vistas-dataset_public_v1.0/validation'\n",
    "    \n",
    "#     trainData = mapillary.MapillaryDataset(url_dataset, mapillary_mapper, mapillary_config, data_type = 'train')\n",
    "#     valData   = mapillary.MapillaryDataset(url_dataset, mapillary_mapper, mapillary_config, data_type = 'val')"
   ]
  },
  {
   "cell_type": "code",
   "execution_count": null,
   "metadata": {
    "ExecuteTime": {
     "end_time": "2018-03-16T08:11:09.066732Z",
     "start_time": "2018-03-16T08:11:06.524594Z"
    }
   },
   "outputs": [],
   "source": [
    "# idx, show, verbose, test = 2459, True, True, True\n",
    "# idx, show, verbose, test = 12488, True, True, True\n",
    "# idx, show, verbose, test = 0, False, False, False\n",
    "# img = trainData.load_image(idx, show=show)\n",
    "# masks, class_ids = trainData.load_mask(idx, show=show, verbose=verbose, test=test)"
   ]
  },
  {
   "cell_type": "markdown",
   "metadata": {},
   "source": [
    "## TRAINING"
   ]
  },
  {
   "cell_type": "code",
   "execution_count": 3,
   "metadata": {
    "ExecuteTime": {
     "end_time": "2018-03-22T15:15:42.582455Z",
     "start_time": "2018-03-22T15:15:23.573308Z"
    }
   },
   "outputs": [
    {
     "name": "stdout",
     "output_type": "stream",
     "text": [
      " - Path :  /home/ubuntu/playment/Mask_RCNN/demo/model/logs/mapillary20180315T0317/mask_rcnn_mapillary_0173.h5\n"
     ]
    }
   ],
   "source": [
    "if 'src.model' in sys.modules : del sys.modules['src.model']\n",
    "if 'src.utils'     in sys.modules : del sys.modules['src.utils']\n",
    "import src.utils as utils\n",
    "import src.model as modellib\n",
    "\n",
    "    \n",
    "MODEL_DIR = os.path.join(ROOT_DIR, 'demo', 'model', 'logs')\n",
    "COCO_MODEL_PATH = os.path.join(ROOT_DIR, 'demo', 'model', \"mask_rcnn_coco.h5\")\n",
    "model = modellib.MaskRCNN(mode=\"training\", config=mapillary_config, model_dir=MODEL_DIR)\n",
    "\n",
    "# init_with = \"coco\"  # imagenet, coco, or last\n",
    "init_with = \"last\"  # imagenet, coco, or last\n",
    "\n",
    "if init_with == \"imagenet\":\n",
    "    model.load_weights(model.get_imagenet_weights(), by_name=True)\n",
    "elif init_with == \"coco\":\n",
    "    model.load_weights(COCO_MODEL_PATH, by_name=True,\n",
    "                       exclude=[\"mrcnn_class_logits\", \"mrcnn_bbox_fc\", \n",
    "                                \"mrcnn_bbox\", \"mrcnn_mask\"])\n",
    "elif init_with == \"last\":\n",
    "    model_path = model.find_last()[1]\n",
    "    print (' - Path : ', model_path)\n",
    "    model.load_weights(model_path, by_name=True)"
   ]
  },
  {
   "cell_type": "code",
   "execution_count": null,
   "metadata": {
    "ExecuteTime": {
     "start_time": "2018-03-22T15:15:45.249Z"
    },
    "scrolled": true
   },
   "outputs": [
    {
     "name": "stdout",
     "output_type": "stream",
     "text": [
      "\n",
      "Starting at epoch 174. LR=0.001\n",
      "\n",
      "Checkpoint Path: /home/ubuntu/playment/Mask_RCNN/demo/model/logs/mapillary20180315T0317/mask_rcnn_mapillary_{epoch:04d}.h5\n",
      "\n",
      "Total params: 63,803,372\n",
      "Trainable params: 21,139,052\n",
      "Non-trainable params: 42,664,320\n",
      "\n",
      "Compiled and using 2 workers! \n",
      "\n"
     ]
    },
    {
     "name": "stderr",
     "output_type": "stream",
     "text": [
      "/usr/local/lib/python3.5/dist-packages/tensorflow/python/ops/gradients_impl.py:98: UserWarning: Converting sparse IndexedSlices to a dense Tensor of unknown shape. This may consume a large amount of memory.\n",
      "  \"Converting sparse IndexedSlices to a dense Tensor of unknown shape. \"\n"
     ]
    },
    {
     "name": "stdout",
     "output_type": "stream",
     "text": [
      "Epoch 175/250\n",
      "2250/2250 [==============================] - 2097s 932ms/step - loss: 1.2445 - rpn_class_loss: 0.0569 - rpn_bbox_loss: 0.6436 - mrcnn_class_loss: 0.1296 - mrcnn_bbox_loss: 0.2021 - mrcnn_mask_loss: 0.2122 - val_loss: 1.9389 - val_rpn_class_loss: 0.0667 - val_rpn_bbox_loss: 1.0548 - val_mrcnn_class_loss: 0.3227 - val_mrcnn_bbox_loss: 0.2510 - val_mrcnn_mask_loss: 0.2437\n",
      "Epoch 176/250\n",
      "2250/2250 [==============================] - 2142s 952ms/step - loss: 1.2332 - rpn_class_loss: 0.0565 - rpn_bbox_loss: 0.6353 - mrcnn_class_loss: 0.1280 - mrcnn_bbox_loss: 0.2013 - mrcnn_mask_loss: 0.2121 - val_loss: 1.9392 - val_rpn_class_loss: 0.0667 - val_rpn_bbox_loss: 1.1017 - val_mrcnn_class_loss: 0.2642 - val_mrcnn_bbox_loss: 0.2722 - val_mrcnn_mask_loss: 0.2343\n",
      "Epoch 177/250\n",
      "2250/2250 [==============================] - 2154s 957ms/step - loss: 1.2173 - rpn_class_loss: 0.0560 - rpn_bbox_loss: 0.6245 - mrcnn_class_loss: 0.1267 - mrcnn_bbox_loss: 0.1990 - mrcnn_mask_loss: 0.2110 - val_loss: 2.0104 - val_rpn_class_loss: 0.0689 - val_rpn_bbox_loss: 1.1323 - val_mrcnn_class_loss: 0.3033 - val_mrcnn_bbox_loss: 0.2673 - val_mrcnn_mask_loss: 0.2386\n",
      "Epoch 178/250\n",
      "2250/2250 [==============================] - 2162s 961ms/step - loss: 1.2045 - rpn_class_loss: 0.0557 - rpn_bbox_loss: 0.6149 - mrcnn_class_loss: 0.1254 - mrcnn_bbox_loss: 0.1977 - mrcnn_mask_loss: 0.2108 - val_loss: 1.9337 - val_rpn_class_loss: 0.0641 - val_rpn_bbox_loss: 1.0722 - val_mrcnn_class_loss: 0.2692 - val_mrcnn_bbox_loss: 0.2808 - val_mrcnn_mask_loss: 0.2473\n",
      "Epoch 179/250\n",
      "2250/2250 [==============================] - 2158s 959ms/step - loss: 1.1908 - rpn_class_loss: 0.0553 - rpn_bbox_loss: 0.6065 - mrcnn_class_loss: 0.1236 - mrcnn_bbox_loss: 0.1955 - mrcnn_mask_loss: 0.2099 - val_loss: 1.9270 - val_rpn_class_loss: 0.0664 - val_rpn_bbox_loss: 1.0972 - val_mrcnn_class_loss: 0.2683 - val_mrcnn_bbox_loss: 0.2492 - val_mrcnn_mask_loss: 0.2459\n",
      "Epoch 180/250\n",
      "2250/2250 [==============================] - 2114s 940ms/step - loss: 1.1806 - rpn_class_loss: 0.0549 - rpn_bbox_loss: 0.5980 - mrcnn_class_loss: 0.1235 - mrcnn_bbox_loss: 0.1943 - mrcnn_mask_loss: 0.2098 - val_loss: 1.9840 - val_rpn_class_loss: 0.0656 - val_rpn_bbox_loss: 1.1266 - val_mrcnn_class_loss: 0.3103 - val_mrcnn_bbox_loss: 0.2391 - val_mrcnn_mask_loss: 0.2423\n",
      "Epoch 181/250\n",
      "2250/2250 [==============================] - 2110s 938ms/step - loss: 1.1660 - rpn_class_loss: 0.0546 - rpn_bbox_loss: 0.5880 - mrcnn_class_loss: 0.1214 - mrcnn_bbox_loss: 0.1926 - mrcnn_mask_loss: 0.2093 - val_loss: 2.0259 - val_rpn_class_loss: 0.0670 - val_rpn_bbox_loss: 1.1705 - val_mrcnn_class_loss: 0.3187 - val_mrcnn_bbox_loss: 0.2415 - val_mrcnn_mask_loss: 0.2282\n",
      "Epoch 182/250\n",
      "2250/2250 [==============================] - 2125s 944ms/step - loss: 1.1566 - rpn_class_loss: 0.0545 - rpn_bbox_loss: 0.5813 - mrcnn_class_loss: 0.1200 - mrcnn_bbox_loss: 0.1915 - mrcnn_mask_loss: 0.2093 - val_loss: 1.9823 - val_rpn_class_loss: 0.0653 - val_rpn_bbox_loss: 1.1172 - val_mrcnn_class_loss: 0.2870 - val_mrcnn_bbox_loss: 0.2660 - val_mrcnn_mask_loss: 0.2467\n",
      "Epoch 183/250\n",
      "2250/2250 [==============================] - 2126s 945ms/step - loss: 1.1440 - rpn_class_loss: 0.0540 - rpn_bbox_loss: 0.5718 - mrcnn_class_loss: 0.1191 - mrcnn_bbox_loss: 0.1903 - mrcnn_mask_loss: 0.2087 - val_loss: 2.2324 - val_rpn_class_loss: 0.0705 - val_rpn_bbox_loss: 1.2487 - val_mrcnn_class_loss: 0.4244 - val_mrcnn_bbox_loss: 0.2586 - val_mrcnn_mask_loss: 0.2302\n",
      "Epoch 184/250\n",
      "2250/2250 [==============================] - 2096s 932ms/step - loss: 1.1330 - rpn_class_loss: 0.0538 - rpn_bbox_loss: 0.5631 - mrcnn_class_loss: 0.1186 - mrcnn_bbox_loss: 0.1889 - mrcnn_mask_loss: 0.2086 - val_loss: 1.9808 - val_rpn_class_loss: 0.0640 - val_rpn_bbox_loss: 1.1267 - val_mrcnn_class_loss: 0.3151 - val_mrcnn_bbox_loss: 0.2529 - val_mrcnn_mask_loss: 0.2221\n",
      "Epoch 185/250\n",
      "2250/2250 [==============================] - 2149s 955ms/step - loss: 1.1238 - rpn_class_loss: 0.0535 - rpn_bbox_loss: 0.5577 - mrcnn_class_loss: 0.1171 - mrcnn_bbox_loss: 0.1877 - mrcnn_mask_loss: 0.2077 - val_loss: 2.1232 - val_rpn_class_loss: 0.0632 - val_rpn_bbox_loss: 1.1129 - val_mrcnn_class_loss: 0.4452 - val_mrcnn_bbox_loss: 0.2686 - val_mrcnn_mask_loss: 0.2333\n",
      "Epoch 186/250\n",
      "2250/2250 [==============================] - 2131s 947ms/step - loss: 1.1137 - rpn_class_loss: 0.0534 - rpn_bbox_loss: 0.5505 - mrcnn_class_loss: 0.1157 - mrcnn_bbox_loss: 0.1864 - mrcnn_mask_loss: 0.2077 - val_loss: 2.0532 - val_rpn_class_loss: 0.0617 - val_rpn_bbox_loss: 1.0997 - val_mrcnn_class_loss: 0.3718 - val_mrcnn_bbox_loss: 0.2648 - val_mrcnn_mask_loss: 0.2552\n",
      "Epoch 187/250\n",
      "2250/2250 [==============================] - 2123s 943ms/step - loss: 1.1040 - rpn_class_loss: 0.0530 - rpn_bbox_loss: 0.5426 - mrcnn_class_loss: 0.1153 - mrcnn_bbox_loss: 0.1853 - mrcnn_mask_loss: 0.2077 - val_loss: 1.9854 - val_rpn_class_loss: 0.0653 - val_rpn_bbox_loss: 1.1570 - val_mrcnn_class_loss: 0.2629 - val_mrcnn_bbox_loss: 0.2588 - val_mrcnn_mask_loss: 0.2414\n",
      "Epoch 188/250\n",
      "2250/2250 [==============================] - 2180s 969ms/step - loss: 1.0935 - rpn_class_loss: 0.0529 - rpn_bbox_loss: 0.5350 - mrcnn_class_loss: 0.1148 - mrcnn_bbox_loss: 0.1837 - mrcnn_mask_loss: 0.2071 - val_loss: 2.0377 - val_rpn_class_loss: 0.0651 - val_rpn_bbox_loss: 1.1155 - val_mrcnn_class_loss: 0.3559 - val_mrcnn_bbox_loss: 0.2659 - val_mrcnn_mask_loss: 0.2353\n",
      "Epoch 189/250\n",
      "2250/2250 [==============================] - 2185s 971ms/step - loss: 1.0868 - rpn_class_loss: 0.0526 - rpn_bbox_loss: 0.5302 - mrcnn_class_loss: 0.1141 - mrcnn_bbox_loss: 0.1831 - mrcnn_mask_loss: 0.2067 - val_loss: 2.0559 - val_rpn_class_loss: 0.0626 - val_rpn_bbox_loss: 1.1065 - val_mrcnn_class_loss: 0.3619 - val_mrcnn_bbox_loss: 0.2755 - val_mrcnn_mask_loss: 0.2493\n",
      "Epoch 190/250\n",
      "2250/2250 [==============================] - 2155s 958ms/step - loss: 1.0772 - rpn_class_loss: 0.0524 - rpn_bbox_loss: 0.5231 - mrcnn_class_loss: 0.1134 - mrcnn_bbox_loss: 0.1816 - mrcnn_mask_loss: 0.2066 - val_loss: 2.1600 - val_rpn_class_loss: 0.0657 - val_rpn_bbox_loss: 1.1990 - val_mrcnn_class_loss: 0.3849 - val_mrcnn_bbox_loss: 0.2728 - val_mrcnn_mask_loss: 0.2375\n",
      "Epoch 191/250\n",
      "2250/2250 [==============================] - 2180s 969ms/step - loss: 1.0696 - rpn_class_loss: 0.0522 - rpn_bbox_loss: 0.5181 - mrcnn_class_loss: 0.1130 - mrcnn_bbox_loss: 0.1805 - mrcnn_mask_loss: 0.2058 - val_loss: 2.1371 - val_rpn_class_loss: 0.0643 - val_rpn_bbox_loss: 1.1432 - val_mrcnn_class_loss: 0.4084 - val_mrcnn_bbox_loss: 0.2685 - val_mrcnn_mask_loss: 0.2528\n",
      "Epoch 192/250\n",
      "2250/2250 [==============================] - 2159s 959ms/step - loss: 1.0622 - rpn_class_loss: 0.0521 - rpn_bbox_loss: 0.5128 - mrcnn_class_loss: 0.1119 - mrcnn_bbox_loss: 0.1796 - mrcnn_mask_loss: 0.2057 - val_loss: 1.9841 - val_rpn_class_loss: 0.0644 - val_rpn_bbox_loss: 1.0916 - val_mrcnn_class_loss: 0.3404 - val_mrcnn_bbox_loss: 0.2604 - val_mrcnn_mask_loss: 0.2273\n",
      "Epoch 193/250\n",
      "2250/2250 [==============================] - 2115s 940ms/step - loss: 1.0548 - rpn_class_loss: 0.0519 - rpn_bbox_loss: 0.5069 - mrcnn_class_loss: 0.1114 - mrcnn_bbox_loss: 0.1790 - mrcnn_mask_loss: 0.2056 - val_loss: 2.1600 - val_rpn_class_loss: 0.0676 - val_rpn_bbox_loss: 1.2043 - val_mrcnn_class_loss: 0.3925 - val_mrcnn_bbox_loss: 0.2616 - val_mrcnn_mask_loss: 0.2339\n",
      "Epoch 194/250\n",
      "2250/2250 [==============================] - 2142s 952ms/step - loss: 1.0469 - rpn_class_loss: 0.0518 - rpn_bbox_loss: 0.5014 - mrcnn_class_loss: 0.1110 - mrcnn_bbox_loss: 0.1777 - mrcnn_mask_loss: 0.2050 - val_loss: 2.0747 - val_rpn_class_loss: 0.0640 - val_rpn_bbox_loss: 1.0922 - val_mrcnn_class_loss: 0.3913 - val_mrcnn_bbox_loss: 0.2796 - val_mrcnn_mask_loss: 0.2474\n",
      "Epoch 195/250\n",
      "2250/2250 [==============================] - 2163s 961ms/step - loss: 1.0416 - rpn_class_loss: 0.0515 - rpn_bbox_loss: 0.4967 - mrcnn_class_loss: 0.1110 - mrcnn_bbox_loss: 0.1774 - mrcnn_mask_loss: 0.2050 - val_loss: 2.1884 - val_rpn_class_loss: 0.0676 - val_rpn_bbox_loss: 1.2786 - val_mrcnn_class_loss: 0.3570 - val_mrcnn_bbox_loss: 0.2536 - val_mrcnn_mask_loss: 0.2316\n",
      "Epoch 196/250\n"
     ]
    },
    {
     "name": "stdout",
     "output_type": "stream",
     "text": [
      "2250/2250 [==============================] - 2146s 954ms/step - loss: 1.0366 - rpn_class_loss: 0.0514 - rpn_bbox_loss: 0.4942 - mrcnn_class_loss: 0.1104 - mrcnn_bbox_loss: 0.1762 - mrcnn_mask_loss: 0.2045 - val_loss: 2.3529 - val_rpn_class_loss: 0.0724 - val_rpn_bbox_loss: 1.3818 - val_mrcnn_class_loss: 0.4074 - val_mrcnn_bbox_loss: 0.2639 - val_mrcnn_mask_loss: 0.2274\n",
      "Epoch 197/250\n",
      "2250/2250 [==============================] - 2104s 935ms/step - loss: 1.0344 - rpn_class_loss: 0.0513 - rpn_bbox_loss: 0.4937 - mrcnn_class_loss: 0.1094 - mrcnn_bbox_loss: 0.1757 - mrcnn_mask_loss: 0.2043 - val_loss: 2.1622 - val_rpn_class_loss: 0.0633 - val_rpn_bbox_loss: 1.0882 - val_mrcnn_class_loss: 0.5216 - val_mrcnn_bbox_loss: 0.2556 - val_mrcnn_mask_loss: 0.2335\n",
      "Epoch 198/250\n",
      "2250/2250 [==============================] - 2197s 976ms/step - loss: 1.0279 - rpn_class_loss: 0.0512 - rpn_bbox_loss: 0.4874 - mrcnn_class_loss: 0.1092 - mrcnn_bbox_loss: 0.1757 - mrcnn_mask_loss: 0.2043 - val_loss: 2.0965 - val_rpn_class_loss: 0.0661 - val_rpn_bbox_loss: 1.1873 - val_mrcnn_class_loss: 0.3659 - val_mrcnn_bbox_loss: 0.2377 - val_mrcnn_mask_loss: 0.2395\n",
      "Epoch 199/250\n",
      "2250/2250 [==============================] - 2170s 965ms/step - loss: 1.0228 - rpn_class_loss: 0.0512 - rpn_bbox_loss: 0.4846 - mrcnn_class_loss: 0.1087 - mrcnn_bbox_loss: 0.1745 - mrcnn_mask_loss: 0.2039 - val_loss: 2.0659 - val_rpn_class_loss: 0.0628 - val_rpn_bbox_loss: 1.1255 - val_mrcnn_class_loss: 0.3707 - val_mrcnn_bbox_loss: 0.2718 - val_mrcnn_mask_loss: 0.2351\n",
      "Epoch 200/250\n",
      " 771/2250 [=========>....................] - ETA: 23:27 - loss: 1.0120 - rpn_class_loss: 0.0505 - rpn_bbox_loss: 0.4763 - mrcnn_class_loss: 0.1075 - mrcnn_bbox_loss: 0.1737 - mrcnn_mask_loss: 0.2040"
     ]
    }
   ],
   "source": [
    "if os.path.exists(trainData) & os.path.exists(valData): \n",
    "    model.train(trainData, valData, \n",
    "                learning_rate=mapillary_config.LEARNING_RATE\n",
    "                , epochs=250\n",
    "                , layers='heads'\n",
    "                , use_multiprocessing = True\n",
    "                , use_workers = 2 \n",
    "                , verbose_generator = False\n",
    "                \n",
    "               )\n",
    "else:\n",
    "    print ('os.path.exists(trainData) : ', os.path.exists(trainData))\n",
    "    print ('os.path.exists(valData)   : ', os.path.exists(valData))"
   ]
  },
  {
   "cell_type": "code",
   "execution_count": null,
   "metadata": {
    "ExecuteTime": {
     "start_time": "2018-03-16T06:32:46.730Z"
    }
   },
   "outputs": [],
   "source": [
    "sys.exit(1)"
   ]
  },
  {
   "cell_type": "markdown",
   "metadata": {},
   "source": [
    "# INFERENCE"
   ]
  },
  {
   "cell_type": "code",
   "execution_count": null,
   "metadata": {
    "ExecuteTime": {
     "end_time": "2018-03-16T13:24:26.120293Z",
     "start_time": "2018-03-16T13:24:12.380456Z"
    }
   },
   "outputs": [],
   "source": [
    "if 'src.model' in sys.modules : del sys.modules['src.model']\n",
    "import src.model as modellib\n",
    "\n",
    "MODEL_DIR = os.path.join(ROOT_DIR, 'demo', 'model', 'logs')\n",
    "\n",
    "class InferenceConfig(mapillary.MapillaryConfig):\n",
    "    GPU_COUNT = 1\n",
    "    IMAGES_PER_GPU = 1\n",
    "\n",
    "inference_config = InferenceConfig()\n",
    "print (' - Batch Size : ', inference_config.BATCH_SIZE)\n",
    "model = modellib.MaskRCNN(mode=\"inference\", config=inference_config, model_dir=MODEL_DIR)\n",
    "model_path = model.find_last()[1]\n",
    "print (' - Model Path : ', model_path)\n",
    "\n",
    "if model_path != None:\n",
    "    model.load_weights(model_path, by_name=True)\n",
    "else:\n",
    "    sys.exit(1)"
   ]
  },
  {
   "cell_type": "code",
   "execution_count": null,
   "metadata": {
    "ExecuteTime": {
     "end_time": "2018-03-16T13:24:26.180808Z",
     "start_time": "2018-03-16T13:24:26.122479Z"
    }
   },
   "outputs": [],
   "source": [
    "if 'src.mapillary' in sys.modules : del sys.modules['src.mapillary']\n",
    "import src.mapillary as mapillary\n",
    "testData = mapillary.MapillaryDataset(url_dataset, mapillary_mapper, mapillary_config, data_type = 'test')"
   ]
  },
  {
   "cell_type": "code",
   "execution_count": null,
   "metadata": {
    "ExecuteTime": {
     "end_time": "2018-03-16T13:34:53.172900Z",
     "start_time": "2018-03-16T13:34:50.428938Z"
    }
   },
   "outputs": [],
   "source": [
    "def get_ax(rows=1, cols=1, size=8):\n",
    "    _, ax = plt.subplots(rows, cols, figsize=(15,15))\n",
    "    return ax\n",
    "\n",
    "test_img = testData.load_image(1586)\n",
    "results  = model.detect([test_img], verbose=1)\n",
    "r = results[0]\n",
    "\n",
    "if 'src.visualize' in sys.modules : del sys.modules['src.visualize']\n",
    "import src.visualize as visualize\n",
    "visualize.display_instances(test_img, r['rois'], r['masks'], r['class_ids'], \n",
    "                            testData.class_names, r['scores'], ax=get_ax())"
   ]
  },
  {
   "cell_type": "code",
   "execution_count": null,
   "metadata": {
    "ExecuteTime": {
     "end_time": "2018-03-15T04:02:14.596109Z",
     "start_time": "2018-03-15T04:02:13.547176Z"
    }
   },
   "outputs": [],
   "source": []
  },
  {
   "cell_type": "markdown",
   "metadata": {
    "ExecuteTime": {
     "end_time": "2018-03-14T10:08:41.545028Z",
     "start_time": "2018-03-14T10:08:41.538240Z"
    }
   },
   "source": [
    "# SCRATCHPAD"
   ]
  },
  {
   "cell_type": "code",
   "execution_count": null,
   "metadata": {},
   "outputs": [],
   "source": []
  }
 ],
 "metadata": {
  "kernelspec": {
   "display_name": "Python 3",
   "language": "python",
   "name": "python3"
  },
  "language_info": {
   "codemirror_mode": {
    "name": "ipython",
    "version": 3
   },
   "file_extension": ".py",
   "mimetype": "text/x-python",
   "name": "python",
   "nbconvert_exporter": "python",
   "pygments_lexer": "ipython3",
   "version": "3.5.2"
  }
 },
 "nbformat": 4,
 "nbformat_minor": 2
}
