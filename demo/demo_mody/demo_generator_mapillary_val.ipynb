{
 "cells": [
  {
   "cell_type": "code",
   "execution_count": 1,
   "metadata": {
    "ExecuteTime": {
     "end_time": "2018-03-16T10:28:04.395936Z",
     "start_time": "2018-03-16T10:28:03.164599Z"
    }
   },
   "outputs": [
    {
     "name": "stderr",
     "output_type": "stream",
     "text": [
      "/usr/local/lib/python3.5/dist-packages/h5py/__init__.py:36: FutureWarning: Conversion of the second argument of issubdtype from `float` to `np.floating` is deprecated. In future, it will be treated as `np.float64 == np.dtype(float).type`.\n",
      "  from ._conv import register_converters as _register_converters\n"
     ]
    },
    {
     "name": "stdout",
     "output_type": "stream",
     "text": [
      "TF :  1.6.0   Keras :  2.1.5   CUDA :  CUDA Version 9.0.176\n",
      "\n"
     ]
    },
    {
     "name": "stderr",
     "output_type": "stream",
     "text": [
      "Using TensorFlow backend.\n"
     ]
    }
   ],
   "source": [
    "## STANDARD PYTHON LIBS\n",
    "import os\n",
    "import sys\n",
    "import numpy as np\n",
    "import matplotlib.pyplot as plt\n",
    "%matplotlib inline\n",
    "\n",
    "## ADDING TO ROOT\n",
    "ROOT_DIR = os.path.abspath(os.path.join(os.getcwd(), '../../'))\n",
    "sys.path.append(ROOT_DIR)\n",
    "\n",
    "## CUSTOM LIBS\n",
    "import src.utils as utils\n",
    "import src.model as modellib\n",
    "from src.config import Config\n",
    "import src.visualize as visualize\n",
    "\n",
    "# GPU LIBS\n",
    "import keras\n",
    "import tensorflow as tf\n",
    "\n",
    "cuda_version = os.popen(\"cat /usr/local/cuda/version.txt \").read()\n",
    "print ('TF : ', tf.__version__, '  Keras : ', keras.__version__, '  CUDA : ', cuda_version)"
   ]
  },
  {
   "cell_type": "code",
   "execution_count": 2,
   "metadata": {
    "ExecuteTime": {
     "end_time": "2018-03-16T10:28:06.436368Z",
     "start_time": "2018-03-16T10:28:06.307788Z"
    }
   },
   "outputs": [
    {
     "name": "stdout",
     "output_type": "stream",
     "text": [
      "Mode : train has 17979 images\n",
      "Mode : val has 2000 images\n"
     ]
    }
   ],
   "source": [
    "if 'src.mapillary' in sys.modules : del sys.modules['src.mapillary']\n",
    "if 'src.utils'     in sys.modules : del sys.modules['src.utils']\n",
    "if 'src.model'     in sys.modules : del sys.modules['src.model']\n",
    "\n",
    "import src.utils as utils\n",
    "import src.model as modellib\n",
    "import src.mapillary as mapillary\n",
    "\n",
    "if __name__ == \"__main__\":\n",
    "    url_dataset = '/home/play/datasets/open_datasets/mapillary'\n",
    "    mapillary_mapper = '/home/play/playment/Mask_RCNN/demo/raw/merge__cityscapes_mapillary_v2.json'\n",
    "    mapillary_config = mapillary.MapillaryConfig()\n",
    "    mapillary_config.IMAGES_PER_GPU = 8\n",
    "    mapillary_config.STEPS_PER_EPOCH = 10\n",
    "    trainData = mapillary.MapillaryDataset(url_dataset, mapillary_mapper, mapillary_config, data_type = 'train')\n",
    "    valData   = mapillary.MapillaryDataset(url_dataset, mapillary_mapper, mapillary_config, data_type = 'val')"
   ]
  },
  {
   "cell_type": "code",
   "execution_count": null,
   "metadata": {
    "ExecuteTime": {
     "start_time": "2018-03-16T10:41:33.083Z"
    },
    "scrolled": true
   },
   "outputs": [
    {
     "name": "stdout",
     "output_type": "stream",
     "text": [
      "mapillary_config.BATCH_SIZE :  8\n",
      "Saving in dir :  /home/play/datasets/open_datasets/mapillary_hdf5/mapillary-vistas-dataset_public_v1.0/validation\n",
      " -------> Time taken for save : 66.34 || URL : 0\n",
      " ----> Time Taken for one batch 66.34 || Final Index : 7\n",
      " -------> Time taken for save : 61.13 || URL : 1\n",
      " ----> Time Taken for one batch 61.13 || Final Index : 15\n",
      " -------> Time taken for save : 58.84 || URL : 2\n",
      " ----> Time Taken for one batch 58.84 || Final Index : 23\n",
      " -------> Time taken for save : 48.58 || URL : 3\n",
      " ----> Time Taken for one batch 48.58 || Final Index : 31\n",
      " -------> Time taken for save : 42.29 || URL : 4\n",
      " ----> Time Taken for one batch 42.29 || Final Index : 39\n",
      " -------> Time taken for save : 35.65 || URL : 5\n",
      " ----> Time Taken for one batch 35.65 || Final Index : 47\n",
      " -------> Time taken for save : 40.31 || URL : 6\n",
      " ----> Time Taken for one batch 40.31 || Final Index : 55\n",
      " -------> Time taken for save : 50.62 || URL : 7\n",
      " ----> Time Taken for one batch 50.62 || Final Index : 63\n",
      " -------> Time taken for save : 37.67 || URL : 8\n",
      " ----> Time Taken for one batch 37.67 || Final Index : 71\n",
      " -------> Time taken for save : 47.04 || URL : 9\n",
      " ----> Time Taken for one batch 47.04 || Final Index : 79\n",
      " -------> Time taken for save : 40.45 || URL : 10\n",
      " ----> Time Taken for one batch 40.45 || Final Index : 87\n",
      " -------> Time taken for save : 36.41 || URL : 11\n",
      " ----> Time Taken for one batch 36.41 || Final Index : 95\n",
      " -------> Time taken for save : 42.57 || URL : 12\n",
      " ----> Time Taken for one batch 42.57 || Final Index : 103\n",
      " -------> Time taken for save : 35.14 || URL : 13\n",
      " ----> Time Taken for one batch 35.14 || Final Index : 111\n",
      " -------> Time taken for save : 57.84 || URL : 14\n",
      " ----> Time Taken for one batch 57.84 || Final Index : 119\n",
      " -------> Time taken for save : 54.11 || URL : 15\n",
      " ----> Time Taken for one batch 54.11 || Final Index : 127\n",
      " -------> Time taken for save : 41.73 || URL : 16\n",
      " ----> Time Taken for one batch 41.73 || Final Index : 135\n",
      " -------> Time taken for save : 32.4 || URL : 17\n",
      " ----> Time Taken for one batch 32.4 || Final Index : 143\n",
      " -------> Time taken for save : 49.98 || URL : 18\n",
      " ----> Time Taken for one batch 49.98 || Final Index : 151\n",
      " -------> Time taken for save : 47.76 || URL : 19\n",
      " ----> Time Taken for one batch 47.76 || Final Index : 159\n",
      " -------> Time taken for save : 45.47 || URL : 20\n",
      " ----> Time Taken for one batch 45.47 || Final Index : 167\n",
      " -------> Time taken for save : 55.11 || URL : 21\n",
      " ----> Time Taken for one batch 55.11 || Final Index : 175\n",
      " -------> Time taken for save : 44.03 || URL : 22\n",
      " ----> Time Taken for one batch 44.03 || Final Index : 183\n",
      " -------> Time taken for save : 43.03 || URL : 23\n",
      " ----> Time Taken for one batch 43.03 || Final Index : 191\n",
      " -------> Time taken for save : 43.48 || URL : 24\n",
      " ----> Time Taken for one batch 43.48 || Final Index : 199\n",
      " -------> Time taken for save : 53.72 || URL : 25\n",
      " ----> Time Taken for one batch 53.72 || Final Index : 207\n",
      " -------> Time taken for save : 43.39 || URL : 26\n",
      " ----> Time Taken for one batch 43.39 || Final Index : 215\n",
      " -------> Time taken for save : 46.2 || URL : 27\n",
      " ----> Time Taken for one batch 46.2 || Final Index : 223\n",
      " -------> Time taken for save : 38.82 || URL : 28\n",
      " ----> Time Taken for one batch 38.82 || Final Index : 231\n",
      " -------> Time taken for save : 42.61 || URL : 29\n",
      " ----> Time Taken for one batch 42.61 || Final Index : 239\n",
      " -------> Time taken for save : 52.85 || URL : 30\n",
      " ----> Time Taken for one batch 52.85 || Final Index : 247\n",
      " -------> Time taken for save : 45.11 || URL : 31\n",
      " ----> Time Taken for one batch 45.11 || Final Index : 255\n",
      " -------> Time taken for save : 45.13 || URL : 32\n",
      " ----> Time Taken for one batch 45.13 || Final Index : 263\n",
      " -------> Time taken for save : 47.4 || URL : 33\n",
      " ----> Time Taken for one batch 47.4 || Final Index : 271\n",
      " -------> Time taken for save : 25.19 || URL : 34\n",
      " ----> Time Taken for one batch 25.19 || Final Index : 279\n",
      " -------> Time taken for save : 53.91 || URL : 35\n",
      " ----> Time Taken for one batch 53.91 || Final Index : 287\n",
      " -------> Time taken for save : 62.36 || URL : 36\n",
      " ----> Time Taken for one batch 62.36 || Final Index : 295\n",
      " -------> Time taken for save : 63.74 || URL : 37\n",
      " ----> Time Taken for one batch 63.74 || Final Index : 303\n",
      " -------> Time taken for save : 54.01 || URL : 38\n",
      " ----> Time Taken for one batch 54.01 || Final Index : 311\n",
      " -------> Time taken for save : 58.98 || URL : 39\n",
      " ----> Time Taken for one batch 58.98 || Final Index : 319\n",
      " -------> Time taken for save : 60.36 || URL : 40\n",
      " ----> Time Taken for one batch 60.36 || Final Index : 327\n",
      " -------> Time taken for save : 48.43 || URL : 41\n",
      " ----> Time Taken for one batch 48.43 || Final Index : 335\n",
      " -------> Time taken for save : 36.74 || URL : 42\n",
      " ----> Time Taken for one batch 36.74 || Final Index : 343\n",
      " -------> Time taken for save : 30.45 || URL : 43\n",
      " ----> Time Taken for one batch 30.45 || Final Index : 351\n",
      " -------> Time taken for save : 36.83 || URL : 44\n",
      " ----> Time Taken for one batch 36.83 || Final Index : 359\n",
      " -------> Time taken for save : 51.23 || URL : 45\n",
      " ----> Time Taken for one batch 51.23 || Final Index : 367\n",
      " -------> Time taken for save : 58.72 || URL : 46\n",
      " ----> Time Taken for one batch 58.72 || Final Index : 375\n",
      " -------> Time taken for save : 55.77 || URL : 47\n",
      " ----> Time Taken for one batch 55.77 || Final Index : 383\n",
      " -------> Time taken for save : 63.27 || URL : 48\n",
      " ----> Time Taken for one batch 63.27 || Final Index : 391\n",
      " -------> Time taken for save : 50.25 || URL : 49\n",
      " ----> Time Taken for one batch 50.25 || Final Index : 399\n",
      " -------> Time taken for save : 22.61 || URL : 50\n",
      " ----> Time Taken for one batch 22.61 || Final Index : 407\n",
      " -------> Time taken for save : 42.26 || URL : 51\n",
      " ----> Time Taken for one batch 42.26 || Final Index : 415\n",
      " -------> Time taken for save : 58.05 || URL : 52\n",
      " ----> Time Taken for one batch 58.05 || Final Index : 423\n",
      " -------> Time taken for save : 72.14 || URL : 53\n",
      " ----> Time Taken for one batch 72.14 || Final Index : 431\n",
      " -------> Time taken for save : 35.54 || URL : 54\n",
      " ----> Time Taken for one batch 35.54 || Final Index : 439\n",
      " -------> Time taken for save : 53.1 || URL : 55\n",
      " ----> Time Taken for one batch 53.1 || Final Index : 447\n",
      " -------> Time taken for save : 49.28 || URL : 56\n",
      " ----> Time Taken for one batch 49.28 || Final Index : 455\n",
      " -------> Time taken for save : 37.62 || URL : 57\n",
      " ----> Time Taken for one batch 37.62 || Final Index : 463\n",
      " -------> Time taken for save : 34.13 || URL : 58\n",
      " ----> Time Taken for one batch 34.13 || Final Index : 471\n",
      " -------> Time taken for save : 47.48 || URL : 59\n",
      " ----> Time Taken for one batch 47.48 || Final Index : 479\n",
      " -------> Time taken for save : 43.11 || URL : 60\n",
      " ----> Time Taken for one batch 43.11 || Final Index : 487\n",
      " -------> Time taken for save : 43.18 || URL : 61\n",
      " ----> Time Taken for one batch 43.18 || Final Index : 495\n",
      " -------> Time taken for save : 43.47 || URL : 62\n",
      " ----> Time Taken for one batch 43.47 || Final Index : 503\n",
      " -------> Time taken for save : 50.38 || URL : 63\n",
      " ----> Time Taken for one batch 50.38 || Final Index : 511\n",
      " -------> Time taken for save : 37.83 || URL : 64\n",
      " ----> Time Taken for one batch 37.83 || Final Index : 519\n",
      " -------> Time taken for save : 53.04 || URL : 65\n",
      " ----> Time Taken for one batch 53.04 || Final Index : 527\n",
      " -------> Time taken for save : 46.65 || URL : 66\n",
      " ----> Time Taken for one batch 46.65 || Final Index : 535\n",
      " -------> Time taken for save : 49.31 || URL : 67\n",
      " ----> Time Taken for one batch 49.31 || Final Index : 543\n",
      " -------> Time taken for save : 33.02 || URL : 68\n",
      " ----> Time Taken for one batch 33.02 || Final Index : 551\n",
      " -------> Time taken for save : 39.31 || URL : 69\n",
      " ----> Time Taken for one batch 39.3 || Final Index : 559\n",
      " -------> Time taken for save : 63.2 || URL : 70\n",
      " ----> Time Taken for one batch 63.2 || Final Index : 567\n",
      " -------> Time taken for save : 74.38 || URL : 71\n",
      " ----> Time Taken for one batch 74.38 || Final Index : 575\n",
      " -------> Time taken for save : 62.56 || URL : 72\n",
      " ----> Time Taken for one batch 62.56 || Final Index : 583\n",
      " -------> Time taken for save : 58.54 || URL : 73\n",
      " ----> Time Taken for one batch 58.54 || Final Index : 591\n",
      " -------> Time taken for save : 55.51 || URL : 74\n",
      " ----> Time Taken for one batch 55.51 || Final Index : 599\n"
     ]
    },
    {
     "name": "stdout",
     "output_type": "stream",
     "text": [
      " -------> Time taken for save : 46.25 || URL : 75\n",
      " ----> Time Taken for one batch 46.25 || Final Index : 607\n",
      " -------> Time taken for save : 50.35 || URL : 76\n",
      " ----> Time Taken for one batch 50.35 || Final Index : 615\n",
      " -------> Time taken for save : 40.54 || URL : 77\n",
      " ----> Time Taken for one batch 40.54 || Final Index : 623\n",
      " -------> Time taken for save : 57.6 || URL : 78\n",
      " ----> Time Taken for one batch 57.6 || Final Index : 631\n",
      " -------> Time taken for save : 53.7 || URL : 79\n",
      " ----> Time Taken for one batch 53.7 || Final Index : 639\n",
      " -------> Time taken for save : 70.8 || URL : 80\n",
      " ----> Time Taken for one batch 70.8 || Final Index : 647\n",
      " -------> Time taken for save : 58.96 || URL : 81\n",
      " ----> Time Taken for one batch 58.96 || Final Index : 655\n",
      " -------> Time taken for save : 48.36 || URL : 82\n",
      " ----> Time Taken for one batch 48.36 || Final Index : 663\n",
      " -------> Time taken for save : 51.44 || URL : 83\n",
      " ----> Time Taken for one batch 51.44 || Final Index : 671\n",
      " -------> Time taken for save : 54.87 || URL : 84\n",
      " ----> Time Taken for one batch 54.87 || Final Index : 679\n",
      " -------> Time taken for save : 33.4 || URL : 85\n",
      " ----> Time Taken for one batch 33.4 || Final Index : 687\n",
      " -------> Time taken for save : 44.24 || URL : 86\n",
      " ----> Time Taken for one batch 44.24 || Final Index : 695\n"
     ]
    }
   ],
   "source": [
    "import h5py\n",
    "import time\n",
    "\n",
    "def create_hdf5(generator, url_dataset, counter):\n",
    "    print ('Saving in dir : ', url_dataset)\n",
    "    iters = 0\n",
    "    while True:\n",
    "        t0 = time.time()\n",
    "        url_tmp = os.path.join(url_dataset, '{}.h5'.format(iters))\n",
    "        data = next(generator)\n",
    "        if len(data) == 2:\n",
    "            ip = data[0]\n",
    "            op = data[1]\n",
    "        with h5py.File(url_tmp, \"w\") as hf:\n",
    "            for i, each in enumerate(ip):\n",
    "                hf.create_dataset('input_{0}'.format(i), data=each)\n",
    "            if len(op):\n",
    "                for i, each in enumerate(op):\n",
    "                    hf.create_dataset('output_{0}'.format(i), data=each)\n",
    "            else:\n",
    "                hf.create_dataset('output'.format(i), data=op)\n",
    "\n",
    "        print (' -------> Time taken for save : {0} || URL : {1}'.format(round(time.time() - t0,2), iters))\n",
    "        iters += 1\n",
    "        if iters > counter:\n",
    "            break\n",
    "\n",
    "print ('mapillary_config.BATCH_SIZE : ', mapillary_config.BATCH_SIZE)\n",
    "val_generator = modellib.data_generator(valData, mapillary_config, shuffle=True, batch_size=mapillary_config.BATCH_SIZE)\n",
    "url_dataset_val = '/home/play/datasets/open_datasets/mapillary_hdf5/mapillary-vistas-dataset_public_v1.0/validation'\n",
    "create_hdf5(val_generator, url_dataset_val, counter = 250)"
   ]
  },
  {
   "cell_type": "code",
   "execution_count": 5,
   "metadata": {
    "ExecuteTime": {
     "end_time": "2018-03-16T10:17:41.179578Z",
     "start_time": "2018-03-16T10:17:41.161751Z"
    }
   },
   "outputs": [],
   "source": [
    "def data_generator(url_dataset):\n",
    "    while True:\n",
    "        for each in os.listdir(dataset):\n",
    "            url_tmp = os.path.join(url_dataset_train, each)\n",
    "            ip, op = [], []\n",
    "            print (url_tmp)\n",
    "            with h5py.File(url_tmp, \"r\") as hf:\n",
    "                ip, op = [], []\n",
    "                for name in hf:\n",
    "                    if 'input' in name:\n",
    "                        ip.append(np.array(hf.get(name)))\n",
    "                    elif 'output' in name:\n",
    "                        op.append(np.array(hf.get(name)))\n",
    "            yield ip, op[0]\n",
    "\n",
    "gen = data_generator('', '')"
   ]
  },
  {
   "cell_type": "code",
   "execution_count": 6,
   "metadata": {
    "ExecuteTime": {
     "end_time": "2018-03-16T10:17:41.303942Z",
     "start_time": "2018-03-16T10:17:41.181856Z"
    }
   },
   "outputs": [
    {
     "ename": "NameError",
     "evalue": "name 'url_dataset_train' is not defined",
     "output_type": "error",
     "traceback": [
      "\u001b[0;31m---------------------------------------------------------------------------\u001b[0m",
      "\u001b[0;31mNameError\u001b[0m                                 Traceback (most recent call last)",
      "\u001b[0;32m<ipython-input-6-6e72e47198db>\u001b[0m in \u001b[0;36m<module>\u001b[0;34m()\u001b[0m\n\u001b[0;32m----> 1\u001b[0;31m \u001b[0mnext\u001b[0m\u001b[0;34m(\u001b[0m\u001b[0mgen\u001b[0m\u001b[0;34m)\u001b[0m\u001b[0;34m\u001b[0m\u001b[0m\n\u001b[0m",
      "\u001b[0;32m<ipython-input-5-77c10f6d9ba1>\u001b[0m in \u001b[0;36mdata_generator\u001b[0;34m(dataset, config, shuffle, augment, random_rois, batch_size, detection_targets)\u001b[0m\n\u001b[1;32m      2\u001b[0m                    batch_size=1, detection_targets=False):\n\u001b[1;32m      3\u001b[0m     \u001b[0;32mwhile\u001b[0m \u001b[0;32mTrue\u001b[0m\u001b[0;34m:\u001b[0m\u001b[0;34m\u001b[0m\u001b[0m\n\u001b[0;32m----> 4\u001b[0;31m         \u001b[0;32mfor\u001b[0m \u001b[0meach\u001b[0m \u001b[0;32min\u001b[0m \u001b[0mos\u001b[0m\u001b[0;34m.\u001b[0m\u001b[0mlistdir\u001b[0m\u001b[0;34m(\u001b[0m\u001b[0murl_dataset_train\u001b[0m\u001b[0;34m)\u001b[0m\u001b[0;34m:\u001b[0m\u001b[0;34m\u001b[0m\u001b[0m\n\u001b[0m\u001b[1;32m      5\u001b[0m             \u001b[0murl_tmp\u001b[0m \u001b[0;34m=\u001b[0m \u001b[0mos\u001b[0m\u001b[0;34m.\u001b[0m\u001b[0mpath\u001b[0m\u001b[0;34m.\u001b[0m\u001b[0mjoin\u001b[0m\u001b[0;34m(\u001b[0m\u001b[0murl_dataset_train\u001b[0m\u001b[0;34m,\u001b[0m \u001b[0meach\u001b[0m\u001b[0;34m)\u001b[0m\u001b[0;34m\u001b[0m\u001b[0m\n\u001b[1;32m      6\u001b[0m             \u001b[0mip\u001b[0m\u001b[0;34m,\u001b[0m \u001b[0mop\u001b[0m \u001b[0;34m=\u001b[0m \u001b[0;34m[\u001b[0m\u001b[0;34m]\u001b[0m\u001b[0;34m,\u001b[0m \u001b[0;34m[\u001b[0m\u001b[0;34m]\u001b[0m\u001b[0;34m\u001b[0m\u001b[0m\n",
      "\u001b[0;31mNameError\u001b[0m: name 'url_dataset_train' is not defined"
     ]
    }
   ],
   "source": [
    "next(gen)"
   ]
  },
  {
   "cell_type": "code",
   "execution_count": null,
   "metadata": {
    "ExecuteTime": {
     "end_time": "2018-03-16T10:16:30.535252Z",
     "start_time": "2018-03-16T10:16:30.471097Z"
    }
   },
   "outputs": [],
   "source": []
  },
  {
   "cell_type": "code",
   "execution_count": null,
   "metadata": {},
   "outputs": [],
   "source": []
  }
 ],
 "metadata": {
  "kernelspec": {
   "display_name": "Python 3",
   "language": "python",
   "name": "python3"
  },
  "language_info": {
   "codemirror_mode": {
    "name": "ipython",
    "version": 3
   },
   "file_extension": ".py",
   "mimetype": "text/x-python",
   "name": "python",
   "nbconvert_exporter": "python",
   "pygments_lexer": "ipython3",
   "version": "3.5.2"
  }
 },
 "nbformat": 4,
 "nbformat_minor": 2
}
