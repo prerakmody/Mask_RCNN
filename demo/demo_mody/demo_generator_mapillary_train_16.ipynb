{
 "cells": [
  {
   "cell_type": "code",
   "execution_count": 2,
   "metadata": {
    "ExecuteTime": {
     "end_time": "2018-03-17T08:07:23.399933Z",
     "start_time": "2018-03-17T08:07:16.128318Z"
    }
   },
   "outputs": [
    {
     "name": "stderr",
     "output_type": "stream",
     "text": [
      "/usr/local/lib/python3.5/dist-packages/h5py/__init__.py:36: FutureWarning: Conversion of the second argument of issubdtype from `float` to `np.floating` is deprecated. In future, it will be treated as `np.float64 == np.dtype(float).type`.\n",
      "  from ._conv import register_converters as _register_converters\n",
      "Using TensorFlow backend.\n"
     ]
    },
    {
     "name": "stdout",
     "output_type": "stream",
     "text": [
      "TF :  1.6.0   Keras :  2.1.5   CUDA :  CUDA Version 9.0.176\n",
      "\n"
     ]
    }
   ],
   "source": [
    "## STANDARD PYTHON LIBS\n",
    "import os\n",
    "import sys\n",
    "import numpy as np\n",
    "import matplotlib.pyplot as plt\n",
    "%matplotlib inline\n",
    "\n",
    "## ADDING TO ROOT\n",
    "ROOT_DIR = os.path.abspath(os.path.join(os.getcwd(), '../../'))\n",
    "sys.path.append(ROOT_DIR)\n",
    "\n",
    "## CUSTOM LIBS\n",
    "import src.utils as utils\n",
    "import src.model as modellib\n",
    "from src.config import Config\n",
    "import src.visualize as visualize\n",
    "\n",
    "# GPU LIBS\n",
    "import keras\n",
    "import tensorflow as tf\n",
    "\n",
    "cuda_version = os.popen(\"cat /usr/local/cuda/version.txt \").read()\n",
    "print ('TF : ', tf.__version__, '  Keras : ', keras.__version__, '  CUDA : ', cuda_version)"
   ]
  },
  {
   "cell_type": "code",
   "execution_count": 6,
   "metadata": {
    "ExecuteTime": {
     "end_time": "2018-03-17T08:24:44.761262Z",
     "start_time": "2018-03-17T08:24:44.687376Z"
    }
   },
   "outputs": [
    {
     "name": "stdout",
     "output_type": "stream",
     "text": [
      "16\n",
      "Mode : train has 17979 images\n",
      "Mode : val has 2000 images\n"
     ]
    }
   ],
   "source": [
    "if 'src.mapillary' in sys.modules : del sys.modules['src.mapillary']\n",
    "if 'src.utils'     in sys.modules : del sys.modules['src.utils']\n",
    "if 'src.model'     in sys.modules : del sys.modules['src.model']\n",
    "\n",
    "import src.utils as utils\n",
    "import src.model as modellib\n",
    "import src.mapillary as mapillary\n",
    "\n",
    "if __name__ == \"__main__\":\n",
    "    url_dataset = '/home/play/datasets/open_datasets/mapillary'\n",
    "    mapillary_mapper = '/home/play/playment/Mask_RCNN/demo/raw/merge__cityscapes_mapillary_v2.json'\n",
    "    mapillary_config = mapillary.MapillaryConfig(images_per_gpu=16, gpu_count=1)\n",
    "    print (mapillary_config.BATCH_SIZE)\n",
    "    trainData = mapillary.MapillaryDataset(url_dataset, mapillary_mapper, mapillary_config, data_type = 'train')\n",
    "    valData   = mapillary.MapillaryDataset(url_dataset, mapillary_mapper, mapillary_config, data_type = 'val')"
   ]
  },
  {
   "cell_type": "code",
   "execution_count": null,
   "metadata": {
    "ExecuteTime": {
     "start_time": "2018-03-17T08:24:44.936Z"
    },
    "scrolled": true
   },
   "outputs": [
    {
     "name": "stdout",
     "output_type": "stream",
     "text": [
      "mapillary_config.BATCH_SIZE :  16\n",
      "Saving in dir :  /home/play/datasets/open_datasets/mapillary_hdf5_16/mapillary-vistas-dataset_public_v1.0/training\n",
      " -------> Time taken for save : 113.8 || URL : 0\n",
      " ----> Time Taken for one batch 113.79 || Final Index : 15\n",
      " -------> Time taken for save : 121.6 || URL : 1\n",
      " ----> Time Taken for one batch 121.6 || Final Index : 31\n",
      " -------> Time taken for save : 113.2 || URL : 2\n",
      " ----> Time Taken for one batch 113.2 || Final Index : 47\n",
      " -------> Time taken for save : 79.59 || URL : 3\n",
      " ----> Time Taken for one batch 79.59 || Final Index : 63\n",
      " -------> Time taken for save : 92.15 || URL : 4\n",
      " ----> Time Taken for one batch 92.15 || Final Index : 79\n",
      " -------> Time taken for save : 108.83 || URL : 5\n",
      " ----> Time Taken for one batch 108.84 || Final Index : 95\n",
      " -------> Time taken for save : 108.32 || URL : 6\n",
      " ----> Time Taken for one batch 108.32 || Final Index : 111\n",
      " -------> Time taken for save : 98.75 || URL : 7\n",
      " ----> Time Taken for one batch 98.75 || Final Index : 127\n",
      " -------> Time taken for save : 97.98 || URL : 8\n",
      " ----> Time Taken for one batch 97.98 || Final Index : 143\n",
      " -------> Time taken for save : 101.76 || URL : 9\n",
      " ----> Time Taken for one batch 101.76 || Final Index : 159\n",
      " -------> Time taken for save : 108.81 || URL : 10\n",
      " ----> Time Taken for one batch 108.81 || Final Index : 175\n",
      " -------> Time taken for save : 73.44 || URL : 11\n",
      " ----> Time Taken for one batch 73.44 || Final Index : 191\n",
      " -------> Time taken for save : 96.2 || URL : 12\n",
      " ----> Time Taken for one batch 96.2 || Final Index : 207\n",
      " -------> Time taken for save : 81.92 || URL : 13\n",
      " ----> Time Taken for one batch 81.92 || Final Index : 223\n",
      " -------> Time taken for save : 87.96 || URL : 14\n",
      " ----> Time Taken for one batch 87.96 || Final Index : 239\n",
      " -------> Time taken for save : 96.47 || URL : 15\n",
      " ----> Time Taken for one batch 96.47 || Final Index : 255\n",
      " -------> Time taken for save : 88.21 || URL : 16\n",
      " ----> Time Taken for one batch 88.21 || Final Index : 271\n",
      " -------> Time taken for save : 113.76 || URL : 17\n",
      " ----> Time Taken for one batch 113.76 || Final Index : 287\n",
      " -------> Time taken for save : 111.01 || URL : 18\n",
      " ----> Time Taken for one batch 111.01 || Final Index : 303\n",
      " -------> Time taken for save : 105.86 || URL : 19\n",
      " ----> Time Taken for one batch 105.86 || Final Index : 319\n",
      " -------> Time taken for save : 105.27 || URL : 20\n",
      " ----> Time Taken for one batch 105.27 || Final Index : 335\n",
      " -------> Time taken for save : 91.55 || URL : 21\n",
      " ----> Time Taken for one batch 91.55 || Final Index : 351\n",
      " -------> Time taken for save : 117.61 || URL : 22\n",
      " ----> Time Taken for one batch 117.61 || Final Index : 367\n",
      " -------> Time taken for save : 84.12 || URL : 23\n",
      " ----> Time Taken for one batch 84.12 || Final Index : 383\n",
      " -------> Time taken for save : 112.13 || URL : 24\n",
      " ----> Time Taken for one batch 112.13 || Final Index : 399\n",
      " -------> Time taken for save : 82.47 || URL : 25\n",
      " ----> Time Taken for one batch 82.47 || Final Index : 415\n",
      " -------> Time taken for save : 109.32 || URL : 26\n",
      " ----> Time Taken for one batch 109.32 || Final Index : 431\n",
      " -------> Time taken for save : 114.43 || URL : 27\n",
      " ----> Time Taken for one batch 114.43 || Final Index : 447\n",
      " -------> Time taken for save : 82.57 || URL : 28\n",
      " ----> Time Taken for one batch 82.57 || Final Index : 463\n",
      " -------> Time taken for save : 97.45 || URL : 29\n",
      " ----> Time Taken for one batch 97.45 || Final Index : 479\n",
      " -------> Time taken for save : 108.97 || URL : 30\n",
      " ----> Time Taken for one batch 108.97 || Final Index : 495\n",
      " -------> Time taken for save : 100.52 || URL : 31\n",
      " ----> Time Taken for one batch 100.52 || Final Index : 511\n",
      " -------> Time taken for save : 100.33 || URL : 32\n",
      " ----> Time Taken for one batch 100.33 || Final Index : 527\n",
      " -------> Time taken for save : 117.54 || URL : 33\n",
      " ----> Time Taken for one batch 117.54 || Final Index : 543\n",
      " -------> Time taken for save : 90.8 || URL : 34\n",
      " ----> Time Taken for one batch 90.8 || Final Index : 559\n",
      " -------> Time taken for save : 89.55 || URL : 35\n",
      " ----> Time Taken for one batch 89.55 || Final Index : 575\n",
      " -------> Time taken for save : 105.08 || URL : 36\n",
      " ----> Time Taken for one batch 105.08 || Final Index : 591\n",
      " -------> Time taken for save : 89.62 || URL : 37\n",
      " ----> Time Taken for one batch 89.62 || Final Index : 607\n",
      " -------> Time taken for save : 80.58 || URL : 38\n",
      " ----> Time Taken for one batch 80.58 || Final Index : 623\n",
      " -------> Time taken for save : 98.39 || URL : 39\n",
      " ----> Time Taken for one batch 98.39 || Final Index : 639\n",
      " -------> Time taken for save : 115.79 || URL : 40\n",
      " ----> Time Taken for one batch 115.79 || Final Index : 655\n",
      " -------> Time taken for save : 78.09 || URL : 41\n",
      " ----> Time Taken for one batch 78.09 || Final Index : 671\n",
      " -------> Time taken for save : 108.01 || URL : 42\n",
      " ----> Time Taken for one batch 108.01 || Final Index : 687\n",
      " -------> Time taken for save : 83.99 || URL : 43\n",
      " ----> Time Taken for one batch 83.99 || Final Index : 703\n",
      " -------> Time taken for save : 75.74 || URL : 44\n",
      " ----> Time Taken for one batch 75.74 || Final Index : 719\n",
      " -------> Time taken for save : 104.65 || URL : 45\n",
      " ----> Time Taken for one batch 104.65 || Final Index : 735\n",
      " -------> Time taken for save : 106.63 || URL : 46\n",
      " ----> Time Taken for one batch 106.63 || Final Index : 751\n",
      " -------> Time taken for save : 90.36 || URL : 47\n",
      " ----> Time Taken for one batch 90.36 || Final Index : 767\n",
      " -------> Time taken for save : 99.49 || URL : 48\n",
      " ----> Time Taken for one batch 99.49 || Final Index : 783\n",
      " -------> Time taken for save : 114.45 || URL : 49\n",
      " ----> Time Taken for one batch 114.46 || Final Index : 799\n",
      " -------> Time taken for save : 95.41 || URL : 50\n",
      " ----> Time Taken for one batch 95.41 || Final Index : 815\n",
      " -------> Time taken for save : 115.68 || URL : 51\n",
      " ----> Time Taken for one batch 115.68 || Final Index : 831\n",
      " -------> Time taken for save : 86.86 || URL : 52\n",
      " ----> Time Taken for one batch 86.86 || Final Index : 847\n",
      " -------> Time taken for save : 137.65 || URL : 53\n",
      " ----> Time Taken for one batch 137.65 || Final Index : 863\n",
      " -------> Time taken for save : 115.41 || URL : 54\n",
      " ----> Time Taken for one batch 115.41 || Final Index : 879\n",
      " -------> Time taken for save : 102.62 || URL : 55\n",
      " ----> Time Taken for one batch 102.62 || Final Index : 895\n",
      " -------> Time taken for save : 90.06 || URL : 56\n",
      " ----> Time Taken for one batch 90.06 || Final Index : 911\n",
      " -------> Time taken for save : 92.32 || URL : 57\n",
      " ----> Time Taken for one batch 92.32 || Final Index : 927\n",
      " -------> Time taken for save : 94.66 || URL : 58\n",
      " ----> Time Taken for one batch 94.67 || Final Index : 943\n",
      " -------> Time taken for save : 93.62 || URL : 59\n",
      " ----> Time Taken for one batch 93.62 || Final Index : 959\n",
      " -------> Time taken for save : 91.8 || URL : 60\n",
      " ----> Time Taken for one batch 91.8 || Final Index : 975\n",
      " -------> Time taken for save : 133.55 || URL : 61\n",
      " ----> Time Taken for one batch 133.55 || Final Index : 991\n",
      " -------> Time taken for save : 93.09 || URL : 62\n",
      " ----> Time Taken for one batch 93.09 || Final Index : 1007\n",
      " -------> Time taken for save : 102.57 || URL : 63\n",
      " ----> Time Taken for one batch 102.57 || Final Index : 1023\n",
      " -------> Time taken for save : 121.16 || URL : 64\n",
      " ----> Time Taken for one batch 121.16 || Final Index : 1039\n",
      " -------> Time taken for save : 87.78 || URL : 65\n",
      " ----> Time Taken for one batch 87.78 || Final Index : 1055\n",
      " -------> Time taken for save : 77.4 || URL : 66\n",
      " ----> Time Taken for one batch 77.4 || Final Index : 1071\n",
      " -------> Time taken for save : 91.32 || URL : 67\n",
      " ----> Time Taken for one batch 91.32 || Final Index : 1087\n",
      " -------> Time taken for save : 98.24 || URL : 68\n",
      " ----> Time Taken for one batch 98.24 || Final Index : 1103\n",
      " -------> Time taken for save : 81.23 || URL : 69\n",
      " ----> Time Taken for one batch 81.23 || Final Index : 1119\n",
      " -------> Time taken for save : 98.94 || URL : 70\n",
      " ----> Time Taken for one batch 98.94 || Final Index : 1135\n",
      " -------> Time taken for save : 81.22 || URL : 71\n",
      " ----> Time Taken for one batch 81.22 || Final Index : 1151\n",
      " -------> Time taken for save : 102.83 || URL : 72\n",
      " ----> Time Taken for one batch 102.83 || Final Index : 1167\n",
      " -------> Time taken for save : 92.0 || URL : 73\n",
      " ----> Time Taken for one batch 92.0 || Final Index : 1183\n",
      " -------> Time taken for save : 112.69 || URL : 74\n",
      " ----> Time Taken for one batch 112.69 || Final Index : 1199\n",
      " -------> Time taken for save : 94.35 || URL : 75\n",
      " ----> Time Taken for one batch 94.35 || Final Index : 1215\n",
      " -------> Time taken for save : 88.09 || URL : 76\n",
      " ----> Time Taken for one batch 88.09 || Final Index : 1231\n"
     ]
    },
    {
     "name": "stderr",
     "output_type": "stream",
     "text": [
      "ERROR:root:Error processing image {'id': 4128, 'path': '/home/play/datasets/open_datasets/mapillary/mapillary-vistas-dataset_public_v1.0/training/images/KnWRc4spbyohCvDraEEHAA.jpg', 'source': 'mapillary'}\n",
      "Traceback (most recent call last):\n",
      "  File \"/home/play/playment/Mask_RCNN/src/model.py\", line 1650, in data_generator\n",
      "    use_mini_mask=config.USE_MINI_MASK)\n",
      "  File \"/home/play/playment/Mask_RCNN/src/model.py\", line 1210, in load_image_gt\n",
      "    mask = utils.resize_mask(mask, scale, padding)\n",
      "  File \"/home/play/playment/Mask_RCNN/src/utils.py\", line 458, in resize_mask\n",
      "    h, w = mask.shape[:2]\n",
      "AttributeError: 'list' object has no attribute 'shape'\n"
     ]
    },
    {
     "name": "stdout",
     "output_type": "stream",
     "text": [
      " -------> Time taken for save : 134.93 || URL : 77\n",
      " ----> Time Taken for one batch 134.93 || Final Index : 1248\n",
      " -------> Time taken for save : 121.5 || URL : 78\n",
      " ----> Time Taken for one batch 121.5 || Final Index : 1264\n",
      " -------> Time taken for save : 85.07 || URL : 79\n",
      " ----> Time Taken for one batch 85.07 || Final Index : 1280\n",
      " -------> Time taken for save : 113.08 || URL : 80\n",
      " ----> Time Taken for one batch 113.08 || Final Index : 1296\n",
      " -------> Time taken for save : 121.56 || URL : 81\n",
      " ----> Time Taken for one batch 121.56 || Final Index : 1312\n",
      " -------> Time taken for save : 95.46 || URL : 82\n",
      " ----> Time Taken for one batch 95.46 || Final Index : 1328\n",
      " -------> Time taken for save : 129.12 || URL : 83\n",
      " ----> Time Taken for one batch 129.12 || Final Index : 1344\n",
      " -------> Time taken for save : 93.56 || URL : 84\n",
      " ----> Time Taken for one batch 93.56 || Final Index : 1360\n",
      " -------> Time taken for save : 141.05 || URL : 85\n",
      " ----> Time Taken for one batch 141.05 || Final Index : 1376\n",
      " -------> Time taken for save : 108.22 || URL : 86\n",
      " ----> Time Taken for one batch 108.22 || Final Index : 1392\n",
      " -------> Time taken for save : 121.86 || URL : 87\n",
      " ----> Time Taken for one batch 121.86 || Final Index : 1408\n",
      " -------> Time taken for save : 138.27 || URL : 88\n",
      " ----> Time Taken for one batch 138.27 || Final Index : 1424\n",
      " -------> Time taken for save : 108.32 || URL : 89\n",
      " ----> Time Taken for one batch 108.32 || Final Index : 1440\n",
      " -------> Time taken for save : 144.39 || URL : 90\n",
      " ----> Time Taken for one batch 144.39 || Final Index : 1456\n",
      " -------> Time taken for save : 104.78 || URL : 91\n",
      " ----> Time Taken for one batch 104.78 || Final Index : 1472\n",
      " -------> Time taken for save : 105.63 || URL : 92\n",
      " ----> Time Taken for one batch 105.63 || Final Index : 1488\n",
      " -------> Time taken for save : 126.31 || URL : 93\n",
      " ----> Time Taken for one batch 126.31 || Final Index : 1504\n",
      " -------> Time taken for save : 117.95 || URL : 94\n",
      " ----> Time Taken for one batch 117.95 || Final Index : 1520\n"
     ]
    }
   ],
   "source": [
    "import h5py\n",
    "import time\n",
    "\n",
    "def create_hdf5(generator, url_dataset, counter):\n",
    "    print ('Saving in dir : ', url_dataset)\n",
    "    iters = 0\n",
    "    while True:\n",
    "        t0 = time.time()\n",
    "        url_tmp = os.path.join(url_dataset, '{}.h5'.format(iters))\n",
    "        data = next(generator)\n",
    "        if len(data) == 2:\n",
    "            ip = data[0]\n",
    "            op = data[1]\n",
    "        with h5py.File(url_tmp, \"w\") as hf:\n",
    "            for i, each in enumerate(ip):\n",
    "                hf.create_dataset('input_{0}'.format(i), data=each)\n",
    "            if len(op):\n",
    "                for i, each in enumerate(op):\n",
    "                    hf.create_dataset('output_{0}'.format(i), data=each)\n",
    "            else:\n",
    "                hf.create_dataset('output'.format(i), data=op)\n",
    "\n",
    "        print (' -------> Time taken for save : {0} || URL : {1}'.format(round(time.time() - t0,2), iters))\n",
    "        iters += 1\n",
    "        if iters > counter:\n",
    "            break\n",
    "\n",
    "print ('mapillary_config.BATCH_SIZE : ', mapillary_config.BATCH_SIZE)\n",
    "train_generator = modellib.data_generator(trainData, mapillary_config, shuffle=True, batch_size=mapillary_config.BATCH_SIZE)\n",
    "url_dataset_train = '/home/play/datasets/open_datasets/mapillary_hdf5_16/mapillary-vistas-dataset_public_v1.0/training'\n",
    "if os.path.exists(url_dataset_train):\n",
    "    create_hdf5(train_generator, url_dataset_train, counter = 2250)"
   ]
  },
  {
   "cell_type": "markdown",
   "metadata": {},
   "source": [
    "# GENERATOR"
   ]
  },
  {
   "cell_type": "code",
   "execution_count": 5,
   "metadata": {
    "ExecuteTime": {
     "end_time": "2018-03-16T10:17:41.179578Z",
     "start_time": "2018-03-16T10:17:41.161751Z"
    }
   },
   "outputs": [],
   "source": [
    "def data_generator(url_dataset):\n",
    "    while True:\n",
    "        for each in os.listdir(dataset):\n",
    "            url_tmp = os.path.join(url_dataset_train, each)\n",
    "            ip, op = [], []\n",
    "            print (url_tmp)\n",
    "            with h5py.File(url_tmp, \"r\") as hf:\n",
    "                ip, op = [], []\n",
    "                for name in hf:\n",
    "                    if 'input' in name:\n",
    "                        ip.append(np.array(hf.get(name)))\n",
    "                    elif 'output' in name:\n",
    "                        op.append(np.array(hf.get(name)))\n",
    "            yield ip, op[0]\n",
    "\n",
    "gen = data_generator('', '')"
   ]
  },
  {
   "cell_type": "code",
   "execution_count": 6,
   "metadata": {
    "ExecuteTime": {
     "end_time": "2018-03-16T10:17:41.303942Z",
     "start_time": "2018-03-16T10:17:41.181856Z"
    }
   },
   "outputs": [
    {
     "ename": "NameError",
     "evalue": "name 'url_dataset_train' is not defined",
     "output_type": "error",
     "traceback": [
      "\u001b[0;31m---------------------------------------------------------------------------\u001b[0m",
      "\u001b[0;31mNameError\u001b[0m                                 Traceback (most recent call last)",
      "\u001b[0;32m<ipython-input-6-6e72e47198db>\u001b[0m in \u001b[0;36m<module>\u001b[0;34m()\u001b[0m\n\u001b[0;32m----> 1\u001b[0;31m \u001b[0mnext\u001b[0m\u001b[0;34m(\u001b[0m\u001b[0mgen\u001b[0m\u001b[0;34m)\u001b[0m\u001b[0;34m\u001b[0m\u001b[0m\n\u001b[0m",
      "\u001b[0;32m<ipython-input-5-77c10f6d9ba1>\u001b[0m in \u001b[0;36mdata_generator\u001b[0;34m(dataset, config, shuffle, augment, random_rois, batch_size, detection_targets)\u001b[0m\n\u001b[1;32m      2\u001b[0m                    batch_size=1, detection_targets=False):\n\u001b[1;32m      3\u001b[0m     \u001b[0;32mwhile\u001b[0m \u001b[0;32mTrue\u001b[0m\u001b[0;34m:\u001b[0m\u001b[0;34m\u001b[0m\u001b[0m\n\u001b[0;32m----> 4\u001b[0;31m         \u001b[0;32mfor\u001b[0m \u001b[0meach\u001b[0m \u001b[0;32min\u001b[0m \u001b[0mos\u001b[0m\u001b[0;34m.\u001b[0m\u001b[0mlistdir\u001b[0m\u001b[0;34m(\u001b[0m\u001b[0murl_dataset_train\u001b[0m\u001b[0;34m)\u001b[0m\u001b[0;34m:\u001b[0m\u001b[0;34m\u001b[0m\u001b[0m\n\u001b[0m\u001b[1;32m      5\u001b[0m             \u001b[0murl_tmp\u001b[0m \u001b[0;34m=\u001b[0m \u001b[0mos\u001b[0m\u001b[0;34m.\u001b[0m\u001b[0mpath\u001b[0m\u001b[0;34m.\u001b[0m\u001b[0mjoin\u001b[0m\u001b[0;34m(\u001b[0m\u001b[0murl_dataset_train\u001b[0m\u001b[0;34m,\u001b[0m \u001b[0meach\u001b[0m\u001b[0;34m)\u001b[0m\u001b[0;34m\u001b[0m\u001b[0m\n\u001b[1;32m      6\u001b[0m             \u001b[0mip\u001b[0m\u001b[0;34m,\u001b[0m \u001b[0mop\u001b[0m \u001b[0;34m=\u001b[0m \u001b[0;34m[\u001b[0m\u001b[0;34m]\u001b[0m\u001b[0;34m,\u001b[0m \u001b[0;34m[\u001b[0m\u001b[0;34m]\u001b[0m\u001b[0;34m\u001b[0m\u001b[0m\n",
      "\u001b[0;31mNameError\u001b[0m: name 'url_dataset_train' is not defined"
     ]
    }
   ],
   "source": [
    "next(gen)"
   ]
  },
  {
   "cell_type": "code",
   "execution_count": null,
   "metadata": {
    "ExecuteTime": {
     "end_time": "2018-03-16T10:16:30.535252Z",
     "start_time": "2018-03-16T10:16:30.471097Z"
    }
   },
   "outputs": [],
   "source": []
  },
  {
   "cell_type": "code",
   "execution_count": null,
   "metadata": {},
   "outputs": [],
   "source": []
  }
 ],
 "metadata": {
  "kernelspec": {
   "display_name": "Python 3",
   "language": "python",
   "name": "python3"
  },
  "language_info": {
   "codemirror_mode": {
    "name": "ipython",
    "version": 3
   },
   "file_extension": ".py",
   "mimetype": "text/x-python",
   "name": "python",
   "nbconvert_exporter": "python",
   "pygments_lexer": "ipython3",
   "version": "3.5.2"
  }
 },
 "nbformat": 4,
 "nbformat_minor": 2
}
