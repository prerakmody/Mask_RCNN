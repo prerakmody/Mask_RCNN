{
 "cells": [
  {
   "cell_type": "code",
   "execution_count": 5,
   "metadata": {
    "ExecuteTime": {
     "end_time": "2018-03-21T05:04:48.824024Z",
     "start_time": "2018-03-21T05:04:46.639696Z"
    }
   },
   "outputs": [
    {
     "name": "stderr",
     "output_type": "stream",
     "text": [
      "/usr/local/lib/python3.5/dist-packages/h5py/__init__.py:36: FutureWarning: Conversion of the second argument of issubdtype from `float` to `np.floating` is deprecated. In future, it will be treated as `np.float64 == np.dtype(float).type`.\n",
      "  from ._conv import register_converters as _register_converters\n",
      "Using TensorFlow backend.\n"
     ]
    },
    {
     "name": "stdout",
     "output_type": "stream",
     "text": [
      "TF :  1.6.0   Keras :  2.1.5   CUDA :  CUDA Version 9.0.176\n",
      "\n"
     ]
    }
   ],
   "source": [
    "## STANDARD PYTHON LIBS\n",
    "import os\n",
    "import sys\n",
    "import h5py\n",
    "import numpy as np\n",
    "import matplotlib.pyplot as plt\n",
    "%matplotlib inline\n",
    "\n",
    "## ADDING TO ROOT\n",
    "ROOT_DIR = os.path.abspath(os.path.join(os.getcwd(), '../../'))\n",
    "sys.path.append(ROOT_DIR)\n",
    "\n",
    "## CUSTOM LIBS\n",
    "import src.utils as utils\n",
    "import src.model as modellib\n",
    "from src.config import Config\n",
    "import src.visualize as visualize\n",
    "\n",
    "# GPU LIBS\n",
    "import keras\n",
    "import tensorflow as tf\n",
    "\n",
    "cuda_version = os.popen(\"cat /usr/local/cuda/version.txt \").read()\n",
    "print ('TF : ', tf.__version__, '  Keras : ', keras.__version__, '  CUDA : ', cuda_version)"
   ]
  },
  {
   "cell_type": "code",
   "execution_count": 6,
   "metadata": {
    "ExecuteTime": {
     "end_time": "2018-03-17T08:24:44.761262Z",
     "start_time": "2018-03-17T08:24:44.687376Z"
    }
   },
   "outputs": [
    {
     "name": "stdout",
     "output_type": "stream",
     "text": [
      "16\n",
      "Mode : train has 17979 images\n",
      "Mode : val has 2000 images\n"
     ]
    }
   ],
   "source": [
    "if 'src.mapillary' in sys.modules : del sys.modules['src.mapillary']\n",
    "if 'src.utils'     in sys.modules : del sys.modules['src.utils']\n",
    "if 'src.model'     in sys.modules : del sys.modules['src.model']\n",
    "\n",
    "import src.utils as utils\n",
    "import src.model as modellib\n",
    "import src.mapillary as mapillary\n",
    "\n",
    "if __name__ == \"__main__\":\n",
    "    url_dataset = '/home/play/datasets/open_datasets/mapillary'\n",
    "    mapillary_mapper = '/home/play/playment/Mask_RCNN/demo/raw/merge__cityscapes_mapillary_v2.json'\n",
    "    mapillary_config = mapillary.MapillaryConfig(images_per_gpu=16, gpu_count=1)\n",
    "    print (mapillary_config.BATCH_SIZE)\n",
    "    trainData = mapillary.MapillaryDataset(url_dataset, mapillary_mapper, mapillary_config, data_type = 'train')\n",
    "    valData   = mapillary.MapillaryDataset(url_dataset, mapillary_mapper, mapillary_config, data_type = 'val')"
   ]
  },
  {
   "cell_type": "code",
   "execution_count": null,
   "metadata": {
    "ExecuteTime": {
     "start_time": "2018-03-17T08:24:44.936Z"
    },
    "scrolled": true
   },
   "outputs": [
    {
     "name": "stdout",
     "output_type": "stream",
     "text": [
      "mapillary_config.BATCH_SIZE :  16\n",
      "Saving in dir :  /home/play/datasets/open_datasets/mapillary_hdf5_16/mapillary-vistas-dataset_public_v1.0/training\n",
      " -------> Time taken for save : 113.8 || URL : 0\n",
      " ----> Time Taken for one batch 113.79 || Final Index : 15\n",
      " -------> Time taken for save : 121.6 || URL : 1\n",
      " ----> Time Taken for one batch 121.6 || Final Index : 31\n",
      " -------> Time taken for save : 113.2 || URL : 2\n",
      " ----> Time Taken for one batch 113.2 || Final Index : 47\n",
      " -------> Time taken for save : 79.59 || URL : 3\n",
      " ----> Time Taken for one batch 79.59 || Final Index : 63\n",
      " -------> Time taken for save : 92.15 || URL : 4\n",
      " ----> Time Taken for one batch 92.15 || Final Index : 79\n",
      " -------> Time taken for save : 108.83 || URL : 5\n",
      " ----> Time Taken for one batch 108.84 || Final Index : 95\n",
      " -------> Time taken for save : 108.32 || URL : 6\n",
      " ----> Time Taken for one batch 108.32 || Final Index : 111\n",
      " -------> Time taken for save : 98.75 || URL : 7\n",
      " ----> Time Taken for one batch 98.75 || Final Index : 127\n",
      " -------> Time taken for save : 97.98 || URL : 8\n",
      " ----> Time Taken for one batch 97.98 || Final Index : 143\n",
      " -------> Time taken for save : 101.76 || URL : 9\n",
      " ----> Time Taken for one batch 101.76 || Final Index : 159\n",
      " -------> Time taken for save : 108.81 || URL : 10\n",
      " ----> Time Taken for one batch 108.81 || Final Index : 175\n",
      " -------> Time taken for save : 73.44 || URL : 11\n",
      " ----> Time Taken for one batch 73.44 || Final Index : 191\n",
      " -------> Time taken for save : 96.2 || URL : 12\n",
      " ----> Time Taken for one batch 96.2 || Final Index : 207\n",
      " -------> Time taken for save : 81.92 || URL : 13\n",
      " ----> Time Taken for one batch 81.92 || Final Index : 223\n",
      " -------> Time taken for save : 87.96 || URL : 14\n",
      " ----> Time Taken for one batch 87.96 || Final Index : 239\n",
      " -------> Time taken for save : 96.47 || URL : 15\n",
      " ----> Time Taken for one batch 96.47 || Final Index : 255\n",
      " -------> Time taken for save : 88.21 || URL : 16\n",
      " ----> Time Taken for one batch 88.21 || Final Index : 271\n",
      " -------> Time taken for save : 113.76 || URL : 17\n",
      " ----> Time Taken for one batch 113.76 || Final Index : 287\n",
      " -------> Time taken for save : 111.01 || URL : 18\n",
      " ----> Time Taken for one batch 111.01 || Final Index : 303\n",
      " -------> Time taken for save : 105.86 || URL : 19\n",
      " ----> Time Taken for one batch 105.86 || Final Index : 319\n",
      " -------> Time taken for save : 105.27 || URL : 20\n",
      " ----> Time Taken for one batch 105.27 || Final Index : 335\n",
      " -------> Time taken for save : 91.55 || URL : 21\n",
      " ----> Time Taken for one batch 91.55 || Final Index : 351\n",
      " -------> Time taken for save : 117.61 || URL : 22\n",
      " ----> Time Taken for one batch 117.61 || Final Index : 367\n",
      " -------> Time taken for save : 84.12 || URL : 23\n",
      " ----> Time Taken for one batch 84.12 || Final Index : 383\n",
      " -------> Time taken for save : 112.13 || URL : 24\n",
      " ----> Time Taken for one batch 112.13 || Final Index : 399\n",
      " -------> Time taken for save : 82.47 || URL : 25\n",
      " ----> Time Taken for one batch 82.47 || Final Index : 415\n",
      " -------> Time taken for save : 109.32 || URL : 26\n",
      " ----> Time Taken for one batch 109.32 || Final Index : 431\n",
      " -------> Time taken for save : 114.43 || URL : 27\n",
      " ----> Time Taken for one batch 114.43 || Final Index : 447\n",
      " -------> Time taken for save : 82.57 || URL : 28\n",
      " ----> Time Taken for one batch 82.57 || Final Index : 463\n",
      " -------> Time taken for save : 97.45 || URL : 29\n",
      " ----> Time Taken for one batch 97.45 || Final Index : 479\n",
      " -------> Time taken for save : 108.97 || URL : 30\n",
      " ----> Time Taken for one batch 108.97 || Final Index : 495\n",
      " -------> Time taken for save : 100.52 || URL : 31\n",
      " ----> Time Taken for one batch 100.52 || Final Index : 511\n",
      " -------> Time taken for save : 100.33 || URL : 32\n",
      " ----> Time Taken for one batch 100.33 || Final Index : 527\n",
      " -------> Time taken for save : 117.54 || URL : 33\n",
      " ----> Time Taken for one batch 117.54 || Final Index : 543\n",
      " -------> Time taken for save : 90.8 || URL : 34\n",
      " ----> Time Taken for one batch 90.8 || Final Index : 559\n",
      " -------> Time taken for save : 89.55 || URL : 35\n",
      " ----> Time Taken for one batch 89.55 || Final Index : 575\n",
      " -------> Time taken for save : 105.08 || URL : 36\n",
      " ----> Time Taken for one batch 105.08 || Final Index : 591\n",
      " -------> Time taken for save : 89.62 || URL : 37\n",
      " ----> Time Taken for one batch 89.62 || Final Index : 607\n",
      " -------> Time taken for save : 80.58 || URL : 38\n",
      " ----> Time Taken for one batch 80.58 || Final Index : 623\n",
      " -------> Time taken for save : 98.39 || URL : 39\n",
      " ----> Time Taken for one batch 98.39 || Final Index : 639\n",
      " -------> Time taken for save : 115.79 || URL : 40\n",
      " ----> Time Taken for one batch 115.79 || Final Index : 655\n",
      " -------> Time taken for save : 78.09 || URL : 41\n",
      " ----> Time Taken for one batch 78.09 || Final Index : 671\n",
      " -------> Time taken for save : 108.01 || URL : 42\n",
      " ----> Time Taken for one batch 108.01 || Final Index : 687\n",
      " -------> Time taken for save : 83.99 || URL : 43\n",
      " ----> Time Taken for one batch 83.99 || Final Index : 703\n",
      " -------> Time taken for save : 75.74 || URL : 44\n",
      " ----> Time Taken for one batch 75.74 || Final Index : 719\n",
      " -------> Time taken for save : 104.65 || URL : 45\n",
      " ----> Time Taken for one batch 104.65 || Final Index : 735\n",
      " -------> Time taken for save : 106.63 || URL : 46\n",
      " ----> Time Taken for one batch 106.63 || Final Index : 751\n",
      " -------> Time taken for save : 90.36 || URL : 47\n",
      " ----> Time Taken for one batch 90.36 || Final Index : 767\n",
      " -------> Time taken for save : 99.49 || URL : 48\n",
      " ----> Time Taken for one batch 99.49 || Final Index : 783\n",
      " -------> Time taken for save : 114.45 || URL : 49\n",
      " ----> Time Taken for one batch 114.46 || Final Index : 799\n",
      " -------> Time taken for save : 95.41 || URL : 50\n",
      " ----> Time Taken for one batch 95.41 || Final Index : 815\n",
      " -------> Time taken for save : 115.68 || URL : 51\n",
      " ----> Time Taken for one batch 115.68 || Final Index : 831\n",
      " -------> Time taken for save : 86.86 || URL : 52\n",
      " ----> Time Taken for one batch 86.86 || Final Index : 847\n",
      " -------> Time taken for save : 137.65 || URL : 53\n",
      " ----> Time Taken for one batch 137.65 || Final Index : 863\n",
      " -------> Time taken for save : 115.41 || URL : 54\n",
      " ----> Time Taken for one batch 115.41 || Final Index : 879\n",
      " -------> Time taken for save : 102.62 || URL : 55\n",
      " ----> Time Taken for one batch 102.62 || Final Index : 895\n",
      " -------> Time taken for save : 90.06 || URL : 56\n",
      " ----> Time Taken for one batch 90.06 || Final Index : 911\n",
      " -------> Time taken for save : 92.32 || URL : 57\n",
      " ----> Time Taken for one batch 92.32 || Final Index : 927\n",
      " -------> Time taken for save : 94.66 || URL : 58\n",
      " ----> Time Taken for one batch 94.67 || Final Index : 943\n",
      " -------> Time taken for save : 93.62 || URL : 59\n",
      " ----> Time Taken for one batch 93.62 || Final Index : 959\n",
      " -------> Time taken for save : 91.8 || URL : 60\n",
      " ----> Time Taken for one batch 91.8 || Final Index : 975\n",
      " -------> Time taken for save : 133.55 || URL : 61\n",
      " ----> Time Taken for one batch 133.55 || Final Index : 991\n",
      " -------> Time taken for save : 93.09 || URL : 62\n",
      " ----> Time Taken for one batch 93.09 || Final Index : 1007\n",
      " -------> Time taken for save : 102.57 || URL : 63\n",
      " ----> Time Taken for one batch 102.57 || Final Index : 1023\n",
      " -------> Time taken for save : 121.16 || URL : 64\n",
      " ----> Time Taken for one batch 121.16 || Final Index : 1039\n",
      " -------> Time taken for save : 87.78 || URL : 65\n",
      " ----> Time Taken for one batch 87.78 || Final Index : 1055\n",
      " -------> Time taken for save : 77.4 || URL : 66\n",
      " ----> Time Taken for one batch 77.4 || Final Index : 1071\n",
      " -------> Time taken for save : 91.32 || URL : 67\n",
      " ----> Time Taken for one batch 91.32 || Final Index : 1087\n",
      " -------> Time taken for save : 98.24 || URL : 68\n",
      " ----> Time Taken for one batch 98.24 || Final Index : 1103\n",
      " -------> Time taken for save : 81.23 || URL : 69\n",
      " ----> Time Taken for one batch 81.23 || Final Index : 1119\n",
      " -------> Time taken for save : 98.94 || URL : 70\n",
      " ----> Time Taken for one batch 98.94 || Final Index : 1135\n",
      " -------> Time taken for save : 81.22 || URL : 71\n",
      " ----> Time Taken for one batch 81.22 || Final Index : 1151\n",
      " -------> Time taken for save : 102.83 || URL : 72\n",
      " ----> Time Taken for one batch 102.83 || Final Index : 1167\n",
      " -------> Time taken for save : 92.0 || URL : 73\n",
      " ----> Time Taken for one batch 92.0 || Final Index : 1183\n",
      " -------> Time taken for save : 112.69 || URL : 74\n",
      " ----> Time Taken for one batch 112.69 || Final Index : 1199\n",
      " -------> Time taken for save : 94.35 || URL : 75\n",
      " ----> Time Taken for one batch 94.35 || Final Index : 1215\n",
      " -------> Time taken for save : 88.09 || URL : 76\n",
      " ----> Time Taken for one batch 88.09 || Final Index : 1231\n"
     ]
    },
    {
     "name": "stderr",
     "output_type": "stream",
     "text": [
      "ERROR:root:Error processing image {'id': 4128, 'path': '/home/play/datasets/open_datasets/mapillary/mapillary-vistas-dataset_public_v1.0/training/images/KnWRc4spbyohCvDraEEHAA.jpg', 'source': 'mapillary'}\n",
      "Traceback (most recent call last):\n",
      "  File \"/home/play/playment/Mask_RCNN/src/model.py\", line 1650, in data_generator\n",
      "    use_mini_mask=config.USE_MINI_MASK)\n",
      "  File \"/home/play/playment/Mask_RCNN/src/model.py\", line 1210, in load_image_gt\n",
      "    mask = utils.resize_mask(mask, scale, padding)\n",
      "  File \"/home/play/playment/Mask_RCNN/src/utils.py\", line 458, in resize_mask\n",
      "    h, w = mask.shape[:2]\n",
      "AttributeError: 'list' object has no attribute 'shape'\n"
     ]
    },
    {
     "name": "stdout",
     "output_type": "stream",
     "text": [
      " -------> Time taken for save : 134.93 || URL : 77\n",
      " ----> Time Taken for one batch 134.93 || Final Index : 1248\n",
      " -------> Time taken for save : 121.5 || URL : 78\n",
      " ----> Time Taken for one batch 121.5 || Final Index : 1264\n",
      " -------> Time taken for save : 85.07 || URL : 79\n",
      " ----> Time Taken for one batch 85.07 || Final Index : 1280\n",
      " -------> Time taken for save : 113.08 || URL : 80\n",
      " ----> Time Taken for one batch 113.08 || Final Index : 1296\n",
      " -------> Time taken for save : 121.56 || URL : 81\n",
      " ----> Time Taken for one batch 121.56 || Final Index : 1312\n",
      " -------> Time taken for save : 95.46 || URL : 82\n",
      " ----> Time Taken for one batch 95.46 || Final Index : 1328\n",
      " -------> Time taken for save : 129.12 || URL : 83\n",
      " ----> Time Taken for one batch 129.12 || Final Index : 1344\n",
      " -------> Time taken for save : 93.56 || URL : 84\n",
      " ----> Time Taken for one batch 93.56 || Final Index : 1360\n",
      " -------> Time taken for save : 141.05 || URL : 85\n",
      " ----> Time Taken for one batch 141.05 || Final Index : 1376\n",
      " -------> Time taken for save : 108.22 || URL : 86\n",
      " ----> Time Taken for one batch 108.22 || Final Index : 1392\n",
      " -------> Time taken for save : 121.86 || URL : 87\n",
      " ----> Time Taken for one batch 121.86 || Final Index : 1408\n",
      " -------> Time taken for save : 138.27 || URL : 88\n",
      " ----> Time Taken for one batch 138.27 || Final Index : 1424\n",
      " -------> Time taken for save : 108.32 || URL : 89\n",
      " ----> Time Taken for one batch 108.32 || Final Index : 1440\n",
      " -------> Time taken for save : 144.39 || URL : 90\n",
      " ----> Time Taken for one batch 144.39 || Final Index : 1456\n",
      " -------> Time taken for save : 104.78 || URL : 91\n",
      " ----> Time Taken for one batch 104.78 || Final Index : 1472\n",
      " -------> Time taken for save : 105.63 || URL : 92\n",
      " ----> Time Taken for one batch 105.63 || Final Index : 1488\n",
      " -------> Time taken for save : 126.31 || URL : 93\n",
      " ----> Time Taken for one batch 126.31 || Final Index : 1504\n",
      " -------> Time taken for save : 117.95 || URL : 94\n",
      " ----> Time Taken for one batch 117.95 || Final Index : 1520\n"
     ]
    }
   ],
   "source": [
    "import h5py\n",
    "import time\n",
    "\n",
    "def create_hdf5(generator, url_dataset, counter):\n",
    "    print ('Saving in dir : ', url_dataset)\n",
    "    iters = 0\n",
    "    while True:\n",
    "        t0 = time.time()\n",
    "        url_tmp = os.path.join(url_dataset, '{}.h5'.format(iters))\n",
    "        data = next(generator)\n",
    "        if len(data) == 2:\n",
    "            ip = data[0]\n",
    "            op = data[1]\n",
    "        with h5py.File(url_tmp, \"w\") as hf:\n",
    "            for i, each in enumerate(ip):\n",
    "                hf.create_dataset('input_{0}'.format(i), data=each)\n",
    "            if len(op):\n",
    "                for i, each in enumerate(op):\n",
    "                    hf.create_dataset('output_{0}'.format(i), data=each)\n",
    "            else:\n",
    "                hf.create_dataset('output'.format(i), data=op)\n",
    "\n",
    "        print (' -------> Time taken for save : {0} || URL : {1}'.format(round(time.time() - t0,2), iters))\n",
    "        iters += 1\n",
    "        if iters > counter:\n",
    "            break\n",
    "\n",
    "print ('mapillary_config.BATCH_SIZE : ', mapillary_config.BATCH_SIZE)\n",
    "train_generator = modellib.data_generator(trainData, mapillary_config, shuffle=True, batch_size=mapillary_config.BATCH_SIZE)\n",
    "url_dataset_train = '/home/play/datasets/open_datasets/mapillary_hdf5_16/mapillary-vistas-dataset_public_v1.0/training'\n",
    "if os.path.exists(url_dataset_train):\n",
    "    create_hdf5(train_generator, url_dataset_train, counter = 2250)"
   ]
  },
  {
   "cell_type": "markdown",
   "metadata": {},
   "source": [
    "# MERGE .h5 files"
   ]
  },
  {
   "cell_type": "code",
   "execution_count": 114,
   "metadata": {
    "ExecuteTime": {
     "end_time": "2018-03-20T16:35:10.230595Z",
     "start_time": "2018-03-20T16:10:38.084161Z"
    }
   },
   "outputs": [
    {
     "name": "stdout",
     "output_type": "stream",
     "text": [
      "------> URL :  /home/ubuntu/datasets/open_datasets/mapillary_hdf5_64/mapillary-vistas-dataset_public_v1.0/training/0.h5  Iter :  3 / 1233\n",
      "------> URL :  /home/ubuntu/datasets/open_datasets/mapillary_hdf5_64/mapillary-vistas-dataset_public_v1.0/training/1.h5  Iter :  7 / 1233\n",
      "------> URL :  /home/ubuntu/datasets/open_datasets/mapillary_hdf5_64/mapillary-vistas-dataset_public_v1.0/training/2.h5  Iter :  11 / 1233\n",
      "------> URL :  /home/ubuntu/datasets/open_datasets/mapillary_hdf5_64/mapillary-vistas-dataset_public_v1.0/training/3.h5  Iter :  15 / 1233\n",
      "------> URL :  /home/ubuntu/datasets/open_datasets/mapillary_hdf5_64/mapillary-vistas-dataset_public_v1.0/training/4.h5  Iter :  19 / 1233\n",
      "------> URL :  /home/ubuntu/datasets/open_datasets/mapillary_hdf5_64/mapillary-vistas-dataset_public_v1.0/training/5.h5  Iter :  23 / 1233\n",
      "------> URL :  /home/ubuntu/datasets/open_datasets/mapillary_hdf5_64/mapillary-vistas-dataset_public_v1.0/training/6.h5  Iter :  27 / 1233\n",
      "------> URL :  /home/ubuntu/datasets/open_datasets/mapillary_hdf5_64/mapillary-vistas-dataset_public_v1.0/training/7.h5  Iter :  31 / 1233\n",
      "------> URL :  /home/ubuntu/datasets/open_datasets/mapillary_hdf5_64/mapillary-vistas-dataset_public_v1.0/training/8.h5  Iter :  35 / 1233\n",
      "------> URL :  /home/ubuntu/datasets/open_datasets/mapillary_hdf5_64/mapillary-vistas-dataset_public_v1.0/training/9.h5  Iter :  39 / 1233\n",
      "------> URL :  /home/ubuntu/datasets/open_datasets/mapillary_hdf5_64/mapillary-vistas-dataset_public_v1.0/training/10.h5  Iter :  43 / 1233\n",
      "------> URL :  /home/ubuntu/datasets/open_datasets/mapillary_hdf5_64/mapillary-vistas-dataset_public_v1.0/training/11.h5  Iter :  47 / 1233\n",
      "------> URL :  /home/ubuntu/datasets/open_datasets/mapillary_hdf5_64/mapillary-vistas-dataset_public_v1.0/training/12.h5  Iter :  51 / 1233\n",
      "------> URL :  /home/ubuntu/datasets/open_datasets/mapillary_hdf5_64/mapillary-vistas-dataset_public_v1.0/training/13.h5  Iter :  55 / 1233\n",
      "------> URL :  /home/ubuntu/datasets/open_datasets/mapillary_hdf5_64/mapillary-vistas-dataset_public_v1.0/training/14.h5  Iter :  59 / 1233\n",
      "------> URL :  /home/ubuntu/datasets/open_datasets/mapillary_hdf5_64/mapillary-vistas-dataset_public_v1.0/training/15.h5  Iter :  63 / 1233\n",
      "------> URL :  /home/ubuntu/datasets/open_datasets/mapillary_hdf5_64/mapillary-vistas-dataset_public_v1.0/training/16.h5  Iter :  67 / 1233\n",
      "------> URL :  /home/ubuntu/datasets/open_datasets/mapillary_hdf5_64/mapillary-vistas-dataset_public_v1.0/training/17.h5  Iter :  71 / 1233\n",
      "------> URL :  /home/ubuntu/datasets/open_datasets/mapillary_hdf5_64/mapillary-vistas-dataset_public_v1.0/training/18.h5  Iter :  75 / 1233\n",
      "------> URL :  /home/ubuntu/datasets/open_datasets/mapillary_hdf5_64/mapillary-vistas-dataset_public_v1.0/training/19.h5  Iter :  79 / 1233\n",
      "------> URL :  /home/ubuntu/datasets/open_datasets/mapillary_hdf5_64/mapillary-vistas-dataset_public_v1.0/training/20.h5  Iter :  83 / 1233\n",
      "------> URL :  /home/ubuntu/datasets/open_datasets/mapillary_hdf5_64/mapillary-vistas-dataset_public_v1.0/training/21.h5  Iter :  87 / 1233\n",
      "------> URL :  /home/ubuntu/datasets/open_datasets/mapillary_hdf5_64/mapillary-vistas-dataset_public_v1.0/training/22.h5  Iter :  91 / 1233\n",
      "------> URL :  /home/ubuntu/datasets/open_datasets/mapillary_hdf5_64/mapillary-vistas-dataset_public_v1.0/training/23.h5  Iter :  95 / 1233\n",
      "------> URL :  /home/ubuntu/datasets/open_datasets/mapillary_hdf5_64/mapillary-vistas-dataset_public_v1.0/training/24.h5  Iter :  99 / 1233\n",
      "------> URL :  /home/ubuntu/datasets/open_datasets/mapillary_hdf5_64/mapillary-vistas-dataset_public_v1.0/training/25.h5  Iter :  103 / 1233\n",
      "------> URL :  /home/ubuntu/datasets/open_datasets/mapillary_hdf5_64/mapillary-vistas-dataset_public_v1.0/training/26.h5  Iter :  107 / 1233\n",
      "------> URL :  /home/ubuntu/datasets/open_datasets/mapillary_hdf5_64/mapillary-vistas-dataset_public_v1.0/training/27.h5  Iter :  111 / 1233\n",
      "------> URL :  /home/ubuntu/datasets/open_datasets/mapillary_hdf5_64/mapillary-vistas-dataset_public_v1.0/training/28.h5  Iter :  115 / 1233\n",
      "------> URL :  /home/ubuntu/datasets/open_datasets/mapillary_hdf5_64/mapillary-vistas-dataset_public_v1.0/training/29.h5  Iter :  119 / 1233\n",
      "------> URL :  /home/ubuntu/datasets/open_datasets/mapillary_hdf5_64/mapillary-vistas-dataset_public_v1.0/training/30.h5  Iter :  123 / 1233\n",
      "------> URL :  /home/ubuntu/datasets/open_datasets/mapillary_hdf5_64/mapillary-vistas-dataset_public_v1.0/training/31.h5  Iter :  127 / 1233\n",
      "------> URL :  /home/ubuntu/datasets/open_datasets/mapillary_hdf5_64/mapillary-vistas-dataset_public_v1.0/training/32.h5  Iter :  131 / 1233\n",
      "------> URL :  /home/ubuntu/datasets/open_datasets/mapillary_hdf5_64/mapillary-vistas-dataset_public_v1.0/training/33.h5  Iter :  135 / 1233\n",
      "------> URL :  /home/ubuntu/datasets/open_datasets/mapillary_hdf5_64/mapillary-vistas-dataset_public_v1.0/training/34.h5  Iter :  139 / 1233\n",
      "------> URL :  /home/ubuntu/datasets/open_datasets/mapillary_hdf5_64/mapillary-vistas-dataset_public_v1.0/training/35.h5  Iter :  143 / 1233\n",
      "------> URL :  /home/ubuntu/datasets/open_datasets/mapillary_hdf5_64/mapillary-vistas-dataset_public_v1.0/training/36.h5  Iter :  147 / 1233\n",
      "------> URL :  /home/ubuntu/datasets/open_datasets/mapillary_hdf5_64/mapillary-vistas-dataset_public_v1.0/training/37.h5  Iter :  151 / 1233\n",
      "------> URL :  /home/ubuntu/datasets/open_datasets/mapillary_hdf5_64/mapillary-vistas-dataset_public_v1.0/training/38.h5  Iter :  155 / 1233\n",
      "------> URL :  /home/ubuntu/datasets/open_datasets/mapillary_hdf5_64/mapillary-vistas-dataset_public_v1.0/training/39.h5  Iter :  159 / 1233\n",
      "------> URL :  /home/ubuntu/datasets/open_datasets/mapillary_hdf5_64/mapillary-vistas-dataset_public_v1.0/training/40.h5  Iter :  163 / 1233\n",
      "------> URL :  /home/ubuntu/datasets/open_datasets/mapillary_hdf5_64/mapillary-vistas-dataset_public_v1.0/training/41.h5  Iter :  167 / 1233\n",
      "------> URL :  /home/ubuntu/datasets/open_datasets/mapillary_hdf5_64/mapillary-vistas-dataset_public_v1.0/training/42.h5  Iter :  171 / 1233\n",
      "------> URL :  /home/ubuntu/datasets/open_datasets/mapillary_hdf5_64/mapillary-vistas-dataset_public_v1.0/training/43.h5  Iter :  175 / 1233\n",
      "------> URL :  /home/ubuntu/datasets/open_datasets/mapillary_hdf5_64/mapillary-vistas-dataset_public_v1.0/training/44.h5  Iter :  179 / 1233\n",
      "------> URL :  /home/ubuntu/datasets/open_datasets/mapillary_hdf5_64/mapillary-vistas-dataset_public_v1.0/training/45.h5  Iter :  183 / 1233\n",
      "------> URL :  /home/ubuntu/datasets/open_datasets/mapillary_hdf5_64/mapillary-vistas-dataset_public_v1.0/training/46.h5  Iter :  187 / 1233\n",
      "------> URL :  /home/ubuntu/datasets/open_datasets/mapillary_hdf5_64/mapillary-vistas-dataset_public_v1.0/training/47.h5  Iter :  191 / 1233\n",
      "------> URL :  /home/ubuntu/datasets/open_datasets/mapillary_hdf5_64/mapillary-vistas-dataset_public_v1.0/training/48.h5  Iter :  195 / 1233\n",
      "------> URL :  /home/ubuntu/datasets/open_datasets/mapillary_hdf5_64/mapillary-vistas-dataset_public_v1.0/training/49.h5  Iter :  199 / 1233\n",
      "------> URL :  /home/ubuntu/datasets/open_datasets/mapillary_hdf5_64/mapillary-vistas-dataset_public_v1.0/training/50.h5  Iter :  203 / 1233\n",
      "------> URL :  /home/ubuntu/datasets/open_datasets/mapillary_hdf5_64/mapillary-vistas-dataset_public_v1.0/training/51.h5  Iter :  207 / 1233\n",
      "------> URL :  /home/ubuntu/datasets/open_datasets/mapillary_hdf5_64/mapillary-vistas-dataset_public_v1.0/training/52.h5  Iter :  211 / 1233\n",
      "------> URL :  /home/ubuntu/datasets/open_datasets/mapillary_hdf5_64/mapillary-vistas-dataset_public_v1.0/training/53.h5  Iter :  215 / 1233\n",
      "------> URL :  /home/ubuntu/datasets/open_datasets/mapillary_hdf5_64/mapillary-vistas-dataset_public_v1.0/training/54.h5  Iter :  219 / 1233\n",
      "------> URL :  /home/ubuntu/datasets/open_datasets/mapillary_hdf5_64/mapillary-vistas-dataset_public_v1.0/training/55.h5  Iter :  223 / 1233\n",
      "------> URL :  /home/ubuntu/datasets/open_datasets/mapillary_hdf5_64/mapillary-vistas-dataset_public_v1.0/training/56.h5  Iter :  227 / 1233\n",
      "------> URL :  /home/ubuntu/datasets/open_datasets/mapillary_hdf5_64/mapillary-vistas-dataset_public_v1.0/training/57.h5  Iter :  231 / 1233\n",
      "------> URL :  /home/ubuntu/datasets/open_datasets/mapillary_hdf5_64/mapillary-vistas-dataset_public_v1.0/training/58.h5  Iter :  235 / 1233\n"
     ]
    },
    {
     "name": "stdout",
     "output_type": "stream",
     "text": [
      "------> URL :  /home/ubuntu/datasets/open_datasets/mapillary_hdf5_64/mapillary-vistas-dataset_public_v1.0/training/59.h5  Iter :  239 / 1233\n",
      "------> URL :  /home/ubuntu/datasets/open_datasets/mapillary_hdf5_64/mapillary-vistas-dataset_public_v1.0/training/60.h5  Iter :  243 / 1233\n",
      "------> URL :  /home/ubuntu/datasets/open_datasets/mapillary_hdf5_64/mapillary-vistas-dataset_public_v1.0/training/61.h5  Iter :  247 / 1233\n",
      "------> URL :  /home/ubuntu/datasets/open_datasets/mapillary_hdf5_64/mapillary-vistas-dataset_public_v1.0/training/62.h5  Iter :  251 / 1233\n",
      "------> URL :  /home/ubuntu/datasets/open_datasets/mapillary_hdf5_64/mapillary-vistas-dataset_public_v1.0/training/63.h5  Iter :  255 / 1233\n",
      "------> URL :  /home/ubuntu/datasets/open_datasets/mapillary_hdf5_64/mapillary-vistas-dataset_public_v1.0/training/64.h5  Iter :  259 / 1233\n",
      "------> URL :  /home/ubuntu/datasets/open_datasets/mapillary_hdf5_64/mapillary-vistas-dataset_public_v1.0/training/65.h5  Iter :  263 / 1233\n",
      "------> URL :  /home/ubuntu/datasets/open_datasets/mapillary_hdf5_64/mapillary-vistas-dataset_public_v1.0/training/66.h5  Iter :  267 / 1233\n",
      "------> URL :  /home/ubuntu/datasets/open_datasets/mapillary_hdf5_64/mapillary-vistas-dataset_public_v1.0/training/67.h5  Iter :  271 / 1233\n",
      "------> URL :  /home/ubuntu/datasets/open_datasets/mapillary_hdf5_64/mapillary-vistas-dataset_public_v1.0/training/68.h5  Iter :  275 / 1233\n",
      "------> URL :  /home/ubuntu/datasets/open_datasets/mapillary_hdf5_64/mapillary-vistas-dataset_public_v1.0/training/69.h5  Iter :  279 / 1233\n",
      "------> URL :  /home/ubuntu/datasets/open_datasets/mapillary_hdf5_64/mapillary-vistas-dataset_public_v1.0/training/70.h5  Iter :  283 / 1233\n",
      "------> URL :  /home/ubuntu/datasets/open_datasets/mapillary_hdf5_64/mapillary-vistas-dataset_public_v1.0/training/71.h5  Iter :  287 / 1233\n",
      "------> URL :  /home/ubuntu/datasets/open_datasets/mapillary_hdf5_64/mapillary-vistas-dataset_public_v1.0/training/72.h5  Iter :  291 / 1233\n",
      "------> URL :  /home/ubuntu/datasets/open_datasets/mapillary_hdf5_64/mapillary-vistas-dataset_public_v1.0/training/73.h5  Iter :  295 / 1233\n",
      "------> URL :  /home/ubuntu/datasets/open_datasets/mapillary_hdf5_64/mapillary-vistas-dataset_public_v1.0/training/74.h5  Iter :  299 / 1233\n",
      "------> URL :  /home/ubuntu/datasets/open_datasets/mapillary_hdf5_64/mapillary-vistas-dataset_public_v1.0/training/75.h5  Iter :  303 / 1233\n",
      "------> URL :  /home/ubuntu/datasets/open_datasets/mapillary_hdf5_64/mapillary-vistas-dataset_public_v1.0/training/76.h5  Iter :  307 / 1233\n",
      "------> URL :  /home/ubuntu/datasets/open_datasets/mapillary_hdf5_64/mapillary-vistas-dataset_public_v1.0/training/77.h5  Iter :  311 / 1233\n",
      "------> URL :  /home/ubuntu/datasets/open_datasets/mapillary_hdf5_64/mapillary-vistas-dataset_public_v1.0/training/78.h5  Iter :  315 / 1233\n",
      "------> URL :  /home/ubuntu/datasets/open_datasets/mapillary_hdf5_64/mapillary-vistas-dataset_public_v1.0/training/79.h5  Iter :  319 / 1233\n",
      "------> URL :  /home/ubuntu/datasets/open_datasets/mapillary_hdf5_64/mapillary-vistas-dataset_public_v1.0/training/80.h5  Iter :  323 / 1233\n",
      "------> URL :  /home/ubuntu/datasets/open_datasets/mapillary_hdf5_64/mapillary-vistas-dataset_public_v1.0/training/81.h5  Iter :  327 / 1233\n",
      "------> URL :  /home/ubuntu/datasets/open_datasets/mapillary_hdf5_64/mapillary-vistas-dataset_public_v1.0/training/82.h5  Iter :  331 / 1233\n",
      "------> URL :  /home/ubuntu/datasets/open_datasets/mapillary_hdf5_64/mapillary-vistas-dataset_public_v1.0/training/83.h5  Iter :  335 / 1233\n",
      "------> URL :  /home/ubuntu/datasets/open_datasets/mapillary_hdf5_64/mapillary-vistas-dataset_public_v1.0/training/84.h5  Iter :  339 / 1233\n",
      "------> URL :  /home/ubuntu/datasets/open_datasets/mapillary_hdf5_64/mapillary-vistas-dataset_public_v1.0/training/85.h5  Iter :  343 / 1233\n",
      "------> URL :  /home/ubuntu/datasets/open_datasets/mapillary_hdf5_64/mapillary-vistas-dataset_public_v1.0/training/86.h5  Iter :  347 / 1233\n",
      "------> URL :  /home/ubuntu/datasets/open_datasets/mapillary_hdf5_64/mapillary-vistas-dataset_public_v1.0/training/87.h5  Iter :  351 / 1233\n",
      "------> URL :  /home/ubuntu/datasets/open_datasets/mapillary_hdf5_64/mapillary-vistas-dataset_public_v1.0/training/88.h5  Iter :  355 / 1233\n",
      "------> URL :  /home/ubuntu/datasets/open_datasets/mapillary_hdf5_64/mapillary-vistas-dataset_public_v1.0/training/89.h5  Iter :  359 / 1233\n",
      "------> URL :  /home/ubuntu/datasets/open_datasets/mapillary_hdf5_64/mapillary-vistas-dataset_public_v1.0/training/90.h5  Iter :  363 / 1233\n",
      "------> URL :  /home/ubuntu/datasets/open_datasets/mapillary_hdf5_64/mapillary-vistas-dataset_public_v1.0/training/91.h5  Iter :  367 / 1233\n",
      "------> URL :  /home/ubuntu/datasets/open_datasets/mapillary_hdf5_64/mapillary-vistas-dataset_public_v1.0/training/92.h5  Iter :  371 / 1233\n",
      "------> URL :  /home/ubuntu/datasets/open_datasets/mapillary_hdf5_64/mapillary-vistas-dataset_public_v1.0/training/93.h5  Iter :  375 / 1233\n",
      "------> URL :  /home/ubuntu/datasets/open_datasets/mapillary_hdf5_64/mapillary-vistas-dataset_public_v1.0/training/94.h5  Iter :  379 / 1233\n",
      "------> URL :  /home/ubuntu/datasets/open_datasets/mapillary_hdf5_64/mapillary-vistas-dataset_public_v1.0/training/95.h5  Iter :  383 / 1233\n",
      "------> URL :  /home/ubuntu/datasets/open_datasets/mapillary_hdf5_64/mapillary-vistas-dataset_public_v1.0/training/96.h5  Iter :  387 / 1233\n",
      "------> URL :  /home/ubuntu/datasets/open_datasets/mapillary_hdf5_64/mapillary-vistas-dataset_public_v1.0/training/97.h5  Iter :  391 / 1233\n",
      "------> URL :  /home/ubuntu/datasets/open_datasets/mapillary_hdf5_64/mapillary-vistas-dataset_public_v1.0/training/98.h5  Iter :  395 / 1233\n",
      "------> URL :  /home/ubuntu/datasets/open_datasets/mapillary_hdf5_64/mapillary-vistas-dataset_public_v1.0/training/99.h5  Iter :  399 / 1233\n",
      "------> URL :  /home/ubuntu/datasets/open_datasets/mapillary_hdf5_64/mapillary-vistas-dataset_public_v1.0/training/100.h5  Iter :  403 / 1233\n",
      "------> URL :  /home/ubuntu/datasets/open_datasets/mapillary_hdf5_64/mapillary-vistas-dataset_public_v1.0/training/101.h5  Iter :  407 / 1233\n",
      "------> URL :  /home/ubuntu/datasets/open_datasets/mapillary_hdf5_64/mapillary-vistas-dataset_public_v1.0/training/102.h5  Iter :  411 / 1233\n",
      "------> URL :  /home/ubuntu/datasets/open_datasets/mapillary_hdf5_64/mapillary-vistas-dataset_public_v1.0/training/103.h5  Iter :  415 / 1233\n",
      "------> URL :  /home/ubuntu/datasets/open_datasets/mapillary_hdf5_64/mapillary-vistas-dataset_public_v1.0/training/104.h5  Iter :  419 / 1233\n",
      "------> URL :  /home/ubuntu/datasets/open_datasets/mapillary_hdf5_64/mapillary-vistas-dataset_public_v1.0/training/105.h5  Iter :  423 / 1233\n",
      "------> URL :  /home/ubuntu/datasets/open_datasets/mapillary_hdf5_64/mapillary-vistas-dataset_public_v1.0/training/106.h5  Iter :  427 / 1233\n",
      "------> URL :  /home/ubuntu/datasets/open_datasets/mapillary_hdf5_64/mapillary-vistas-dataset_public_v1.0/training/107.h5  Iter :  431 / 1233\n",
      "------> URL :  /home/ubuntu/datasets/open_datasets/mapillary_hdf5_64/mapillary-vistas-dataset_public_v1.0/training/108.h5  Iter :  435 / 1233\n",
      "------> URL :  /home/ubuntu/datasets/open_datasets/mapillary_hdf5_64/mapillary-vistas-dataset_public_v1.0/training/109.h5  Iter :  439 / 1233\n",
      "------> URL :  /home/ubuntu/datasets/open_datasets/mapillary_hdf5_64/mapillary-vistas-dataset_public_v1.0/training/110.h5  Iter :  443 / 1233\n",
      "------> URL :  /home/ubuntu/datasets/open_datasets/mapillary_hdf5_64/mapillary-vistas-dataset_public_v1.0/training/111.h5  Iter :  447 / 1233\n",
      "------> URL :  /home/ubuntu/datasets/open_datasets/mapillary_hdf5_64/mapillary-vistas-dataset_public_v1.0/training/112.h5  Iter :  451 / 1233\n",
      "------> URL :  /home/ubuntu/datasets/open_datasets/mapillary_hdf5_64/mapillary-vistas-dataset_public_v1.0/training/113.h5  Iter :  455 / 1233\n",
      "------> URL :  /home/ubuntu/datasets/open_datasets/mapillary_hdf5_64/mapillary-vistas-dataset_public_v1.0/training/114.h5  Iter :  459 / 1233\n",
      "------> URL :  /home/ubuntu/datasets/open_datasets/mapillary_hdf5_64/mapillary-vistas-dataset_public_v1.0/training/115.h5  Iter :  463 / 1233\n",
      "------> URL :  /home/ubuntu/datasets/open_datasets/mapillary_hdf5_64/mapillary-vistas-dataset_public_v1.0/training/116.h5  Iter :  467 / 1233\n"
     ]
    },
    {
     "name": "stdout",
     "output_type": "stream",
     "text": [
      "------> URL :  /home/ubuntu/datasets/open_datasets/mapillary_hdf5_64/mapillary-vistas-dataset_public_v1.0/training/117.h5  Iter :  471 / 1233\n",
      "------> URL :  /home/ubuntu/datasets/open_datasets/mapillary_hdf5_64/mapillary-vistas-dataset_public_v1.0/training/118.h5  Iter :  475 / 1233\n",
      "------> URL :  /home/ubuntu/datasets/open_datasets/mapillary_hdf5_64/mapillary-vistas-dataset_public_v1.0/training/119.h5  Iter :  479 / 1233\n",
      "------> URL :  /home/ubuntu/datasets/open_datasets/mapillary_hdf5_64/mapillary-vistas-dataset_public_v1.0/training/120.h5  Iter :  483 / 1233\n",
      "------> URL :  /home/ubuntu/datasets/open_datasets/mapillary_hdf5_64/mapillary-vistas-dataset_public_v1.0/training/121.h5  Iter :  487 / 1233\n",
      "------> URL :  /home/ubuntu/datasets/open_datasets/mapillary_hdf5_64/mapillary-vistas-dataset_public_v1.0/training/122.h5  Iter :  491 / 1233\n",
      "------> URL :  /home/ubuntu/datasets/open_datasets/mapillary_hdf5_64/mapillary-vistas-dataset_public_v1.0/training/123.h5  Iter :  495 / 1233\n",
      "------> URL :  /home/ubuntu/datasets/open_datasets/mapillary_hdf5_64/mapillary-vistas-dataset_public_v1.0/training/124.h5  Iter :  499 / 1233\n",
      "------> URL :  /home/ubuntu/datasets/open_datasets/mapillary_hdf5_64/mapillary-vistas-dataset_public_v1.0/training/125.h5  Iter :  503 / 1233\n",
      "------> URL :  /home/ubuntu/datasets/open_datasets/mapillary_hdf5_64/mapillary-vistas-dataset_public_v1.0/training/126.h5  Iter :  507 / 1233\n",
      "------> URL :  /home/ubuntu/datasets/open_datasets/mapillary_hdf5_64/mapillary-vistas-dataset_public_v1.0/training/127.h5  Iter :  511 / 1233\n",
      "------> URL :  /home/ubuntu/datasets/open_datasets/mapillary_hdf5_64/mapillary-vistas-dataset_public_v1.0/training/128.h5  Iter :  515 / 1233\n",
      "------> URL :  /home/ubuntu/datasets/open_datasets/mapillary_hdf5_64/mapillary-vistas-dataset_public_v1.0/training/129.h5  Iter :  519 / 1233\n",
      "------> URL :  /home/ubuntu/datasets/open_datasets/mapillary_hdf5_64/mapillary-vistas-dataset_public_v1.0/training/130.h5  Iter :  523 / 1233\n",
      "------> URL :  /home/ubuntu/datasets/open_datasets/mapillary_hdf5_64/mapillary-vistas-dataset_public_v1.0/training/131.h5  Iter :  527 / 1233\n",
      "------> URL :  /home/ubuntu/datasets/open_datasets/mapillary_hdf5_64/mapillary-vistas-dataset_public_v1.0/training/132.h5  Iter :  531 / 1233\n",
      "------> URL :  /home/ubuntu/datasets/open_datasets/mapillary_hdf5_64/mapillary-vistas-dataset_public_v1.0/training/133.h5  Iter :  535 / 1233\n",
      "------> URL :  /home/ubuntu/datasets/open_datasets/mapillary_hdf5_64/mapillary-vistas-dataset_public_v1.0/training/134.h5  Iter :  539 / 1233\n",
      "------> URL :  /home/ubuntu/datasets/open_datasets/mapillary_hdf5_64/mapillary-vistas-dataset_public_v1.0/training/135.h5  Iter :  543 / 1233\n",
      "------> URL :  /home/ubuntu/datasets/open_datasets/mapillary_hdf5_64/mapillary-vistas-dataset_public_v1.0/training/136.h5  Iter :  547 / 1233\n",
      "------> URL :  /home/ubuntu/datasets/open_datasets/mapillary_hdf5_64/mapillary-vistas-dataset_public_v1.0/training/137.h5  Iter :  551 / 1233\n",
      "------> URL :  /home/ubuntu/datasets/open_datasets/mapillary_hdf5_64/mapillary-vistas-dataset_public_v1.0/training/138.h5  Iter :  555 / 1233\n",
      "------> URL :  /home/ubuntu/datasets/open_datasets/mapillary_hdf5_64/mapillary-vistas-dataset_public_v1.0/training/139.h5  Iter :  559 / 1233\n",
      "------> URL :  /home/ubuntu/datasets/open_datasets/mapillary_hdf5_64/mapillary-vistas-dataset_public_v1.0/training/140.h5  Iter :  563 / 1233\n",
      "------> URL :  /home/ubuntu/datasets/open_datasets/mapillary_hdf5_64/mapillary-vistas-dataset_public_v1.0/training/141.h5  Iter :  567 / 1233\n",
      "------> URL :  /home/ubuntu/datasets/open_datasets/mapillary_hdf5_64/mapillary-vistas-dataset_public_v1.0/training/142.h5  Iter :  571 / 1233\n",
      "------> URL :  /home/ubuntu/datasets/open_datasets/mapillary_hdf5_64/mapillary-vistas-dataset_public_v1.0/training/143.h5  Iter :  575 / 1233\n",
      "------> URL :  /home/ubuntu/datasets/open_datasets/mapillary_hdf5_64/mapillary-vistas-dataset_public_v1.0/training/144.h5  Iter :  579 / 1233\n",
      "------> URL :  /home/ubuntu/datasets/open_datasets/mapillary_hdf5_64/mapillary-vistas-dataset_public_v1.0/training/145.h5  Iter :  583 / 1233\n",
      "------> URL :  /home/ubuntu/datasets/open_datasets/mapillary_hdf5_64/mapillary-vistas-dataset_public_v1.0/training/146.h5  Iter :  587 / 1233\n",
      "------> URL :  /home/ubuntu/datasets/open_datasets/mapillary_hdf5_64/mapillary-vistas-dataset_public_v1.0/training/147.h5  Iter :  591 / 1233\n",
      "------> URL :  /home/ubuntu/datasets/open_datasets/mapillary_hdf5_64/mapillary-vistas-dataset_public_v1.0/training/148.h5  Iter :  595 / 1233\n",
      "------> URL :  /home/ubuntu/datasets/open_datasets/mapillary_hdf5_64/mapillary-vistas-dataset_public_v1.0/training/149.h5  Iter :  599 / 1233\n",
      "------> URL :  /home/ubuntu/datasets/open_datasets/mapillary_hdf5_64/mapillary-vistas-dataset_public_v1.0/training/150.h5  Iter :  603 / 1233\n",
      "------> URL :  /home/ubuntu/datasets/open_datasets/mapillary_hdf5_64/mapillary-vistas-dataset_public_v1.0/training/151.h5  Iter :  607 / 1233\n",
      "------> URL :  /home/ubuntu/datasets/open_datasets/mapillary_hdf5_64/mapillary-vistas-dataset_public_v1.0/training/152.h5  Iter :  611 / 1233\n",
      "------> URL :  /home/ubuntu/datasets/open_datasets/mapillary_hdf5_64/mapillary-vistas-dataset_public_v1.0/training/153.h5  Iter :  615 / 1233\n",
      "------> URL :  /home/ubuntu/datasets/open_datasets/mapillary_hdf5_64/mapillary-vistas-dataset_public_v1.0/training/154.h5  Iter :  619 / 1233\n",
      "------> URL :  /home/ubuntu/datasets/open_datasets/mapillary_hdf5_64/mapillary-vistas-dataset_public_v1.0/training/155.h5  Iter :  623 / 1233\n",
      "------> URL :  /home/ubuntu/datasets/open_datasets/mapillary_hdf5_64/mapillary-vistas-dataset_public_v1.0/training/156.h5  Iter :  627 / 1233\n",
      "------> URL :  /home/ubuntu/datasets/open_datasets/mapillary_hdf5_64/mapillary-vistas-dataset_public_v1.0/training/157.h5  Iter :  631 / 1233\n",
      "------> URL :  /home/ubuntu/datasets/open_datasets/mapillary_hdf5_64/mapillary-vistas-dataset_public_v1.0/training/158.h5  Iter :  635 / 1233\n",
      "------> URL :  /home/ubuntu/datasets/open_datasets/mapillary_hdf5_64/mapillary-vistas-dataset_public_v1.0/training/159.h5  Iter :  639 / 1233\n",
      "------> URL :  /home/ubuntu/datasets/open_datasets/mapillary_hdf5_64/mapillary-vistas-dataset_public_v1.0/training/160.h5  Iter :  643 / 1233\n",
      "------> URL :  /home/ubuntu/datasets/open_datasets/mapillary_hdf5_64/mapillary-vistas-dataset_public_v1.0/training/161.h5  Iter :  647 / 1233\n",
      "------> URL :  /home/ubuntu/datasets/open_datasets/mapillary_hdf5_64/mapillary-vistas-dataset_public_v1.0/training/162.h5  Iter :  651 / 1233\n",
      "------> URL :  /home/ubuntu/datasets/open_datasets/mapillary_hdf5_64/mapillary-vistas-dataset_public_v1.0/training/163.h5  Iter :  655 / 1233\n",
      "------> URL :  /home/ubuntu/datasets/open_datasets/mapillary_hdf5_64/mapillary-vistas-dataset_public_v1.0/training/164.h5  Iter :  659 / 1233\n",
      "------> URL :  /home/ubuntu/datasets/open_datasets/mapillary_hdf5_64/mapillary-vistas-dataset_public_v1.0/training/165.h5  Iter :  663 / 1233\n",
      "------> URL :  /home/ubuntu/datasets/open_datasets/mapillary_hdf5_64/mapillary-vistas-dataset_public_v1.0/training/166.h5  Iter :  667 / 1233\n",
      "------> URL :  /home/ubuntu/datasets/open_datasets/mapillary_hdf5_64/mapillary-vistas-dataset_public_v1.0/training/167.h5  Iter :  671 / 1233\n",
      "------> URL :  /home/ubuntu/datasets/open_datasets/mapillary_hdf5_64/mapillary-vistas-dataset_public_v1.0/training/168.h5  Iter :  675 / 1233\n",
      "------> URL :  /home/ubuntu/datasets/open_datasets/mapillary_hdf5_64/mapillary-vistas-dataset_public_v1.0/training/169.h5  Iter :  679 / 1233\n",
      "------> URL :  /home/ubuntu/datasets/open_datasets/mapillary_hdf5_64/mapillary-vistas-dataset_public_v1.0/training/170.h5  Iter :  683 / 1233\n",
      "------> URL :  /home/ubuntu/datasets/open_datasets/mapillary_hdf5_64/mapillary-vistas-dataset_public_v1.0/training/171.h5  Iter :  687 / 1233\n",
      "------> URL :  /home/ubuntu/datasets/open_datasets/mapillary_hdf5_64/mapillary-vistas-dataset_public_v1.0/training/172.h5  Iter :  691 / 1233\n",
      "------> URL :  /home/ubuntu/datasets/open_datasets/mapillary_hdf5_64/mapillary-vistas-dataset_public_v1.0/training/173.h5  Iter :  695 / 1233\n",
      "------> URL :  /home/ubuntu/datasets/open_datasets/mapillary_hdf5_64/mapillary-vistas-dataset_public_v1.0/training/174.h5  Iter :  699 / 1233\n"
     ]
    },
    {
     "name": "stdout",
     "output_type": "stream",
     "text": [
      "------> URL :  /home/ubuntu/datasets/open_datasets/mapillary_hdf5_64/mapillary-vistas-dataset_public_v1.0/training/175.h5  Iter :  703 / 1233\n",
      "------> URL :  /home/ubuntu/datasets/open_datasets/mapillary_hdf5_64/mapillary-vistas-dataset_public_v1.0/training/176.h5  Iter :  707 / 1233\n",
      "------> URL :  /home/ubuntu/datasets/open_datasets/mapillary_hdf5_64/mapillary-vistas-dataset_public_v1.0/training/177.h5  Iter :  711 / 1233\n",
      "------> URL :  /home/ubuntu/datasets/open_datasets/mapillary_hdf5_64/mapillary-vistas-dataset_public_v1.0/training/178.h5  Iter :  715 / 1233\n",
      "------> URL :  /home/ubuntu/datasets/open_datasets/mapillary_hdf5_64/mapillary-vistas-dataset_public_v1.0/training/179.h5  Iter :  719 / 1233\n",
      "------> URL :  /home/ubuntu/datasets/open_datasets/mapillary_hdf5_64/mapillary-vistas-dataset_public_v1.0/training/180.h5  Iter :  723 / 1233\n",
      "------> URL :  /home/ubuntu/datasets/open_datasets/mapillary_hdf5_64/mapillary-vistas-dataset_public_v1.0/training/181.h5  Iter :  727 / 1233\n",
      "------> URL :  /home/ubuntu/datasets/open_datasets/mapillary_hdf5_64/mapillary-vistas-dataset_public_v1.0/training/182.h5  Iter :  731 / 1233\n",
      "------> URL :  /home/ubuntu/datasets/open_datasets/mapillary_hdf5_64/mapillary-vistas-dataset_public_v1.0/training/183.h5  Iter :  735 / 1233\n",
      "------> URL :  /home/ubuntu/datasets/open_datasets/mapillary_hdf5_64/mapillary-vistas-dataset_public_v1.0/training/184.h5  Iter :  739 / 1233\n",
      "------> URL :  /home/ubuntu/datasets/open_datasets/mapillary_hdf5_64/mapillary-vistas-dataset_public_v1.0/training/185.h5  Iter :  743 / 1233\n",
      "------> URL :  /home/ubuntu/datasets/open_datasets/mapillary_hdf5_64/mapillary-vistas-dataset_public_v1.0/training/186.h5  Iter :  747 / 1233\n",
      "------> URL :  /home/ubuntu/datasets/open_datasets/mapillary_hdf5_64/mapillary-vistas-dataset_public_v1.0/training/187.h5  Iter :  751 / 1233\n",
      "------> URL :  /home/ubuntu/datasets/open_datasets/mapillary_hdf5_64/mapillary-vistas-dataset_public_v1.0/training/188.h5  Iter :  755 / 1233\n",
      "------> URL :  /home/ubuntu/datasets/open_datasets/mapillary_hdf5_64/mapillary-vistas-dataset_public_v1.0/training/189.h5  Iter :  759 / 1233\n",
      "------> URL :  /home/ubuntu/datasets/open_datasets/mapillary_hdf5_64/mapillary-vistas-dataset_public_v1.0/training/190.h5  Iter :  763 / 1233\n",
      "------> URL :  /home/ubuntu/datasets/open_datasets/mapillary_hdf5_64/mapillary-vistas-dataset_public_v1.0/training/191.h5  Iter :  767 / 1233\n",
      "------> URL :  /home/ubuntu/datasets/open_datasets/mapillary_hdf5_64/mapillary-vistas-dataset_public_v1.0/training/192.h5  Iter :  771 / 1233\n",
      "------> URL :  /home/ubuntu/datasets/open_datasets/mapillary_hdf5_64/mapillary-vistas-dataset_public_v1.0/training/193.h5  Iter :  775 / 1233\n",
      "------> URL :  /home/ubuntu/datasets/open_datasets/mapillary_hdf5_64/mapillary-vistas-dataset_public_v1.0/training/194.h5  Iter :  779 / 1233\n",
      "------> URL :  /home/ubuntu/datasets/open_datasets/mapillary_hdf5_64/mapillary-vistas-dataset_public_v1.0/training/195.h5  Iter :  783 / 1233\n",
      "------> URL :  /home/ubuntu/datasets/open_datasets/mapillary_hdf5_64/mapillary-vistas-dataset_public_v1.0/training/196.h5  Iter :  787 / 1233\n",
      "------> URL :  /home/ubuntu/datasets/open_datasets/mapillary_hdf5_64/mapillary-vistas-dataset_public_v1.0/training/197.h5  Iter :  791 / 1233\n",
      "------> URL :  /home/ubuntu/datasets/open_datasets/mapillary_hdf5_64/mapillary-vistas-dataset_public_v1.0/training/198.h5  Iter :  795 / 1233\n",
      "------> URL :  /home/ubuntu/datasets/open_datasets/mapillary_hdf5_64/mapillary-vistas-dataset_public_v1.0/training/199.h5  Iter :  799 / 1233\n",
      "------> URL :  /home/ubuntu/datasets/open_datasets/mapillary_hdf5_64/mapillary-vistas-dataset_public_v1.0/training/200.h5  Iter :  803 / 1233\n",
      "------> URL :  /home/ubuntu/datasets/open_datasets/mapillary_hdf5_64/mapillary-vistas-dataset_public_v1.0/training/201.h5  Iter :  807 / 1233\n",
      "------> URL :  /home/ubuntu/datasets/open_datasets/mapillary_hdf5_64/mapillary-vistas-dataset_public_v1.0/training/202.h5  Iter :  811 / 1233\n",
      "------> URL :  /home/ubuntu/datasets/open_datasets/mapillary_hdf5_64/mapillary-vistas-dataset_public_v1.0/training/203.h5  Iter :  815 / 1233\n",
      "------> URL :  /home/ubuntu/datasets/open_datasets/mapillary_hdf5_64/mapillary-vistas-dataset_public_v1.0/training/204.h5  Iter :  819 / 1233\n",
      "------> URL :  /home/ubuntu/datasets/open_datasets/mapillary_hdf5_64/mapillary-vistas-dataset_public_v1.0/training/205.h5  Iter :  823 / 1233\n",
      "------> URL :  /home/ubuntu/datasets/open_datasets/mapillary_hdf5_64/mapillary-vistas-dataset_public_v1.0/training/206.h5  Iter :  827 / 1233\n",
      "------> URL :  /home/ubuntu/datasets/open_datasets/mapillary_hdf5_64/mapillary-vistas-dataset_public_v1.0/training/207.h5  Iter :  831 / 1233\n",
      "------> URL :  /home/ubuntu/datasets/open_datasets/mapillary_hdf5_64/mapillary-vistas-dataset_public_v1.0/training/208.h5  Iter :  835 / 1233\n",
      "------> URL :  /home/ubuntu/datasets/open_datasets/mapillary_hdf5_64/mapillary-vistas-dataset_public_v1.0/training/209.h5  Iter :  839 / 1233\n",
      "------> URL :  /home/ubuntu/datasets/open_datasets/mapillary_hdf5_64/mapillary-vistas-dataset_public_v1.0/training/210.h5  Iter :  843 / 1233\n",
      "------> URL :  /home/ubuntu/datasets/open_datasets/mapillary_hdf5_64/mapillary-vistas-dataset_public_v1.0/training/211.h5  Iter :  847 / 1233\n",
      "------> URL :  /home/ubuntu/datasets/open_datasets/mapillary_hdf5_64/mapillary-vistas-dataset_public_v1.0/training/212.h5  Iter :  851 / 1233\n",
      "------> URL :  /home/ubuntu/datasets/open_datasets/mapillary_hdf5_64/mapillary-vistas-dataset_public_v1.0/training/213.h5  Iter :  855 / 1233\n",
      "------> URL :  /home/ubuntu/datasets/open_datasets/mapillary_hdf5_64/mapillary-vistas-dataset_public_v1.0/training/214.h5  Iter :  859 / 1233\n",
      "------> URL :  /home/ubuntu/datasets/open_datasets/mapillary_hdf5_64/mapillary-vistas-dataset_public_v1.0/training/215.h5  Iter :  863 / 1233\n",
      "------> URL :  /home/ubuntu/datasets/open_datasets/mapillary_hdf5_64/mapillary-vistas-dataset_public_v1.0/training/216.h5  Iter :  867 / 1233\n",
      "------> URL :  /home/ubuntu/datasets/open_datasets/mapillary_hdf5_64/mapillary-vistas-dataset_public_v1.0/training/217.h5  Iter :  871 / 1233\n",
      "------> URL :  /home/ubuntu/datasets/open_datasets/mapillary_hdf5_64/mapillary-vistas-dataset_public_v1.0/training/218.h5  Iter :  875 / 1233\n",
      "------> URL :  /home/ubuntu/datasets/open_datasets/mapillary_hdf5_64/mapillary-vistas-dataset_public_v1.0/training/219.h5  Iter :  879 / 1233\n",
      "------> URL :  /home/ubuntu/datasets/open_datasets/mapillary_hdf5_64/mapillary-vistas-dataset_public_v1.0/training/220.h5  Iter :  883 / 1233\n",
      "------> URL :  /home/ubuntu/datasets/open_datasets/mapillary_hdf5_64/mapillary-vistas-dataset_public_v1.0/training/221.h5  Iter :  887 / 1233\n",
      "------> URL :  /home/ubuntu/datasets/open_datasets/mapillary_hdf5_64/mapillary-vistas-dataset_public_v1.0/training/222.h5  Iter :  891 / 1233\n",
      "------> URL :  /home/ubuntu/datasets/open_datasets/mapillary_hdf5_64/mapillary-vistas-dataset_public_v1.0/training/223.h5  Iter :  895 / 1233\n",
      "------> URL :  /home/ubuntu/datasets/open_datasets/mapillary_hdf5_64/mapillary-vistas-dataset_public_v1.0/training/224.h5  Iter :  899 / 1233\n",
      "------> URL :  /home/ubuntu/datasets/open_datasets/mapillary_hdf5_64/mapillary-vistas-dataset_public_v1.0/training/225.h5  Iter :  903 / 1233\n",
      "------> URL :  /home/ubuntu/datasets/open_datasets/mapillary_hdf5_64/mapillary-vistas-dataset_public_v1.0/training/226.h5  Iter :  907 / 1233\n",
      "------> URL :  /home/ubuntu/datasets/open_datasets/mapillary_hdf5_64/mapillary-vistas-dataset_public_v1.0/training/227.h5  Iter :  911 / 1233\n",
      "------> URL :  /home/ubuntu/datasets/open_datasets/mapillary_hdf5_64/mapillary-vistas-dataset_public_v1.0/training/228.h5  Iter :  915 / 1233\n",
      "------> URL :  /home/ubuntu/datasets/open_datasets/mapillary_hdf5_64/mapillary-vistas-dataset_public_v1.0/training/229.h5  Iter :  919 / 1233\n",
      "------> URL :  /home/ubuntu/datasets/open_datasets/mapillary_hdf5_64/mapillary-vistas-dataset_public_v1.0/training/230.h5  Iter :  923 / 1233\n",
      "------> URL :  /home/ubuntu/datasets/open_datasets/mapillary_hdf5_64/mapillary-vistas-dataset_public_v1.0/training/231.h5  Iter :  927 / 1233\n",
      "------> URL :  /home/ubuntu/datasets/open_datasets/mapillary_hdf5_64/mapillary-vistas-dataset_public_v1.0/training/232.h5  Iter :  931 / 1233\n"
     ]
    },
    {
     "name": "stdout",
     "output_type": "stream",
     "text": [
      "------> URL :  /home/ubuntu/datasets/open_datasets/mapillary_hdf5_64/mapillary-vistas-dataset_public_v1.0/training/233.h5  Iter :  935 / 1233\n",
      "------> URL :  /home/ubuntu/datasets/open_datasets/mapillary_hdf5_64/mapillary-vistas-dataset_public_v1.0/training/234.h5  Iter :  939 / 1233\n",
      "------> URL :  /home/ubuntu/datasets/open_datasets/mapillary_hdf5_64/mapillary-vistas-dataset_public_v1.0/training/235.h5  Iter :  943 / 1233\n",
      "------> URL :  /home/ubuntu/datasets/open_datasets/mapillary_hdf5_64/mapillary-vistas-dataset_public_v1.0/training/236.h5  Iter :  947 / 1233\n",
      "------> URL :  /home/ubuntu/datasets/open_datasets/mapillary_hdf5_64/mapillary-vistas-dataset_public_v1.0/training/237.h5  Iter :  951 / 1233\n",
      "------> URL :  /home/ubuntu/datasets/open_datasets/mapillary_hdf5_64/mapillary-vistas-dataset_public_v1.0/training/238.h5  Iter :  955 / 1233\n",
      "------> URL :  /home/ubuntu/datasets/open_datasets/mapillary_hdf5_64/mapillary-vistas-dataset_public_v1.0/training/239.h5  Iter :  959 / 1233\n",
      "------> URL :  /home/ubuntu/datasets/open_datasets/mapillary_hdf5_64/mapillary-vistas-dataset_public_v1.0/training/240.h5  Iter :  963 / 1233\n",
      "------> URL :  /home/ubuntu/datasets/open_datasets/mapillary_hdf5_64/mapillary-vistas-dataset_public_v1.0/training/241.h5  Iter :  967 / 1233\n",
      "------> URL :  /home/ubuntu/datasets/open_datasets/mapillary_hdf5_64/mapillary-vistas-dataset_public_v1.0/training/242.h5  Iter :  971 / 1233\n",
      "------> URL :  /home/ubuntu/datasets/open_datasets/mapillary_hdf5_64/mapillary-vistas-dataset_public_v1.0/training/243.h5  Iter :  975 / 1233\n",
      "------> URL :  /home/ubuntu/datasets/open_datasets/mapillary_hdf5_64/mapillary-vistas-dataset_public_v1.0/training/244.h5  Iter :  979 / 1233\n",
      "------> URL :  /home/ubuntu/datasets/open_datasets/mapillary_hdf5_64/mapillary-vistas-dataset_public_v1.0/training/245.h5  Iter :  983 / 1233\n",
      "------> URL :  /home/ubuntu/datasets/open_datasets/mapillary_hdf5_64/mapillary-vistas-dataset_public_v1.0/training/246.h5  Iter :  987 / 1233\n",
      "------> URL :  /home/ubuntu/datasets/open_datasets/mapillary_hdf5_64/mapillary-vistas-dataset_public_v1.0/training/247.h5  Iter :  991 / 1233\n",
      "------> URL :  /home/ubuntu/datasets/open_datasets/mapillary_hdf5_64/mapillary-vistas-dataset_public_v1.0/training/248.h5  Iter :  995 / 1233\n",
      "------> URL :  /home/ubuntu/datasets/open_datasets/mapillary_hdf5_64/mapillary-vistas-dataset_public_v1.0/training/249.h5  Iter :  999 / 1233\n",
      "------> URL :  /home/ubuntu/datasets/open_datasets/mapillary_hdf5_64/mapillary-vistas-dataset_public_v1.0/training/250.h5  Iter :  1003 / 1233\n",
      "------> URL :  /home/ubuntu/datasets/open_datasets/mapillary_hdf5_64/mapillary-vistas-dataset_public_v1.0/training/251.h5  Iter :  1007 / 1233\n",
      "------> URL :  /home/ubuntu/datasets/open_datasets/mapillary_hdf5_64/mapillary-vistas-dataset_public_v1.0/training/252.h5  Iter :  1011 / 1233\n",
      "------> URL :  /home/ubuntu/datasets/open_datasets/mapillary_hdf5_64/mapillary-vistas-dataset_public_v1.0/training/253.h5  Iter :  1015 / 1233\n",
      "------> URL :  /home/ubuntu/datasets/open_datasets/mapillary_hdf5_64/mapillary-vistas-dataset_public_v1.0/training/254.h5  Iter :  1019 / 1233\n",
      "------> URL :  /home/ubuntu/datasets/open_datasets/mapillary_hdf5_64/mapillary-vistas-dataset_public_v1.0/training/255.h5  Iter :  1023 / 1233\n",
      "------> URL :  /home/ubuntu/datasets/open_datasets/mapillary_hdf5_64/mapillary-vistas-dataset_public_v1.0/training/256.h5  Iter :  1027 / 1233\n",
      "------> URL :  /home/ubuntu/datasets/open_datasets/mapillary_hdf5_64/mapillary-vistas-dataset_public_v1.0/training/257.h5  Iter :  1031 / 1233\n",
      "------> URL :  /home/ubuntu/datasets/open_datasets/mapillary_hdf5_64/mapillary-vistas-dataset_public_v1.0/training/258.h5  Iter :  1035 / 1233\n",
      "------> URL :  /home/ubuntu/datasets/open_datasets/mapillary_hdf5_64/mapillary-vistas-dataset_public_v1.0/training/259.h5  Iter :  1039 / 1233\n",
      "------> URL :  /home/ubuntu/datasets/open_datasets/mapillary_hdf5_64/mapillary-vistas-dataset_public_v1.0/training/260.h5  Iter :  1043 / 1233\n",
      "------> URL :  /home/ubuntu/datasets/open_datasets/mapillary_hdf5_64/mapillary-vistas-dataset_public_v1.0/training/261.h5  Iter :  1047 / 1233\n",
      "------> URL :  /home/ubuntu/datasets/open_datasets/mapillary_hdf5_64/mapillary-vistas-dataset_public_v1.0/training/262.h5  Iter :  1051 / 1233\n",
      "------> URL :  /home/ubuntu/datasets/open_datasets/mapillary_hdf5_64/mapillary-vistas-dataset_public_v1.0/training/263.h5  Iter :  1055 / 1233\n",
      "------> URL :  /home/ubuntu/datasets/open_datasets/mapillary_hdf5_64/mapillary-vistas-dataset_public_v1.0/training/264.h5  Iter :  1059 / 1233\n",
      "------> URL :  /home/ubuntu/datasets/open_datasets/mapillary_hdf5_64/mapillary-vistas-dataset_public_v1.0/training/265.h5  Iter :  1063 / 1233\n",
      "------> URL :  /home/ubuntu/datasets/open_datasets/mapillary_hdf5_64/mapillary-vistas-dataset_public_v1.0/training/266.h5  Iter :  1067 / 1233\n",
      "------> URL :  /home/ubuntu/datasets/open_datasets/mapillary_hdf5_64/mapillary-vistas-dataset_public_v1.0/training/267.h5  Iter :  1071 / 1233\n",
      "------> URL :  /home/ubuntu/datasets/open_datasets/mapillary_hdf5_64/mapillary-vistas-dataset_public_v1.0/training/268.h5  Iter :  1075 / 1233\n",
      "------> URL :  /home/ubuntu/datasets/open_datasets/mapillary_hdf5_64/mapillary-vistas-dataset_public_v1.0/training/269.h5  Iter :  1079 / 1233\n",
      "------> URL :  /home/ubuntu/datasets/open_datasets/mapillary_hdf5_64/mapillary-vistas-dataset_public_v1.0/training/270.h5  Iter :  1083 / 1233\n",
      "------> URL :  /home/ubuntu/datasets/open_datasets/mapillary_hdf5_64/mapillary-vistas-dataset_public_v1.0/training/271.h5  Iter :  1087 / 1233\n",
      "------> URL :  /home/ubuntu/datasets/open_datasets/mapillary_hdf5_64/mapillary-vistas-dataset_public_v1.0/training/272.h5  Iter :  1091 / 1233\n",
      "------> URL :  /home/ubuntu/datasets/open_datasets/mapillary_hdf5_64/mapillary-vistas-dataset_public_v1.0/training/273.h5  Iter :  1095 / 1233\n",
      "------> URL :  /home/ubuntu/datasets/open_datasets/mapillary_hdf5_64/mapillary-vistas-dataset_public_v1.0/training/274.h5  Iter :  1099 / 1233\n",
      "------> URL :  /home/ubuntu/datasets/open_datasets/mapillary_hdf5_64/mapillary-vistas-dataset_public_v1.0/training/275.h5  Iter :  1103 / 1233\n",
      "------> URL :  /home/ubuntu/datasets/open_datasets/mapillary_hdf5_64/mapillary-vistas-dataset_public_v1.0/training/276.h5  Iter :  1107 / 1233\n",
      "------> URL :  /home/ubuntu/datasets/open_datasets/mapillary_hdf5_64/mapillary-vistas-dataset_public_v1.0/training/277.h5  Iter :  1111 / 1233\n",
      "------> URL :  /home/ubuntu/datasets/open_datasets/mapillary_hdf5_64/mapillary-vistas-dataset_public_v1.0/training/278.h5  Iter :  1115 / 1233\n",
      "------> URL :  /home/ubuntu/datasets/open_datasets/mapillary_hdf5_64/mapillary-vistas-dataset_public_v1.0/training/279.h5  Iter :  1119 / 1233\n",
      "------> URL :  /home/ubuntu/datasets/open_datasets/mapillary_hdf5_64/mapillary-vistas-dataset_public_v1.0/training/280.h5  Iter :  1123 / 1233\n",
      "------> URL :  /home/ubuntu/datasets/open_datasets/mapillary_hdf5_64/mapillary-vistas-dataset_public_v1.0/training/281.h5  Iter :  1127 / 1233\n",
      "------> URL :  /home/ubuntu/datasets/open_datasets/mapillary_hdf5_64/mapillary-vistas-dataset_public_v1.0/training/282.h5  Iter :  1131 / 1233\n",
      "------> URL :  /home/ubuntu/datasets/open_datasets/mapillary_hdf5_64/mapillary-vistas-dataset_public_v1.0/training/283.h5  Iter :  1135 / 1233\n",
      "------> URL :  /home/ubuntu/datasets/open_datasets/mapillary_hdf5_64/mapillary-vistas-dataset_public_v1.0/training/284.h5  Iter :  1139 / 1233\n",
      "------> URL :  /home/ubuntu/datasets/open_datasets/mapillary_hdf5_64/mapillary-vistas-dataset_public_v1.0/training/285.h5  Iter :  1143 / 1233\n",
      "------> URL :  /home/ubuntu/datasets/open_datasets/mapillary_hdf5_64/mapillary-vistas-dataset_public_v1.0/training/286.h5  Iter :  1147 / 1233\n",
      "------> URL :  /home/ubuntu/datasets/open_datasets/mapillary_hdf5_64/mapillary-vistas-dataset_public_v1.0/training/287.h5  Iter :  1151 / 1233\n",
      "------> URL :  /home/ubuntu/datasets/open_datasets/mapillary_hdf5_64/mapillary-vistas-dataset_public_v1.0/training/288.h5  Iter :  1155 / 1233\n",
      "------> URL :  /home/ubuntu/datasets/open_datasets/mapillary_hdf5_64/mapillary-vistas-dataset_public_v1.0/training/289.h5  Iter :  1159 / 1233\n",
      "------> URL :  /home/ubuntu/datasets/open_datasets/mapillary_hdf5_64/mapillary-vistas-dataset_public_v1.0/training/290.h5  Iter :  1163 / 1233\n"
     ]
    },
    {
     "name": "stdout",
     "output_type": "stream",
     "text": [
      "------> URL :  /home/ubuntu/datasets/open_datasets/mapillary_hdf5_64/mapillary-vistas-dataset_public_v1.0/training/291.h5  Iter :  1167 / 1233\n",
      "------> URL :  /home/ubuntu/datasets/open_datasets/mapillary_hdf5_64/mapillary-vistas-dataset_public_v1.0/training/292.h5  Iter :  1171 / 1233\n",
      "------> URL :  /home/ubuntu/datasets/open_datasets/mapillary_hdf5_64/mapillary-vistas-dataset_public_v1.0/training/293.h5  Iter :  1175 / 1233\n",
      "------> URL :  /home/ubuntu/datasets/open_datasets/mapillary_hdf5_64/mapillary-vistas-dataset_public_v1.0/training/294.h5  Iter :  1179 / 1233\n",
      "------> URL :  /home/ubuntu/datasets/open_datasets/mapillary_hdf5_64/mapillary-vistas-dataset_public_v1.0/training/295.h5  Iter :  1183 / 1233\n",
      "------> URL :  /home/ubuntu/datasets/open_datasets/mapillary_hdf5_64/mapillary-vistas-dataset_public_v1.0/training/296.h5  Iter :  1187 / 1233\n",
      "------> URL :  /home/ubuntu/datasets/open_datasets/mapillary_hdf5_64/mapillary-vistas-dataset_public_v1.0/training/297.h5  Iter :  1191 / 1233\n",
      "------> URL :  /home/ubuntu/datasets/open_datasets/mapillary_hdf5_64/mapillary-vistas-dataset_public_v1.0/training/298.h5  Iter :  1195 / 1233\n",
      "------> URL :  /home/ubuntu/datasets/open_datasets/mapillary_hdf5_64/mapillary-vistas-dataset_public_v1.0/training/299.h5  Iter :  1199 / 1233\n",
      "------> URL :  /home/ubuntu/datasets/open_datasets/mapillary_hdf5_64/mapillary-vistas-dataset_public_v1.0/training/300.h5  Iter :  1203 / 1233\n",
      "------> URL :  /home/ubuntu/datasets/open_datasets/mapillary_hdf5_64/mapillary-vistas-dataset_public_v1.0/training/301.h5  Iter :  1207 / 1233\n",
      "------> URL :  /home/ubuntu/datasets/open_datasets/mapillary_hdf5_64/mapillary-vistas-dataset_public_v1.0/training/302.h5  Iter :  1211 / 1233\n",
      "------> URL :  /home/ubuntu/datasets/open_datasets/mapillary_hdf5_64/mapillary-vistas-dataset_public_v1.0/training/303.h5  Iter :  1215 / 1233\n",
      "------> URL :  /home/ubuntu/datasets/open_datasets/mapillary_hdf5_64/mapillary-vistas-dataset_public_v1.0/training/304.h5  Iter :  1219 / 1233\n",
      "------> URL :  /home/ubuntu/datasets/open_datasets/mapillary_hdf5_64/mapillary-vistas-dataset_public_v1.0/training/305.h5  Iter :  1223 / 1233\n",
      "------> URL :  /home/ubuntu/datasets/open_datasets/mapillary_hdf5_64/mapillary-vistas-dataset_public_v1.0/training/306.h5  Iter :  1227 / 1233\n",
      "------> URL :  /home/ubuntu/datasets/open_datasets/mapillary_hdf5_64/mapillary-vistas-dataset_public_v1.0/training/307.h5  Iter :  1231 / 1233\n"
     ]
    }
   ],
   "source": [
    "url_dataset_train = '/home/ubuntu/datasets/open_datasets/mapillary_hdf5_16/mapillary-vistas-dataset_public_v1.0/training'\n",
    "url_dataset_save  = '/home/ubuntu/datasets/open_datasets/mapillary_hdf5_64/mapillary-vistas-dataset_public_v1.0/training'\n",
    "\n",
    "idx_read, idx_save = 0, 0\n",
    "blobs_set_64      = []\n",
    "blobsize_original = 16\n",
    "blobsize_target   = 64\n",
    "blobsize_iters    = blobsize_target//blobsize_original\n",
    "\n",
    "if os.path.exists(url_dataset_train) and os.path.exists(url_dataset_save):\n",
    "    files = os.listdir(url_dataset_train)\n",
    "    for path_iter, file in enumerate(files):\n",
    "        # 1. EXTRACT FILE\n",
    "        url_tmp_read = os.path.join(url_dataset_train, file)\n",
    "        with h5py.File(url_tmp_read, \"r\") as hf:\n",
    "            ip, op = [], []\n",
    "            for name in hf:\n",
    "                if 'input' in name:\n",
    "                    ip.append(np.array(hf.get(name)))\n",
    "        blobs_set_64.append(ip)\n",
    "        idx_read += 1\n",
    "        \n",
    "        # 2. process a bunch of files\n",
    "        if idx_read % (blobsize_iters) == 0: #gathered 64 items\n",
    "            res = [[] for k in range(len(blobs_set_64[0]))]\n",
    "            for i in range(len(res)):\n",
    "                res_tmp = []\n",
    "                for blob in blobs_set_64:\n",
    "                    res[i].extend(blob[i])\n",
    "                res[i] = np.array(res[i])\n",
    "            \n",
    "            #for res_tmp in res:\n",
    "            #    print (res_tmp.shape)\n",
    "            \n",
    "            # 2.1 STORE THIS\n",
    "            url_tmp_save = os.path.join(url_dataset_save, '{0}.h5'.format(idx_save))\n",
    "            print ('------> URL : ', url_tmp_save, ' Iter : ', path_iter, '/', len(files))\n",
    "            with h5py.File(url_tmp_save, \"w\") as hf:\n",
    "                for i, each in enumerate(res):\n",
    "                    hf.create_dataset('input_{0}'.format(i), data=each)\n",
    "                hf.create_dataset('output'.format(i), data=[])\n",
    "                \n",
    "            idx_read =  0\n",
    "            idx_save += 1 \n",
    "            blobs_set_64 = []"
   ]
  },
  {
   "cell_type": "code",
   "execution_count": 101,
   "metadata": {
    "ExecuteTime": {
     "end_time": "2018-03-20T16:05:30.192165Z",
     "start_time": "2018-03-20T16:05:25.744641Z"
    }
   },
   "outputs": [],
   "source": [
    "url_tmp = os.path.join(url_dataset_save, '0.h5')\n",
    "ip_tmp = []\n",
    "with h5py.File(url_tmp, \"r\") as hf:\n",
    "    ip, op = [], []\n",
    "    for name in hf:\n",
    "        if 'input' in name:\n",
    "            tmp = np.array(hf.get(name))\n",
    "            ip_tmp.append(tmp)"
   ]
  },
  {
   "cell_type": "code",
   "execution_count": 112,
   "metadata": {
    "ExecuteTime": {
     "end_time": "2018-03-20T16:06:52.398476Z",
     "start_time": "2018-03-20T16:06:52.264808Z"
    }
   },
   "outputs": [
    {
     "name": "stdout",
     "output_type": "stream",
     "text": [
      "(64, 56, 56, 100) (56, 56, 100)\n",
      "Class :  1\n"
     ]
    },
    {
     "data": {
      "text/plain": [
       "<matplotlib.image.AxesImage at 0x7f2dc7992978>"
      ]
     },
     "execution_count": 112,
     "metadata": {},
     "output_type": "execute_result"
    },
    {
     "data": {
      "image/png": "[encoded data removed]",
      "text/plain": [
       "<Figure size 432x288 with 1 Axes>"
      ]
     },
     "metadata": {},
     "output_type": "display_data"
    }
   ],
   "source": [
    "masks = ip_tmp[6]\n",
    "image_id = 51 # max - 64\n",
    "mask_id  = 2  # max - 100\n",
    "print (masks.shape, masks[image_id].shape)\n",
    "print ('Class : ', ip_tmp[4][image_id][mask_id])\n",
    "plt.imshow(masks[image_id][:,:,mask_id], cmap = 'gray')"
   ]
  },
  {
   "cell_type": "code",
   "execution_count": 58,
   "metadata": {
    "ExecuteTime": {
     "end_time": "2018-03-20T14:22:40.493289Z",
     "start_time": "2018-03-20T14:22:40.345306Z"
    }
   },
   "outputs": [
    {
     "name": "stderr",
     "output_type": "stream",
     "text": [
      "Clipping input data to the valid range for imshow with RGB data ([0..1] for floats or [0..255] for integers).\n"
     ]
    },
    {
     "name": "stdout",
     "output_type": "stream",
     "text": [
      "Images :  (64, 512, 512, 3)\n"
     ]
    },
    {
     "data": {
      "text/plain": [
       "<matplotlib.image.AxesImage at 0x7f2db558b780>"
      ]
     },
     "execution_count": 58,
     "metadata": {},
     "output_type": "execute_result"
    },
    {
     "data": {
      "image/png": "[encoded data removed]",
      "text/plain": [
       "<Figure size 432x288 with 1 Axes>"
      ]
     },
     "metadata": {},
     "output_type": "display_data"
    }
   ],
   "source": [
    "images = ip_tmp[0]\n",
    "print ('Images : ', images.shape)\n",
    "plt.imshow(images[0])"
   ]
  },
  {
   "cell_type": "markdown",
   "metadata": {},
   "source": [
    "# GENERATOR"
   ]
  },
  {
   "cell_type": "code",
   "execution_count": 7,
   "metadata": {
    "ExecuteTime": {
     "end_time": "2018-03-21T05:05:45.009579Z",
     "start_time": "2018-03-21T05:05:44.984417Z"
    }
   },
   "outputs": [
    {
     "name": "stdout",
     "output_type": "stream",
     "text": [
      "<generator object data_generator at 0x7fea2168d4c0>\n"
     ]
    }
   ],
   "source": [
    "def data_generator(url_dataset):\n",
    "    if os.path.exists(url_dataset):\n",
    "        while True:\n",
    "            for each in os.listdir(url_dataset):\n",
    "                url_tmp = os.path.join(url_dataset_train, each)\n",
    "                ip, op = [], []\n",
    "                print ('-->', url_tmp)\n",
    "                with h5py.File(url_tmp, \"r\") as hf:\n",
    "                    ip, op = [], []\n",
    "                    for name in hf:\n",
    "                        if 'input' in name:\n",
    "                            ip.append(np.array(hf.get(name)))\n",
    "                        elif 'output' in name:\n",
    "                            op.append(np.array(hf.get(name)))\n",
    "                yield ip, op[0]\n",
    "    else:\n",
    "        print ('url_dataset issue : ', url_dataset)\n",
    "\n",
    "url_dataset_train = '/home/ubuntu/datasets/open_datasets/mapillary_hdf5_64/mapillary-vistas-dataset_public_v1.0/training'\n",
    "# url_dataset_train = '/home/ubuntu/datasets/open_datasets/mapillary_hdf5_16_safecopy/mapillary-vistas-dataset_public_v1.0/training'\n",
    "gen = data_generator(url_dataset_train)\n",
    "print (gen)"
   ]
  },
  {
   "cell_type": "code",
   "execution_count": 6,
   "metadata": {
    "ExecuteTime": {
     "end_time": "2018-03-21T05:05:01.212559Z",
     "start_time": "2018-03-21T05:05:01.119993Z"
    }
   },
   "outputs": [
    {
     "ename": "StopIteration",
     "evalue": "",
     "output_type": "error",
     "traceback": [
      "\u001b[0;31m---------------------------------------------------------------------------\u001b[0m",
      "\u001b[0;31mStopIteration\u001b[0m                             Traceback (most recent call last)",
      "\u001b[0;32m<ipython-input-6-361d3fbca49a>\u001b[0m in \u001b[0;36m<module>\u001b[0;34m()\u001b[0m\n\u001b[0;32m----> 1\u001b[0;31m \u001b[0mget_ipython\u001b[0m\u001b[0;34m(\u001b[0m\u001b[0;34m)\u001b[0m\u001b[0;34m.\u001b[0m\u001b[0mrun_cell_magic\u001b[0m\u001b[0;34m(\u001b[0m\u001b[0;34m'timeit'\u001b[0m\u001b[0;34m,\u001b[0m \u001b[0;34m''\u001b[0m\u001b[0;34m,\u001b[0m \u001b[0;34m'ip, op = next(gen)'\u001b[0m\u001b[0;34m)\u001b[0m\u001b[0;34m\u001b[0m\u001b[0m\n\u001b[0m",
      "\u001b[0;32m/usr/local/lib/python3.5/dist-packages/IPython/core/interactiveshell.py\u001b[0m in \u001b[0;36mrun_cell_magic\u001b[0;34m(self, magic_name, line, cell)\u001b[0m\n\u001b[1;32m   2129\u001b[0m             \u001b[0mmagic_arg_s\u001b[0m \u001b[0;34m=\u001b[0m \u001b[0mself\u001b[0m\u001b[0;34m.\u001b[0m\u001b[0mvar_expand\u001b[0m\u001b[0;34m(\u001b[0m\u001b[0mline\u001b[0m\u001b[0;34m,\u001b[0m \u001b[0mstack_depth\u001b[0m\u001b[0;34m)\u001b[0m\u001b[0;34m\u001b[0m\u001b[0m\n\u001b[1;32m   2130\u001b[0m             \u001b[0;32mwith\u001b[0m \u001b[0mself\u001b[0m\u001b[0;34m.\u001b[0m\u001b[0mbuiltin_trap\u001b[0m\u001b[0;34m:\u001b[0m\u001b[0;34m\u001b[0m\u001b[0m\n\u001b[0;32m-> 2131\u001b[0;31m                 \u001b[0mresult\u001b[0m \u001b[0;34m=\u001b[0m \u001b[0mfn\u001b[0m\u001b[0;34m(\u001b[0m\u001b[0mmagic_arg_s\u001b[0m\u001b[0;34m,\u001b[0m \u001b[0mcell\u001b[0m\u001b[0;34m)\u001b[0m\u001b[0;34m\u001b[0m\u001b[0m\n\u001b[0m\u001b[1;32m   2132\u001b[0m             \u001b[0;32mreturn\u001b[0m \u001b[0mresult\u001b[0m\u001b[0;34m\u001b[0m\u001b[0m\n\u001b[1;32m   2133\u001b[0m \u001b[0;34m\u001b[0m\u001b[0m\n",
      "\u001b[0;32m<decorator-gen-61>\u001b[0m in \u001b[0;36mtimeit\u001b[0;34m(self, line, cell, local_ns)\u001b[0m\n",
      "\u001b[0;32m/usr/local/lib/python3.5/dist-packages/IPython/core/magic.py\u001b[0m in \u001b[0;36m<lambda>\u001b[0;34m(f, *a, **k)\u001b[0m\n\u001b[1;32m    185\u001b[0m     \u001b[0;31m# but it's overkill for just that one bit of state.\u001b[0m\u001b[0;34m\u001b[0m\u001b[0;34m\u001b[0m\u001b[0m\n\u001b[1;32m    186\u001b[0m     \u001b[0;32mdef\u001b[0m \u001b[0mmagic_deco\u001b[0m\u001b[0;34m(\u001b[0m\u001b[0marg\u001b[0m\u001b[0;34m)\u001b[0m\u001b[0;34m:\u001b[0m\u001b[0;34m\u001b[0m\u001b[0m\n\u001b[0;32m--> 187\u001b[0;31m         \u001b[0mcall\u001b[0m \u001b[0;34m=\u001b[0m \u001b[0;32mlambda\u001b[0m \u001b[0mf\u001b[0m\u001b[0;34m,\u001b[0m \u001b[0;34m*\u001b[0m\u001b[0ma\u001b[0m\u001b[0;34m,\u001b[0m \u001b[0;34m**\u001b[0m\u001b[0mk\u001b[0m\u001b[0;34m:\u001b[0m \u001b[0mf\u001b[0m\u001b[0;34m(\u001b[0m\u001b[0;34m*\u001b[0m\u001b[0ma\u001b[0m\u001b[0;34m,\u001b[0m \u001b[0;34m**\u001b[0m\u001b[0mk\u001b[0m\u001b[0;34m)\u001b[0m\u001b[0;34m\u001b[0m\u001b[0m\n\u001b[0m\u001b[1;32m    188\u001b[0m \u001b[0;34m\u001b[0m\u001b[0m\n\u001b[1;32m    189\u001b[0m         \u001b[0;32mif\u001b[0m \u001b[0mcallable\u001b[0m\u001b[0;34m(\u001b[0m\u001b[0marg\u001b[0m\u001b[0;34m)\u001b[0m\u001b[0;34m:\u001b[0m\u001b[0;34m\u001b[0m\u001b[0m\n",
      "\u001b[0;32m/usr/local/lib/python3.5/dist-packages/IPython/core/magics/execution.py\u001b[0m in \u001b[0;36mtimeit\u001b[0;34m(self, line, cell, local_ns)\u001b[0m\n\u001b[1;32m   1096\u001b[0m             \u001b[0;32mfor\u001b[0m \u001b[0mindex\u001b[0m \u001b[0;32min\u001b[0m \u001b[0mrange\u001b[0m\u001b[0;34m(\u001b[0m\u001b[0;36m0\u001b[0m\u001b[0;34m,\u001b[0m \u001b[0;36m10\u001b[0m\u001b[0;34m)\u001b[0m\u001b[0;34m:\u001b[0m\u001b[0;34m\u001b[0m\u001b[0m\n\u001b[1;32m   1097\u001b[0m                 \u001b[0mnumber\u001b[0m \u001b[0;34m=\u001b[0m \u001b[0;36m10\u001b[0m \u001b[0;34m**\u001b[0m \u001b[0mindex\u001b[0m\u001b[0;34m\u001b[0m\u001b[0m\n\u001b[0;32m-> 1098\u001b[0;31m                 \u001b[0mtime_number\u001b[0m \u001b[0;34m=\u001b[0m \u001b[0mtimer\u001b[0m\u001b[0;34m.\u001b[0m\u001b[0mtimeit\u001b[0m\u001b[0;34m(\u001b[0m\u001b[0mnumber\u001b[0m\u001b[0;34m)\u001b[0m\u001b[0;34m\u001b[0m\u001b[0m\n\u001b[0m\u001b[1;32m   1099\u001b[0m                 \u001b[0;32mif\u001b[0m \u001b[0mtime_number\u001b[0m \u001b[0;34m>=\u001b[0m \u001b[0;36m0.2\u001b[0m\u001b[0;34m:\u001b[0m\u001b[0;34m\u001b[0m\u001b[0m\n\u001b[1;32m   1100\u001b[0m                     \u001b[0;32mbreak\u001b[0m\u001b[0;34m\u001b[0m\u001b[0m\n",
      "\u001b[0;32m/usr/local/lib/python3.5/dist-packages/IPython/core/magics/execution.py\u001b[0m in \u001b[0;36mtimeit\u001b[0;34m(self, number)\u001b[0m\n\u001b[1;32m    158\u001b[0m         \u001b[0mgc\u001b[0m\u001b[0;34m.\u001b[0m\u001b[0mdisable\u001b[0m\u001b[0;34m(\u001b[0m\u001b[0;34m)\u001b[0m\u001b[0;34m\u001b[0m\u001b[0m\n\u001b[1;32m    159\u001b[0m         \u001b[0;32mtry\u001b[0m\u001b[0;34m:\u001b[0m\u001b[0;34m\u001b[0m\u001b[0m\n\u001b[0;32m--> 160\u001b[0;31m             \u001b[0mtiming\u001b[0m \u001b[0;34m=\u001b[0m \u001b[0mself\u001b[0m\u001b[0;34m.\u001b[0m\u001b[0minner\u001b[0m\u001b[0;34m(\u001b[0m\u001b[0mit\u001b[0m\u001b[0;34m,\u001b[0m \u001b[0mself\u001b[0m\u001b[0;34m.\u001b[0m\u001b[0mtimer\u001b[0m\u001b[0;34m)\u001b[0m\u001b[0;34m\u001b[0m\u001b[0m\n\u001b[0m\u001b[1;32m    161\u001b[0m         \u001b[0;32mfinally\u001b[0m\u001b[0;34m:\u001b[0m\u001b[0;34m\u001b[0m\u001b[0m\n\u001b[1;32m    162\u001b[0m             \u001b[0;32mif\u001b[0m \u001b[0mgcold\u001b[0m\u001b[0;34m:\u001b[0m\u001b[0;34m\u001b[0m\u001b[0m\n",
      "\u001b[0;32m<magic-timeit>\u001b[0m in \u001b[0;36minner\u001b[0;34m(_it, _timer)\u001b[0m\n",
      "\u001b[0;31mStopIteration\u001b[0m: "
     ]
    }
   ],
   "source": [
    "%%timeit\n",
    "ip, op = next(gen)"
   ]
  },
  {
   "cell_type": "code",
   "execution_count": 10,
   "metadata": {
    "ExecuteTime": {
     "end_time": "2018-03-21T05:08:27.298297Z",
     "start_time": "2018-03-21T05:07:06.499172Z"
    },
    "scrolled": true
   },
   "outputs": [
    {
     "name": "stdout",
     "output_type": "stream",
     "text": [
      "--> /home/ubuntu/datasets/open_datasets/mapillary_hdf5_64/mapillary-vistas-dataset_public_v1.0/training/290.h5\n",
      "Batch Size :  64\n",
      "input_image \t (64, 512, 512, 3) float32\n",
      "input_image_meta \t (64, 23) int64\n",
      "input_rpn_match \t (64, 65472, 1) int32\n",
      "input_rpn_bbox \t (64, 256, 4) float64\n",
      "input_gt_class_ids \t (64, 100) int32\n",
      "input_gt_boxes \t (64, 100, 4) int32\n",
      "input_gt_masks \t (64, 56, 56, 100) float64\n",
      "--> /home/ubuntu/datasets/open_datasets/mapillary_hdf5_64/mapillary-vistas-dataset_public_v1.0/training/175.h5\n",
      "Batch Size :  64\n",
      "input_image \t (64, 512, 512, 3) float32\n",
      "input_image_meta \t (64, 23) int64\n",
      "input_rpn_match \t (64, 65472, 1) int32\n",
      "input_rpn_bbox \t (64, 256, 4) float64\n",
      "input_gt_class_ids \t (64, 100) int32\n",
      "input_gt_boxes \t (64, 100, 4) int32\n",
      "input_gt_masks \t (64, 56, 56, 100) float64\n",
      "--> /home/ubuntu/datasets/open_datasets/mapillary_hdf5_64/mapillary-vistas-dataset_public_v1.0/training/127.h5\n",
      "Batch Size :  64\n",
      "input_image \t (64, 512, 512, 3) float32\n",
      "input_image_meta \t (64, 23) int64\n",
      "input_rpn_match \t (64, 65472, 1) int32\n",
      "input_rpn_bbox \t (64, 256, 4) float64\n",
      "input_gt_class_ids \t (64, 100) int32\n",
      "input_gt_boxes \t (64, 100, 4) int32\n",
      "input_gt_masks \t (64, 56, 56, 100) float64\n",
      "--> /home/ubuntu/datasets/open_datasets/mapillary_hdf5_64/mapillary-vistas-dataset_public_v1.0/training/165.h5\n",
      "Batch Size :  64\n",
      "input_image \t (64, 512, 512, 3) float32\n",
      "input_image_meta \t (64, 23) int64\n",
      "input_rpn_match \t (64, 65472, 1) int32\n",
      "input_rpn_bbox \t (64, 256, 4) float64\n",
      "input_gt_class_ids \t (64, 100) int32\n",
      "input_gt_boxes \t (64, 100, 4) int32\n",
      "input_gt_masks \t (64, 56, 56, 100) float64\n",
      "--> /home/ubuntu/datasets/open_datasets/mapillary_hdf5_64/mapillary-vistas-dataset_public_v1.0/training/57.h5\n",
      "Batch Size :  64\n",
      "input_image \t (64, 512, 512, 3) float32\n",
      "input_image_meta \t (64, 23) int64\n",
      "input_rpn_match \t (64, 65472, 1) int32\n",
      "input_rpn_bbox \t (64, 256, 4) float64\n",
      "input_gt_class_ids \t (64, 100) int32\n",
      "input_gt_boxes \t (64, 100, 4) int32\n",
      "input_gt_masks \t (64, 56, 56, 100) float64\n",
      "--> /home/ubuntu/datasets/open_datasets/mapillary_hdf5_64/mapillary-vistas-dataset_public_v1.0/training/43.h5\n",
      "Batch Size :  64\n",
      "input_image \t (64, 512, 512, 3) float32\n",
      "input_image_meta \t (64, 23) int64\n",
      "input_rpn_match \t (64, 65472, 1) int32\n",
      "input_rpn_bbox \t (64, 256, 4) float64\n",
      "input_gt_class_ids \t (64, 100) int32\n",
      "input_gt_boxes \t (64, 100, 4) int32\n",
      "input_gt_masks \t (64, 56, 56, 100) float64\n",
      "--> /home/ubuntu/datasets/open_datasets/mapillary_hdf5_64/mapillary-vistas-dataset_public_v1.0/training/184.h5\n",
      "Batch Size :  64\n",
      "input_image \t (64, 512, 512, 3) float32\n",
      "input_image_meta \t (64, 23) int64\n",
      "input_rpn_match \t (64, 65472, 1) int32\n",
      "input_rpn_bbox \t (64, 256, 4) float64\n",
      "input_gt_class_ids \t (64, 100) int32\n",
      "input_gt_boxes \t (64, 100, 4) int32\n",
      "input_gt_masks \t (64, 56, 56, 100) float64\n",
      "--> /home/ubuntu/datasets/open_datasets/mapillary_hdf5_64/mapillary-vistas-dataset_public_v1.0/training/297.h5\n",
      "Batch Size :  64\n",
      "input_image \t (64, 512, 512, 3) float32\n",
      "input_image_meta \t (64, 23) int64\n",
      "input_rpn_match \t (64, 65472, 1) int32\n",
      "input_rpn_bbox \t (64, 256, 4) float64\n",
      "input_gt_class_ids \t (64, 100) int32\n",
      "input_gt_boxes \t (64, 100, 4) int32\n",
      "input_gt_masks \t (64, 56, 56, 100) float64\n",
      "10.1 s ± 200 ms per loop (mean ± std. dev. of 7 runs, 1 loop each)\n"
     ]
    }
   ],
   "source": [
    "%%timeit\n",
    "ip, op = next(gen)\n",
    "input_names = ['input_image', 'input_image_meta', 'input_rpn_match', 'input_rpn_bbox', 'input_gt_class_ids', 'input_gt_boxes', 'input_gt_masks']\n",
    "print ('Batch Size : ', len(ip[0]))\n",
    "for i, each in enumerate(ip):\n",
    "    tmp = tf.split(each, 4)\n",
    "    print (input_names[i], '\\t',each.shape, each.dtype)"
   ]
  },
  {
   "cell_type": "code",
   "execution_count": 97,
   "metadata": {
    "ExecuteTime": {
     "end_time": "2018-03-20T16:04:46.889889Z",
     "start_time": "2018-03-20T16:04:46.755419Z"
    }
   },
   "outputs": [
    {
     "name": "stdout",
     "output_type": "stream",
     "text": [
      "(16, 56, 56, 100) (56, 56, 100)\n",
      "Class :  1\n",
      "(56, 100)\n"
     ]
    },
    {
     "data": {
      "image/png": "[encoded data removed]",
      "text/plain": [
       "<Figure size 432x288 with 1 Axes>"
      ]
     },
     "metadata": {},
     "output_type": "display_data"
    }
   ],
   "source": [
    "masks = ip[6]\n",
    "image_id = 10 # max - 16\n",
    "mask_id  = 2  # max - 100\n",
    "print (masks.shape, masks[image_id].shape)\n",
    "print ('Class : ', ip[4][image_id][mask_id])\n",
    "plt.imshow(masks[image_id][:,:,mask_id], cmap = 'gray')\n",
    "\n",
    "print (masks[image_id][::,mask_id].shape)"
   ]
  },
  {
   "cell_type": "code",
   "execution_count": 93,
   "metadata": {
    "ExecuteTime": {
     "end_time": "2018-03-20T16:04:19.858747Z",
     "start_time": "2018-03-20T16:04:19.855764Z"
    }
   },
   "outputs": [],
   "source": [
    "a = np.zeros((10,10,99))"
   ]
  },
  {
   "cell_type": "code",
   "execution_count": 96,
   "metadata": {
    "ExecuteTime": {
     "end_time": "2018-03-20T16:04:41.613168Z",
     "start_time": "2018-03-20T16:04:41.608744Z"
    }
   },
   "outputs": [
    {
     "data": {
      "text/plain": [
       "(10, 10)"
      ]
     },
     "execution_count": 96,
     "metadata": {},
     "output_type": "execute_result"
    }
   ],
   "source": [
    "a[:,:,3].shape"
   ]
  },
  {
   "cell_type": "code",
   "execution_count": null,
   "metadata": {},
   "outputs": [],
   "source": []
  }
 ],
 "metadata": {
  "kernelspec": {
   "display_name": "Python 3",
   "language": "python",
   "name": "python3"
  },
  "language_info": {
   "codemirror_mode": {
    "name": "ipython",
    "version": 3
   },
   "file_extension": ".py",
   "mimetype": "text/x-python",
   "name": "python",
   "nbconvert_exporter": "python",
   "pygments_lexer": "ipython3",
   "version": "3.5.2"
  }
 },
 "nbformat": 4,
 "nbformat_minor": 2
}
