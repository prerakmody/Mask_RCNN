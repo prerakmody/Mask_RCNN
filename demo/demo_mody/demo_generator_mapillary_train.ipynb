{
 "cells": [
  {
   "cell_type": "code",
   "execution_count": 8,
   "metadata": {
    "ExecuteTime": {
     "end_time": "2018-03-16T10:25:46.264668Z",
     "start_time": "2018-03-16T10:25:46.226729Z"
    }
   },
   "outputs": [
    {
     "name": "stdout",
     "output_type": "stream",
     "text": [
      "TF :  1.6.0   Keras :  2.1.5   CUDA :  CUDA Version 9.0.176\n",
      "\n"
     ]
    }
   ],
   "source": [
    "## STANDARD PYTHON LIBS\n",
    "import os\n",
    "import sys\n",
    "import numpy as np\n",
    "import matplotlib.pyplot as plt\n",
    "%matplotlib inline\n",
    "\n",
    "## ADDING TO ROOT\n",
    "ROOT_DIR = os.path.abspath(os.path.join(os.getcwd(), '../../'))\n",
    "sys.path.append(ROOT_DIR)\n",
    "\n",
    "## CUSTOM LIBS\n",
    "import src.utils as utils\n",
    "import src.model as modellib\n",
    "from src.config import Config\n",
    "import src.visualize as visualize\n",
    "\n",
    "# GPU LIBS\n",
    "import keras\n",
    "import tensorflow as tf\n",
    "\n",
    "cuda_version = os.popen(\"cat /usr/local/cuda/version.txt \").read()\n",
    "print ('TF : ', tf.__version__, '  Keras : ', keras.__version__, '  CUDA : ', cuda_version)"
   ]
  },
  {
   "cell_type": "code",
   "execution_count": 9,
   "metadata": {
    "ExecuteTime": {
     "end_time": "2018-03-16T10:25:48.157741Z",
     "start_time": "2018-03-16T10:25:48.071193Z"
    }
   },
   "outputs": [
    {
     "name": "stdout",
     "output_type": "stream",
     "text": [
      "Mode : train has 17979 images\n",
      "Mode : val has 2000 images\n"
     ]
    }
   ],
   "source": [
    "if 'src.mapillary' in sys.modules : del sys.modules['src.mapillary']\n",
    "if 'src.utils'     in sys.modules : del sys.modules['src.utils']\n",
    "if 'src.model'     in sys.modules : del sys.modules['src.model']\n",
    "\n",
    "import src.utils as utils\n",
    "import src.model as modellib\n",
    "import src.mapillary as mapillary\n",
    "\n",
    "if __name__ == \"__main__\":\n",
    "    url_dataset = '/home/play/datasets/open_datasets/mapillary'\n",
    "    mapillary_mapper = '/home/play/playment/Mask_RCNN/demo/raw/merge__cityscapes_mapillary_v2.json'\n",
    "    mapillary_config = mapillary.MapillaryConfig()\n",
    "    mapillary_config.IMAGES_PER_GPU = 8\n",
    "    mapillary_config.STEPS_PER_EPOCH = 10\n",
    "    trainData = mapillary.MapillaryDataset(url_dataset, mapillary_mapper, mapillary_config, data_type = 'train')\n",
    "    valData   = mapillary.MapillaryDataset(url_dataset, mapillary_mapper, mapillary_config, data_type = 'val')"
   ]
  },
  {
   "cell_type": "code",
   "execution_count": null,
   "metadata": {
    "ExecuteTime": {
     "start_time": "2018-03-16T10:40:50.309Z"
    },
    "scrolled": true
   },
   "outputs": [
    {
     "name": "stdout",
     "output_type": "stream",
     "text": [
      "mapillary_config.BATCH_SIZE :  8\n",
      "Saving in dir :  /home/play/datasets/open_datasets/mapillary_hdf5/mapillary-vistas-dataset_public_v1.0/training\n",
      " -------> Time taken for save : 46.44 || URL : 0\n",
      " ----> Time Taken for one batch 46.43 || Final Index : 7\n",
      " -------> Time taken for save : 48.22 || URL : 1\n",
      " ----> Time Taken for one batch 48.22 || Final Index : 15\n",
      " -------> Time taken for save : 38.54 || URL : 2\n",
      " ----> Time Taken for one batch 38.54 || Final Index : 23\n",
      " -------> Time taken for save : 39.91 || URL : 3\n",
      " ----> Time Taken for one batch 39.91 || Final Index : 31\n",
      " -------> Time taken for save : 47.53 || URL : 4\n",
      " ----> Time Taken for one batch 47.53 || Final Index : 39\n",
      " -------> Time taken for save : 47.96 || URL : 5\n",
      " ----> Time Taken for one batch 47.96 || Final Index : 47\n",
      " -------> Time taken for save : 37.36 || URL : 6\n",
      " ----> Time Taken for one batch 37.36 || Final Index : 55\n",
      " -------> Time taken for save : 46.89 || URL : 7\n",
      " ----> Time Taken for one batch 46.89 || Final Index : 63\n",
      " -------> Time taken for save : 49.23 || URL : 8\n",
      " ----> Time Taken for one batch 49.23 || Final Index : 71\n",
      " -------> Time taken for save : 36.88 || URL : 9\n",
      " ----> Time Taken for one batch 36.88 || Final Index : 79\n",
      " -------> Time taken for save : 38.74 || URL : 10\n",
      " ----> Time Taken for one batch 38.74 || Final Index : 87\n",
      " -------> Time taken for save : 36.08 || URL : 11\n",
      " ----> Time Taken for one batch 36.08 || Final Index : 95\n",
      " -------> Time taken for save : 44.75 || URL : 12\n",
      " ----> Time Taken for one batch 44.75 || Final Index : 103\n",
      " -------> Time taken for save : 37.26 || URL : 13\n",
      " ----> Time Taken for one batch 37.26 || Final Index : 111\n",
      " -------> Time taken for save : 38.69 || URL : 14\n",
      " ----> Time Taken for one batch 38.69 || Final Index : 119\n",
      " -------> Time taken for save : 45.21 || URL : 15\n",
      " ----> Time Taken for one batch 45.21 || Final Index : 127\n",
      " -------> Time taken for save : 45.48 || URL : 16\n",
      " ----> Time Taken for one batch 45.48 || Final Index : 135\n",
      " -------> Time taken for save : 57.33 || URL : 17\n",
      " ----> Time Taken for one batch 57.33 || Final Index : 143\n",
      " -------> Time taken for save : 53.78 || URL : 18\n",
      " ----> Time Taken for one batch 53.78 || Final Index : 151\n",
      " -------> Time taken for save : 37.37 || URL : 19\n",
      " ----> Time Taken for one batch 37.37 || Final Index : 159\n",
      " -------> Time taken for save : 46.09 || URL : 20\n",
      " ----> Time Taken for one batch 46.09 || Final Index : 167\n",
      " -------> Time taken for save : 42.59 || URL : 21\n",
      " ----> Time Taken for one batch 42.59 || Final Index : 175\n",
      " -------> Time taken for save : 48.31 || URL : 22\n",
      " ----> Time Taken for one batch 48.31 || Final Index : 183\n",
      " -------> Time taken for save : 49.01 || URL : 23\n",
      " ----> Time Taken for one batch 49.01 || Final Index : 191\n",
      " -------> Time taken for save : 34.38 || URL : 24\n",
      " ----> Time Taken for one batch 34.38 || Final Index : 199\n",
      " -------> Time taken for save : 42.07 || URL : 25\n",
      " ----> Time Taken for one batch 42.08 || Final Index : 207\n",
      " -------> Time taken for save : 42.98 || URL : 26\n",
      " ----> Time Taken for one batch 42.98 || Final Index : 215\n",
      " -------> Time taken for save : 34.44 || URL : 27\n",
      " ----> Time Taken for one batch 34.44 || Final Index : 223\n",
      " -------> Time taken for save : 38.42 || URL : 28\n",
      " ----> Time Taken for one batch 38.42 || Final Index : 231\n",
      " -------> Time taken for save : 51.68 || URL : 29\n",
      " ----> Time Taken for one batch 51.68 || Final Index : 239\n",
      " -------> Time taken for save : 53.34 || URL : 30\n",
      " ----> Time Taken for one batch 53.34 || Final Index : 247\n",
      " -------> Time taken for save : 44.72 || URL : 31\n",
      " ----> Time Taken for one batch 44.72 || Final Index : 255\n",
      " -------> Time taken for save : 49.75 || URL : 32\n",
      " ----> Time Taken for one batch 49.75 || Final Index : 263\n",
      " -------> Time taken for save : 47.05 || URL : 33\n",
      " ----> Time Taken for one batch 47.05 || Final Index : 271\n",
      " -------> Time taken for save : 41.6 || URL : 34\n",
      " ----> Time Taken for one batch 41.6 || Final Index : 279\n",
      " -------> Time taken for save : 44.58 || URL : 35\n",
      " ----> Time Taken for one batch 44.58 || Final Index : 287\n",
      " -------> Time taken for save : 41.38 || URL : 36\n",
      " ----> Time Taken for one batch 41.38 || Final Index : 295\n",
      " -------> Time taken for save : 61.75 || URL : 37\n",
      " ----> Time Taken for one batch 61.75 || Final Index : 303\n",
      " -------> Time taken for save : 59.15 || URL : 38\n",
      " ----> Time Taken for one batch 59.15 || Final Index : 311\n",
      " -------> Time taken for save : 45.46 || URL : 39\n",
      " ----> Time Taken for one batch 45.46 || Final Index : 319\n",
      " -------> Time taken for save : 50.07 || URL : 40\n",
      " ----> Time Taken for one batch 50.07 || Final Index : 327\n",
      " -------> Time taken for save : 41.85 || URL : 41\n",
      " ----> Time Taken for one batch 41.85 || Final Index : 335\n",
      " -------> Time taken for save : 59.18 || URL : 42\n",
      " ----> Time Taken for one batch 59.18 || Final Index : 343\n",
      " -------> Time taken for save : 32.43 || URL : 43\n",
      " ----> Time Taken for one batch 32.43 || Final Index : 351\n",
      " -------> Time taken for save : 42.23 || URL : 44\n",
      " ----> Time Taken for one batch 42.23 || Final Index : 359\n",
      " -------> Time taken for save : 45.15 || URL : 45\n",
      " ----> Time Taken for one batch 45.15 || Final Index : 367\n",
      " -------> Time taken for save : 46.35 || URL : 46\n",
      " ----> Time Taken for one batch 46.35 || Final Index : 375\n",
      " -------> Time taken for save : 37.87 || URL : 47\n",
      " ----> Time Taken for one batch 37.86 || Final Index : 383\n",
      " -------> Time taken for save : 59.16 || URL : 48\n",
      " ----> Time Taken for one batch 59.16 || Final Index : 391\n",
      " -------> Time taken for save : 48.03 || URL : 49\n",
      " ----> Time Taken for one batch 48.03 || Final Index : 399\n",
      " -------> Time taken for save : 46.07 || URL : 50\n",
      " ----> Time Taken for one batch 46.07 || Final Index : 407\n",
      " -------> Time taken for save : 53.41 || URL : 51\n",
      " ----> Time Taken for one batch 53.41 || Final Index : 415\n",
      " -------> Time taken for save : 46.23 || URL : 52\n",
      " ----> Time Taken for one batch 46.23 || Final Index : 423\n",
      " -------> Time taken for save : 49.22 || URL : 53\n",
      " ----> Time Taken for one batch 49.22 || Final Index : 431\n",
      " -------> Time taken for save : 43.6 || URL : 54\n",
      " ----> Time Taken for one batch 43.6 || Final Index : 439\n",
      " -------> Time taken for save : 67.15 || URL : 55\n",
      " ----> Time Taken for one batch 67.15 || Final Index : 447\n",
      " -------> Time taken for save : 48.78 || URL : 56\n",
      " ----> Time Taken for one batch 48.78 || Final Index : 455\n",
      " -------> Time taken for save : 52.84 || URL : 57\n",
      " ----> Time Taken for one batch 52.84 || Final Index : 463\n",
      " -------> Time taken for save : 59.13 || URL : 58\n",
      " ----> Time Taken for one batch 59.13 || Final Index : 471\n",
      " -------> Time taken for save : 46.53 || URL : 59\n",
      " ----> Time Taken for one batch 46.53 || Final Index : 479\n",
      " -------> Time taken for save : 35.35 || URL : 60\n",
      " ----> Time Taken for one batch 35.35 || Final Index : 487\n",
      " -------> Time taken for save : 59.79 || URL : 61\n",
      " ----> Time Taken for one batch 59.79 || Final Index : 495\n",
      " -------> Time taken for save : 59.88 || URL : 62\n",
      " ----> Time Taken for one batch 59.88 || Final Index : 503\n",
      " -------> Time taken for save : 48.0 || URL : 63\n",
      " ----> Time Taken for one batch 48.0 || Final Index : 511\n",
      " -------> Time taken for save : 36.49 || URL : 64\n",
      " ----> Time Taken for one batch 36.49 || Final Index : 519\n",
      " -------> Time taken for save : 53.82 || URL : 65\n",
      " ----> Time Taken for one batch 53.82 || Final Index : 527\n",
      " -------> Time taken for save : 39.55 || URL : 66\n",
      " ----> Time Taken for one batch 39.55 || Final Index : 535\n",
      " -------> Time taken for save : 42.63 || URL : 67\n",
      " ----> Time Taken for one batch 42.63 || Final Index : 543\n",
      " -------> Time taken for save : 45.39 || URL : 68\n",
      " ----> Time Taken for one batch 45.39 || Final Index : 551\n",
      " -------> Time taken for save : 36.14 || URL : 69\n",
      " ----> Time Taken for one batch 36.14 || Final Index : 559\n",
      " -------> Time taken for save : 39.55 || URL : 70\n",
      " ----> Time Taken for one batch 39.55 || Final Index : 567\n",
      " -------> Time taken for save : 52.55 || URL : 71\n",
      " ----> Time Taken for one batch 52.55 || Final Index : 575\n",
      " -------> Time taken for save : 61.21 || URL : 72\n",
      " ----> Time Taken for one batch 61.21 || Final Index : 583\n",
      " -------> Time taken for save : 48.59 || URL : 73\n",
      " ----> Time Taken for one batch 48.59 || Final Index : 591\n",
      " -------> Time taken for save : 50.35 || URL : 74\n",
      " ----> Time Taken for one batch 50.35 || Final Index : 599\n"
     ]
    },
    {
     "name": "stdout",
     "output_type": "stream",
     "text": [
      " -------> Time taken for save : 74.36 || URL : 75\n",
      " ----> Time Taken for one batch 74.36 || Final Index : 607\n",
      " -------> Time taken for save : 56.4 || URL : 76\n",
      " ----> Time Taken for one batch 56.4 || Final Index : 615\n",
      " -------> Time taken for save : 61.02 || URL : 77\n",
      " ----> Time Taken for one batch 61.02 || Final Index : 623\n",
      " -------> Time taken for save : 39.22 || URL : 78\n",
      " ----> Time Taken for one batch 39.22 || Final Index : 631\n",
      " -------> Time taken for save : 48.85 || URL : 79\n",
      " ----> Time Taken for one batch 48.85 || Final Index : 639\n",
      " -------> Time taken for save : 39.65 || URL : 80\n",
      " ----> Time Taken for one batch 39.65 || Final Index : 647\n",
      " -------> Time taken for save : 46.67 || URL : 81\n",
      " ----> Time Taken for one batch 46.67 || Final Index : 655\n",
      " -------> Time taken for save : 47.28 || URL : 82\n",
      " ----> Time Taken for one batch 47.28 || Final Index : 663\n",
      " -------> Time taken for save : 58.02 || URL : 83\n",
      " ----> Time Taken for one batch 58.02 || Final Index : 671\n",
      " -------> Time taken for save : 32.87 || URL : 84\n",
      " ----> Time Taken for one batch 32.88 || Final Index : 679\n",
      " -------> Time taken for save : 60.31 || URL : 85\n",
      " ----> Time Taken for one batch 60.31 || Final Index : 687\n",
      " -------> Time taken for save : 45.34 || URL : 86\n",
      " ----> Time Taken for one batch 45.34 || Final Index : 695\n",
      " -------> Time taken for save : 44.84 || URL : 87\n",
      " ----> Time Taken for one batch 44.84 || Final Index : 703\n",
      " -------> Time taken for save : 50.56 || URL : 88\n",
      " ----> Time Taken for one batch 50.56 || Final Index : 711\n",
      " -------> Time taken for save : 44.49 || URL : 89\n",
      " ----> Time Taken for one batch 44.49 || Final Index : 719\n",
      " -------> Time taken for save : 41.9 || URL : 90\n",
      " ----> Time Taken for one batch 41.9 || Final Index : 727\n"
     ]
    }
   ],
   "source": [
    "import h5py\n",
    "import time\n",
    "\n",
    "def create_hdf5(generator, url_dataset, counter):\n",
    "    print ('Saving in dir : ', url_dataset)\n",
    "    iters = 0\n",
    "    while True:\n",
    "        t0 = time.time()\n",
    "        url_tmp = os.path.join(url_dataset, '{}.h5'.format(iters))\n",
    "        data = next(generator)\n",
    "        if len(data) == 2:\n",
    "            ip = data[0]\n",
    "            op = data[1]\n",
    "        with h5py.File(url_tmp, \"w\") as hf:\n",
    "            for i, each in enumerate(ip):\n",
    "                hf.create_dataset('input_{0}'.format(i), data=each)\n",
    "            if len(op):\n",
    "                for i, each in enumerate(op):\n",
    "                    hf.create_dataset('output_{0}'.format(i), data=each)\n",
    "            else:\n",
    "                hf.create_dataset('output'.format(i), data=op)\n",
    "\n",
    "        print (' -------> Time taken for save : {0} || URL : {1}'.format(round(time.time() - t0,2), iters))\n",
    "        iters += 1\n",
    "        if iters > counter:\n",
    "            break\n",
    "\n",
    "print ('mapillary_config.BATCH_SIZE : ', mapillary_config.BATCH_SIZE)\n",
    "train_generator = modellib.data_generator(trainData, mapillary_config, shuffle=True, batch_size=mapillary_config.BATCH_SIZE)\n",
    "url_dataset_train = '/home/play/datasets/open_datasets/mapillary_hdf5/mapillary-vistas-dataset_public_v1.0/training'\n",
    "create_hdf5(train_generator, url_dataset_train, counter = 2250)"
   ]
  },
  {
   "cell_type": "markdown",
   "metadata": {},
   "source": [
    "# GENERATOR"
   ]
  },
  {
   "cell_type": "code",
   "execution_count": 5,
   "metadata": {
    "ExecuteTime": {
     "end_time": "2018-03-16T10:17:41.179578Z",
     "start_time": "2018-03-16T10:17:41.161751Z"
    }
   },
   "outputs": [],
   "source": [
    "def data_generator(url_dataset):\n",
    "    while True:\n",
    "        for each in os.listdir(dataset):\n",
    "            url_tmp = os.path.join(url_dataset_train, each)\n",
    "            ip, op = [], []\n",
    "            print (url_tmp)\n",
    "            with h5py.File(url_tmp, \"r\") as hf:\n",
    "                ip, op = [], []\n",
    "                for name in hf:\n",
    "                    if 'input' in name:\n",
    "                        ip.append(np.array(hf.get(name)))\n",
    "                    elif 'output' in name:\n",
    "                        op.append(np.array(hf.get(name)))\n",
    "            yield ip, op[0]\n",
    "\n",
    "gen = data_generator('', '')"
   ]
  },
  {
   "cell_type": "code",
   "execution_count": 6,
   "metadata": {
    "ExecuteTime": {
     "end_time": "2018-03-16T10:17:41.303942Z",
     "start_time": "2018-03-16T10:17:41.181856Z"
    }
   },
   "outputs": [
    {
     "ename": "NameError",
     "evalue": "name 'url_dataset_train' is not defined",
     "output_type": "error",
     "traceback": [
      "\u001b[0;31m---------------------------------------------------------------------------\u001b[0m",
      "\u001b[0;31mNameError\u001b[0m                                 Traceback (most recent call last)",
      "\u001b[0;32m<ipython-input-6-6e72e47198db>\u001b[0m in \u001b[0;36m<module>\u001b[0;34m()\u001b[0m\n\u001b[0;32m----> 1\u001b[0;31m \u001b[0mnext\u001b[0m\u001b[0;34m(\u001b[0m\u001b[0mgen\u001b[0m\u001b[0;34m)\u001b[0m\u001b[0;34m\u001b[0m\u001b[0m\n\u001b[0m",
      "\u001b[0;32m<ipython-input-5-77c10f6d9ba1>\u001b[0m in \u001b[0;36mdata_generator\u001b[0;34m(dataset, config, shuffle, augment, random_rois, batch_size, detection_targets)\u001b[0m\n\u001b[1;32m      2\u001b[0m                    batch_size=1, detection_targets=False):\n\u001b[1;32m      3\u001b[0m     \u001b[0;32mwhile\u001b[0m \u001b[0;32mTrue\u001b[0m\u001b[0;34m:\u001b[0m\u001b[0;34m\u001b[0m\u001b[0m\n\u001b[0;32m----> 4\u001b[0;31m         \u001b[0;32mfor\u001b[0m \u001b[0meach\u001b[0m \u001b[0;32min\u001b[0m \u001b[0mos\u001b[0m\u001b[0;34m.\u001b[0m\u001b[0mlistdir\u001b[0m\u001b[0;34m(\u001b[0m\u001b[0murl_dataset_train\u001b[0m\u001b[0;34m)\u001b[0m\u001b[0;34m:\u001b[0m\u001b[0;34m\u001b[0m\u001b[0m\n\u001b[0m\u001b[1;32m      5\u001b[0m             \u001b[0murl_tmp\u001b[0m \u001b[0;34m=\u001b[0m \u001b[0mos\u001b[0m\u001b[0;34m.\u001b[0m\u001b[0mpath\u001b[0m\u001b[0;34m.\u001b[0m\u001b[0mjoin\u001b[0m\u001b[0;34m(\u001b[0m\u001b[0murl_dataset_train\u001b[0m\u001b[0;34m,\u001b[0m \u001b[0meach\u001b[0m\u001b[0;34m)\u001b[0m\u001b[0;34m\u001b[0m\u001b[0m\n\u001b[1;32m      6\u001b[0m             \u001b[0mip\u001b[0m\u001b[0;34m,\u001b[0m \u001b[0mop\u001b[0m \u001b[0;34m=\u001b[0m \u001b[0;34m[\u001b[0m\u001b[0;34m]\u001b[0m\u001b[0;34m,\u001b[0m \u001b[0;34m[\u001b[0m\u001b[0;34m]\u001b[0m\u001b[0;34m\u001b[0m\u001b[0m\n",
      "\u001b[0;31mNameError\u001b[0m: name 'url_dataset_train' is not defined"
     ]
    }
   ],
   "source": [
    "next(gen)"
   ]
  },
  {
   "cell_type": "code",
   "execution_count": null,
   "metadata": {
    "ExecuteTime": {
     "end_time": "2018-03-16T10:16:30.535252Z",
     "start_time": "2018-03-16T10:16:30.471097Z"
    }
   },
   "outputs": [],
   "source": []
  },
  {
   "cell_type": "code",
   "execution_count": null,
   "metadata": {},
   "outputs": [],
   "source": []
  }
 ],
 "metadata": {
  "kernelspec": {
   "display_name": "Python 3",
   "language": "python",
   "name": "python3"
  },
  "language_info": {
   "codemirror_mode": {
    "name": "ipython",
    "version": 3
   },
   "file_extension": ".py",
   "mimetype": "text/x-python",
   "name": "python",
   "nbconvert_exporter": "python",
   "pygments_lexer": "ipython3",
   "version": "3.5.2"
  }
 },
 "nbformat": 4,
 "nbformat_minor": 2
}
