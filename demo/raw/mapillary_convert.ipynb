{
 "cells": [
  {
   "cell_type": "code",
   "execution_count": 23,
   "metadata": {},
   "outputs": [],
   "source": [
    "import cv2\n",
    "import json\n",
    "import pprint\n",
    "import numpy as np\n",
    "from PIL import Image\n",
    "import matplotlib.pyplot as plt\n",
    "%matplotlib inline"
   ]
  },
  {
   "cell_type": "code",
   "execution_count": 44,
   "metadata": {},
   "outputs": [
    {
     "name": "stdout",
     "output_type": "stream",
     "text": [
      "Shape :  (2988, 3984, 3)\n",
      "Classes :  [ 2 13 15 17 19 21 24 25 27 30 35 39 44 45 46 47 48 50 54 55 57 61 62 65]\n",
      "Classes_Instances :  [  512  3328  3840  4352  4864  4865  4866  4867  4868  4869  4870  4871\n",
      "  5376  6144  6400  6912  7680  8960  8961  8962  8963  8964  8965  8966\n",
      "  8967  9984  9985 11264 11520 11521 11522 11523 11524 11525 11526 11527\n",
      " 11528 11529 11776 12032 12033 12034 12035 12036 12037 12038 12039 12040\n",
      " 12041 12042 12043 12044 12045 12046 12047 12048 12049 12050 12051 12052\n",
      " 12053 12054 12055 12056 12057 12058 12059 12288 12800 12801 13824 14080\n",
      " 14081 14082 14083 14084 14085 14086 14087 14088 14089 14090 14091 14592\n",
      " 14593 15616 15872 16640]\n"
     ]
    },
    {
     "data": {
      "text/plain": [
       "<matplotlib.image.AxesImage at 0x7f4773304780>"
      ]
     },
     "execution_count": 44,
     "metadata": {},
     "output_type": "execute_result"
    },
    {
     "data": {
      "image/png": "[encoded data removed]",
      "text/plain": [
       "<Figure size 720x720 with 2 Axes>"
      ]
     },
     "metadata": {},
     "output_type": "display_data"
    }
   ],
   "source": [
    "url = './_1AbvbARvB-5S0rAPN02Mg.png'\n",
    "img = Image.open(url)\n",
    "img_int8  = cv2.imread(url)\n",
    "img_int16 = np.array(img, dtype=np.uint16)\n",
    "(w, h) = img_int16.shape\n",
    "print ('Shape : ', img_int8.shape)\n",
    "print ('Classes : ', np.unique(img_int8))\n",
    "print ('Classes_Instances : ', np.unique(img_int16))\n",
    "\n",
    "f, axarr = plt.subplots(1,2, figsize = (10,10))\n",
    "axarr[0].imshow(img_int8, cmap = 'gray')\n",
    "axarr[1].imshow(np.array(img, dtype=np.uint8), cmap = 'gray')"
   ]
  },
  {
   "cell_type": "code",
   "execution_count": 48,
   "metadata": {},
   "outputs": [
    {
     "name": "stdout",
     "output_type": "stream",
     "text": [
      "{'mapillary_class': {'': {'cityscapes_class': '',\n",
      "                          'cityscapes_label': '',\n",
      "                          'mapillary_label': ''},\n",
      "                     '52': {'cityscapes_class': '33',\n",
      "                            'cityscapes_label': 'bicycle',\n",
      "                            'mapillary_label': 'object--vehicle-bicycle'},\n",
      "                     '54': {'cityscapes_class': '28',\n",
      "                            'cityscapes_label': 'bus',\n",
      "                            'mapillary_label': 'object--vehicle--bus'},\n",
      "                     '55': {'cityscapes_class': '26',\n",
      "                            'cityscapes_label': 'car',\n",
      "                            'mapillary_label': 'object--vehicle--car'},\n",
      "                     '56': {'cityscapes_class': '29',\n",
      "                            'cityscapes_label': 'caravan',\n",
      "                            'mapillary_label': 'object--vehicle--caravan'},\n",
      "                     '57': {'cityscapes_class': '32',\n",
      "                            'cityscapes_label': 'motorcycle',\n",
      "                            'mapillary_label': 'object--vehicle--motorcyle'},\n",
      "                     '60': {'cityscapes_class': '30',\n",
      "                            'cityscapes_label': 'trailer',\n",
      "                            'mapillary_label': 'object--vehicle--trailer'},\n",
      "                     '61': {'cityscapes_class': '61',\n",
      "                            'cityscapes_label': 'truck',\n",
      "                            'mapillary_label': 'object--vehicle--truck'}}}\n"
     ]
    }
   ],
   "source": [
    "with open('./merge__cityscapes_mapillary.json', 'r') as fp:\n",
    "    converter_json = json.load(fp)\n",
    "    pprint.pprint (converter_json)"
   ]
  },
  {
   "cell_type": "code",
   "execution_count": 54,
   "metadata": {},
   "outputs": [
    {
     "name": "stdout",
     "output_type": "stream",
     "text": [
      "0 / 2988\n",
      "100 / 2988\n",
      "200 / 2988\n",
      "300 / 2988\n",
      "400 / 2988\n",
      "500 / 2988\n",
      "600 / 2988\n",
      "700 / 2988\n",
      "800 / 2988\n",
      "900 / 2988\n",
      "1000 / 2988\n",
      "1100 / 2988\n",
      "1200 / 2988\n",
      "1300 / 2988\n",
      "1400 / 2988\n",
      "1500 / 2988\n",
      "1600 / 2988\n",
      "1700 / 2988\n",
      "61 [15616]\n",
      "1800 / 2988\n",
      "57 [14593]\n",
      "61 [15616]\n",
      "54 [13824]\n",
      "55 [14088 14089 14090 14091]\n",
      "1900 / 2988\n",
      "57 [14592 14593]\n",
      "61 [15616]\n",
      "54 [13824]\n",
      "55 [14080 14081 14082 14083 14084 14086 14087 14088 14089 14090 14091]\n",
      "2000 / 2988\n",
      "57 [14592 14593]\n",
      "61 [15616]\n",
      "54 [13824]\n",
      "55 [14080 14081 14082 14083 14084 14086 14087 14088 14089 14090 14091]\n",
      "2100 / 2988\n",
      "57 [14592 14593]\n",
      "61 [15616]\n",
      "54 [13824]\n",
      "55 [14080 14081 14082 14083 14084 14085 14086 14087 14088 14089 14090 14091]\n",
      "2200 / 2988\n",
      "57 [14592 14593]\n",
      "61 [15616]\n",
      "54 [13824]\n",
      "55 [14080 14081 14082 14083 14084 14085 14086 14087 14088 14089 14090 14091]\n",
      "2300 / 2988\n",
      "57 [14592 14593]\n",
      "61 [15616]\n",
      "54 [13824]\n",
      "55 [14080 14081 14082 14083 14084 14085 14086 14087 14088 14089 14090 14091]\n",
      "2400 / 2988\n",
      "57 [14592 14593]\n",
      "61 [15616]\n",
      "54 [13824]\n",
      "55 [14080 14081 14082 14083 14084 14085 14086 14087 14088 14089 14090 14091]\n",
      "2500 / 2988\n",
      "57 [14592 14593]\n",
      "61 [15616]\n",
      "54 [13824]\n",
      "55 [14080 14081 14082 14083 14084 14085 14086 14087 14088 14089 14090 14091]\n",
      "2600 / 2988\n",
      "57 [14592 14593]\n",
      "61 [15616]\n",
      "54 [13824]\n",
      "55 [14080 14081 14082 14083 14084 14085 14086 14087 14088 14089 14090 14091]\n",
      "2700 / 2988\n",
      "57 [14592 14593]\n",
      "61 [15616]\n",
      "54 [13824]\n",
      "55 [14080 14081 14082 14083 14084 14085 14086 14087 14088 14089 14090 14091]\n",
      "2800 / 2988\n",
      "57 [14592 14593]\n",
      "61 [15616]\n",
      "54 [13824]\n",
      "55 [14080 14081 14082 14083 14084 14085 14086 14087 14088 14089 14090 14091]\n",
      "2900 / 2988\n",
      "57 [14592 14593]\n",
      "61 [15616]\n",
      "54 [13824]\n",
      "55 [14080 14081 14082 14083 14084 14085 14086 14087 14088 14089 14090 14091]\n",
      "57 [14592 14593]\n",
      "61 [15616]\n",
      "54 [13824]\n",
      "55 [14080 14081 14082 14083 14084 14085 14086 14087 14088 14089 14090 14091]\n"
     ]
    }
   ],
   "source": [
    "int8_int16_mapping = {}\n",
    "for w_ in range(w):\n",
    "    if w_ % 100 == 0: \n",
    "        print (w_, '/', w)\n",
    "        if len(int8_int16_mapping):\n",
    "            for key in int8_int16_mapping:\n",
    "                print (key, np.unique(int8_int16_mapping[key]))\n",
    "                \n",
    "    for h_ in range(h):\n",
    "        (r, g, b) = img_int8[w_, h_, :]\n",
    "        if str(r) in converter_json['mapillary_class']:\n",
    "            if r in int8_int16_mapping:\n",
    "                int8_int16_mapping[r].append(img_int16[w_][h_])\n",
    "            if r not in int8_int16_mapping:\n",
    "                int8_int16_mapping[r] = [img_int16[w_][h_]]\n",
    "\n",
    "for key in int8_int16_mapping:\n",
    "    print (key, np.unique(int8_int16_mapping[key]))"
   ]
  },
  {
   "cell_type": "code",
   "execution_count": 55,
   "metadata": {},
   "outputs": [
    {
     "data": {
      "text/plain": [
       "14592"
      ]
     },
     "execution_count": 55,
     "metadata": {},
     "output_type": "execute_result"
    }
   ],
   "source": [
    "57*256"
   ]
  },
  {
   "cell_type": "code",
   "execution_count": null,
   "metadata": {},
   "outputs": [
    {
     "data": {
      "text/plain": [
       "14848"
      ]
     },
     "execution_count": 56,
     "metadata": {},
     "output_type": "execute_result"
    }
   ],
   "source": [
    "58*256"
   ]
  },
  {
   "cell_type": "code",
   "execution_count": null,
   "metadata": {},
   "outputs": [],
   "source": []
  }
 ],
 "metadata": {
  "kernelspec": {
   "display_name": "Python 3",
   "language": "python",
   "name": "python3"
  },
  "language_info": {
   "codemirror_mode": {
    "name": "ipython",
    "version": 3
   },
   "file_extension": ".py",
   "mimetype": "text/x-python",
   "name": "python",
   "nbconvert_exporter": "python",
   "pygments_lexer": "ipython3",
   "version": "3.5.2"
  }
 },
 "nbformat": 4,
 "nbformat_minor": 2
}
