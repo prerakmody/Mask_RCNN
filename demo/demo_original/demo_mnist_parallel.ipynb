{
 "cells": [
  {
   "cell_type": "code",
   "execution_count": 8,
   "metadata": {
    "ExecuteTime": {
     "end_time": "2018-03-20T09:55:18.268303Z",
     "start_time": "2018-03-20T09:55:18.226849Z"
    }
   },
   "outputs": [],
   "source": [
    "import os, sys\n",
    "import numpy as np\n",
    "import keras.optimizers\n",
    "import tensorflow as tf\n",
    "from keras.datasets import mnist\n",
    "from keras.preprocessing.image import ImageDataGenerator\n",
    "\n",
    "import tensorflow as tf\n",
    "import keras.backend as KL\n",
    "import keras.layers as KL\n",
    "import keras.models as KM\n",
    "\n",
    "GPU_COUNT = 2\n",
    "\n",
    "# Root directory of the project\n",
    "ROOT_DIR = os.path.abspath(os.path.join(os.getcwd(), '../../'))\n",
    "sys.path.append(ROOT_DIR)\n",
    "MODEL_DIR       = os.path.join(ROOT_DIR, 'demo', 'model', 'logs')\n",
    "\n",
    "from src.parallel_model import ParallelModel\n",
    "\n",
    "def build_model(x_train, num_classes):\n",
    "    # Reset default graph. Keras leaves old ops in the graph,\n",
    "    # which are ignored for execution but clutter graph\n",
    "    # visualization in TensorBoard.\n",
    "    tf.reset_default_graph()\n",
    "\n",
    "    inputs = KL.Input(shape=x_train.shape[1:], name=\"input_image\")\n",
    "    x = KL.Conv2D(32, (3, 3), activation='relu', padding=\"same\",\n",
    "                  name=\"conv1\")(inputs)\n",
    "    x = KL.Conv2D(64, (3, 3), activation='relu', padding=\"same\",\n",
    "                  name=\"conv2\")(x)\n",
    "    x = KL.MaxPooling2D(pool_size=(2, 2), name=\"pool1\")(x)\n",
    "    x = KL.Flatten(name=\"flat1\")(x)\n",
    "    x = KL.Dense(128, activation='relu', name=\"dense1\")(x)\n",
    "    x = KL.Dense(num_classes, activation='softmax', name=\"dense2\")(x)\n",
    "\n",
    "    return KM.Model(inputs, x, \"digit_classifier_model\")"
   ]
  },
  {
   "cell_type": "code",
   "execution_count": 3,
   "metadata": {
    "ExecuteTime": {
     "end_time": "2018-03-20T09:52:46.298299Z",
     "start_time": "2018-03-20T09:52:45.784967Z"
    }
   },
   "outputs": [
    {
     "name": "stdout",
     "output_type": "stream",
     "text": [
      "Downloading data from https://s3.amazonaws.com/img-datasets/mnist.npz\n",
      "11493376/11490434 [==============================] - 0s 0us/step\n",
      "x_train shape: (60000, 28, 28, 1)\n",
      "x_test shape: (10000, 28, 28, 1)\n"
     ]
    }
   ],
   "source": [
    "# Load MNIST Data\n",
    "(x_train, y_train), (x_test, y_test) = mnist.load_data()\n",
    "x_train = np.expand_dims(x_train, -1).astype('float32') / 255\n",
    "x_test = np.expand_dims(x_test, -1).astype('float32') / 255\n",
    "print('x_train shape:', x_train.shape)\n",
    "print('x_test shape:', x_test.shape)"
   ]
  },
  {
   "cell_type": "code",
   "execution_count": 15,
   "metadata": {
    "ExecuteTime": {
     "end_time": "2018-03-20T09:59:03.928929Z",
     "start_time": "2018-03-20T09:59:03.809537Z"
    }
   },
   "outputs": [
    {
     "name": "stdout",
     "output_type": "stream",
     "text": [
      "['input_image']\n",
      "[<tf.Tensor 'input_image:0' shape=(?, 28, 28, 1) dtype=float32>]\n",
      "Training via Multi GPU : 2\n"
     ]
    }
   ],
   "source": [
    "# Build data generator and model\n",
    "datagen = ImageDataGenerator()\n",
    "model = build_model(x_train, 10)\n",
    "print (model.input_names)\n",
    "print (model.inputs)\n",
    "\n",
    "# Add multi-GPU support.\n",
    "model = ParallelModel(model, GPU_COUNT)\n",
    "\n",
    "optimizer = keras.optimizers.SGD(lr=0.01, momentum=0.9, clipnorm=5.0)\n",
    "\n",
    "model.compile(loss='sparse_categorical_crossentropy',\n",
    "              optimizer=optimizer, metrics=['accuracy'])\n",
    "\n",
    "# model.summary()"
   ]
  },
  {
   "cell_type": "code",
   "execution_count": 14,
   "metadata": {
    "ExecuteTime": {
     "end_time": "2018-03-20T09:58:50.250268Z",
     "start_time": "2018-03-20T09:58:50.247025Z"
    }
   },
   "outputs": [],
   "source": [
    "# Train\n",
    "# model.fit_generator(\n",
    "#     datagen.flow(x_train, y_train, batch_size=64),\n",
    "#     steps_per_epoch=500, epochs=10, verbose=1,\n",
    "#     validation_data=(x_test, y_test),\n",
    "#     callbacks=[keras.callbacks.TensorBoard(log_dir=MODEL_DIR,\n",
    "#                                            write_graph=True)]\n",
    "# )"
   ]
  },
  {
   "cell_type": "code",
   "execution_count": null,
   "metadata": {},
   "outputs": [],
   "source": []
  }
 ],
 "metadata": {
  "kernelspec": {
   "display_name": "Python 3",
   "language": "python",
   "name": "python3"
  },
  "language_info": {
   "codemirror_mode": {
    "name": "ipython",
    "version": 3
   },
   "file_extension": ".py",
   "mimetype": "text/x-python",
   "name": "python",
   "nbconvert_exporter": "python",
   "pygments_lexer": "ipython3",
   "version": "3.5.2"
  }
 },
 "nbformat": 4,
 "nbformat_minor": 2
}
