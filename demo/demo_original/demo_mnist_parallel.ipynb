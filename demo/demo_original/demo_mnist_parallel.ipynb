{
 "cells": [
  {
   "cell_type": "code",
   "execution_count": 4,
   "metadata": {
    "ExecuteTime": {
     "end_time": "2018-03-21T06:57:17.005757Z",
     "start_time": "2018-03-21T06:57:16.961866Z"
    }
   },
   "outputs": [],
   "source": [
    "import os, sys\n",
    "import numpy as np\n",
    "import keras.optimizers\n",
    "import tensorflow as tf\n",
    "from keras.datasets import mnist\n",
    "from keras.preprocessing.image import ImageDataGenerator\n",
    "\n",
    "import tensorflow as tf\n",
    "import keras.backend as KL\n",
    "import keras.layers as KL\n",
    "import keras.models as KM\n",
    "from keras.utils.training_utils import multi_gpu_model\n",
    "\n",
    "# Root directory of the project\n",
    "ROOT_DIR = os.path.abspath(os.path.join(os.getcwd(), '../../'))\n",
    "sys.path.append(ROOT_DIR)\n",
    "MODEL_DIR       = os.path.join(ROOT_DIR, 'demo', 'model', 'logs')\n",
    "\n",
    "from src.parallel_model import ParallelModel"
   ]
  },
  {
   "cell_type": "code",
   "execution_count": 2,
   "metadata": {
    "ExecuteTime": {
     "end_time": "2018-03-21T06:56:36.172164Z",
     "start_time": "2018-03-21T06:56:35.721730Z"
    }
   },
   "outputs": [
    {
     "name": "stdout",
     "output_type": "stream",
     "text": [
      "x_train shape: (60000, 28, 28, 1)\n",
      "x_test shape: (10000, 28, 28, 1)\n"
     ]
    }
   ],
   "source": [
    "# Load MNIST Data\n",
    "(x_train, y_train), (x_test, y_test) = mnist.load_data()\n",
    "x_train = np.expand_dims(x_train, -1).astype('float32') / 255\n",
    "x_test = np.expand_dims(x_test, -1).astype('float32') / 255\n",
    "print('x_train shape:', x_train.shape)\n",
    "print('x_test shape:', x_test.shape)\n",
    "\n",
    "def build_model(x_train, num_classes):\n",
    "    # Reset default graph. Keras leaves old ops in the graph,\n",
    "    # which are ignored for execution but clutter graph\n",
    "    # visualization in TensorBoard.\n",
    "    tf.reset_default_graph()\n",
    "\n",
    "    inputs = KL.Input(shape=x_train.shape[1:], name=\"input_image\")\n",
    "    x = KL.Conv2D(32, (3, 3), activation='relu', padding=\"same\",\n",
    "                  name=\"conv1\")(inputs)\n",
    "    x = KL.Conv2D(64, (3, 3), activation='relu', padding=\"same\",\n",
    "                  name=\"conv2\")(x)\n",
    "    x = KL.MaxPooling2D(pool_size=(2, 2), name=\"pool1\")(x)\n",
    "    x = KL.Flatten(name=\"flat1\")(x)\n",
    "    x = KL.Dense(128, activation='relu', name=\"dense1\")(x)\n",
    "    x = KL.Dense(num_classes, activation='softmax', name=\"dense2\")(x)\n",
    "\n",
    "    return KM.Model(inputs, x, \"digit_classifier_model\")"
   ]
  },
  {
   "cell_type": "markdown",
   "metadata": {},
   "source": [
    "# Type1"
   ]
  },
  {
   "cell_type": "code",
   "execution_count": 5,
   "metadata": {
    "ExecuteTime": {
     "end_time": "2018-03-21T06:57:27.043960Z",
     "start_time": "2018-03-21T06:57:21.613513Z"
    }
   },
   "outputs": [
    {
     "name": "stdout",
     "output_type": "stream",
     "text": [
      "['input_image']\n",
      "[<tf.Tensor 'input_image:0' shape=(?, 28, 28, 1) dtype=float32>]\n"
     ]
    }
   ],
   "source": [
    "# Build data generator and model\n",
    "datagen = ImageDataGenerator()\n",
    "model = build_model(x_train, 10)\n",
    "print ('IP Names     : ', model.input_names)\n",
    "print ('Model Inputs : ', model.inputs)\n",
    "\n",
    "# Add multi-GPU support.\n",
    "type1 = False\n",
    "GPU_COUNT = 2\n",
    "if type1:\n",
    "    model = ParallelModel(model, GPU_COUNT)\n",
    "else:\n",
    "    model = multi_gpu_model(model, gpus=GPU_COUNT)\n",
    "    \n",
    "optimizer = keras.optimizers.SGD(lr=0.01, momentum=0.9, clipnorm=5.0)\n",
    "model.compile(loss='sparse_categorical_crossentropy',\n",
    "              optimizer=optimizer, metrics=['accuracy'])\n",
    "\n",
    "# model.summary()"
   ]
  },
  {
   "cell_type": "code",
   "execution_count": 6,
   "metadata": {
    "ExecuteTime": {
     "end_time": "2018-03-21T06:58:36.324731Z",
     "start_time": "2018-03-21T06:57:57.355002Z"
    }
   },
   "outputs": [
    {
     "name": "stdout",
     "output_type": "stream",
     "text": [
      "Epoch 1/10\n",
      "500/500 [==============================] - 8s 15ms/step - loss: 0.3800 - acc: 0.8855 - val_loss: 0.1396 - val_acc: 0.9570\n",
      "Epoch 2/10\n",
      "500/500 [==============================] - 3s 7ms/step - loss: 0.1126 - acc: 0.9665 - val_loss: 0.0735 - val_acc: 0.9758\n",
      "Epoch 3/10\n",
      "500/500 [==============================] - 3s 7ms/step - loss: 0.0717 - acc: 0.9794 - val_loss: 0.0612 - val_acc: 0.9800\n",
      "Epoch 4/10\n",
      "500/500 [==============================] - 3s 7ms/step - loss: 0.0583 - acc: 0.9814 - val_loss: 0.0510 - val_acc: 0.9835\n",
      "Epoch 5/10\n",
      "500/500 [==============================] - 3s 7ms/step - loss: 0.0447 - acc: 0.9862 - val_loss: 0.0392 - val_acc: 0.9864\n",
      "Epoch 6/10\n",
      "500/500 [==============================] - 3s 7ms/step - loss: 0.0364 - acc: 0.9890 - val_loss: 0.0448 - val_acc: 0.9857\n",
      "Epoch 7/10\n",
      "500/500 [==============================] - 3s 7ms/step - loss: 0.0341 - acc: 0.9899 - val_loss: 0.0405 - val_acc: 0.9873\n",
      "Epoch 8/10\n",
      "500/500 [==============================] - 3s 7ms/step - loss: 0.0277 - acc: 0.9919 - val_loss: 0.0423 - val_acc: 0.9856\n",
      "Epoch 9/10\n",
      "500/500 [==============================] - 3s 7ms/step - loss: 0.0236 - acc: 0.9919 - val_loss: 0.0389 - val_acc: 0.9868\n",
      "Epoch 10/10\n",
      "500/500 [==============================] - 3s 7ms/step - loss: 0.0190 - acc: 0.9937 - val_loss: 0.0363 - val_acc: 0.9876\n"
     ]
    },
    {
     "data": {
      "text/plain": [
       "<keras.callbacks.History at 0x7f12d4610860>"
      ]
     },
     "execution_count": 6,
     "metadata": {},
     "output_type": "execute_result"
    }
   ],
   "source": [
    "## Train\n",
    "model.fit_generator(\n",
    "    datagen.flow(x_train, y_train, batch_size=64),\n",
    "    steps_per_epoch=500, epochs=10, verbose=1,\n",
    "    validation_data=(x_test, y_test),\n",
    "    callbacks=[keras.callbacks.TensorBoard(log_dir=MODEL_DIR,\n",
    "                                           write_graph=True)]\n",
    ")"
   ]
  },
  {
   "cell_type": "markdown",
   "metadata": {},
   "source": [
    "# Type2"
   ]
  },
  {
   "cell_type": "code",
   "execution_count": null,
   "metadata": {},
   "outputs": [],
   "source": [
    "#load data\n"
   ]
  }
 ],
 "metadata": {
  "kernelspec": {
   "display_name": "Python 3",
   "language": "python",
   "name": "python3"
  },
  "language_info": {
   "codemirror_mode": {
    "name": "ipython",
    "version": 3
   },
   "file_extension": ".py",
   "mimetype": "text/x-python",
   "name": "python",
   "nbconvert_exporter": "python",
   "pygments_lexer": "ipython3",
   "version": "3.5.2"
  }
 },
 "nbformat": 4,
 "nbformat_minor": 2
}
