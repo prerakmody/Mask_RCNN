{
 "cells": [
  {
   "cell_type": "code",
   "execution_count": null,
   "metadata": {},
   "outputs": [],
   "source": [
    "## STANDARD PYTHON LIBS\n",
    "import os\n",
    "import re\n",
    "import sys\n",
    "import cv2\n",
    "import PIL\n",
    "import math\n",
    "import time\n",
    "import random\n",
    "import scipy.misc\n",
    "import matplotlib\n",
    "import numpy as np\n",
    "import matplotlib.pyplot as plt\n",
    "%matplotlib inline\n",
    "\n",
    "## ADDING TO ROOT\n",
    "ROOT_DIR = os.path.abspath(os.path.join(os.getcwd(), '../'))\n",
    "sys.path.append(ROOT_DIR)\n",
    "\n",
    "## CUSTOM LIBS\n",
    "from src.model import log\n",
    "import src.utils as utils\n",
    "import src.model as modellib\n",
    "from src.config import Config\n",
    "import src.visualize as visualize\n",
    "\n",
    "# GPU LIBS\n",
    "import keras\n",
    "import tensorflow as tf\n",
    "\n",
    "print ('TF : ', tf.__version__, '  Keras : ', keras.__version__)\n",
    "\n",
    "if utils.check_gpu(verbose=0):\n",
    "    pass\n",
    "else:\n",
    "    sys.exit(1)"
   ]
  },
  {
   "cell_type": "markdown",
   "metadata": {},
   "source": [
    "# CUSTOMIZATION"
   ]
  },
  {
   "cell_type": "code",
   "execution_count": null,
   "metadata": {},
   "outputs": [],
   "source": [
    "class ShapesConfig(Config):\n",
    "    NAME = \"mapillary\"\n",
    "\n",
    "    GPU_COUNT = 1\n",
    "    IMAGES_PER_GPU = 8\n",
    "\n",
    "    NUM_CLASSES = 1 + 6  # background + 3 shapes\n",
    "\n",
    "    IMAGE_MIN_DIM = 128\n",
    "    IMAGE_MAX_DIM = 128\n",
    "\n",
    "    # Use smaller anchors because our image and objects are small\n",
    "    RPN_ANCHOR_SCALES = (8, 16, 32, 64, 128)  # anchor side in pixels\n",
    "\n",
    "    # Reduce training ROIs per image because the images are small and have\n",
    "    # few objects. Aim to allow ROI sampling to pick 33% positive ROIs.\n",
    "    TRAIN_ROIS_PER_IMAGE = 32\n",
    "\n",
    "    # Use a small epoch since the data is simple\n",
    "    STEPS_PER_EPOCH = 100\n",
    "\n",
    "    # use small validation steps since the epoch is small\n",
    "    VALIDATION_STEPS = 5\n",
    "    \n",
    "\n",
    "config = ShapesConfig()\n",
    "# config.display()"
   ]
  },
  {
   "cell_type": "code",
   "execution_count": null,
   "metadata": {},
   "outputs": [],
   "source": [
    "class ShapesDataset(utils.Dataset):"
   ]
  }
 ],
 "metadata": {
  "kernelspec": {
   "display_name": "Python 3",
   "language": "python",
   "name": "python3"
  },
  "language_info": {
   "codemirror_mode": {
    "name": "ipython",
    "version": 3
   },
   "file_extension": ".py",
   "mimetype": "text/x-python",
   "name": "python",
   "nbconvert_exporter": "python",
   "pygments_lexer": "ipython3",
   "version": "3.5.2"
  }
 },
 "nbformat": 4,
 "nbformat_minor": 2
}
