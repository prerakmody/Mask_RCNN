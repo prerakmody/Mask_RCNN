{
 "cells": [
  {
   "cell_type": "code",
   "execution_count": 1,
   "metadata": {
    "ExecuteTime": {
     "end_time": "2018-03-08T11:22:50.008197Z",
     "start_time": "2018-03-08T11:22:48.672544Z"
    }
   },
   "outputs": [
    {
     "name": "stderr",
     "output_type": "stream",
     "text": [
      "/usr/local/lib/python3.5/dist-packages/h5py/__init__.py:36: FutureWarning: Conversion of the second argument of issubdtype from `float` to `np.floating` is deprecated. In future, it will be treated as `np.float64 == np.dtype(float).type`.\n",
      "  from ._conv import register_converters as _register_converters\n"
     ]
    },
    {
     "name": "stdout",
     "output_type": "stream",
     "text": [
      "TF :  1.6.0   Keras :  2.1.4\n",
      "\n",
      " =========== nvidia-smi ========== \n",
      "Query for existing PIDs using GPU : nvidia-smi --query-compute-apps=pid --format=csv,noheader\n",
      " --->  ['4185']\n",
      "Damn son! You gotta kill the PIDS - ['4185'] and then run nvidia-smi -r under root\n",
      " ---> Then come back and run this script again\n"
     ]
    },
    {
     "name": "stderr",
     "output_type": "stream",
     "text": [
      "Using TensorFlow backend.\n"
     ]
    },
    {
     "ename": "SystemExit",
     "evalue": "1",
     "output_type": "error",
     "traceback": [
      "An exception has occurred, use %tb to see the full traceback.\n",
      "\u001b[0;31mSystemExit\u001b[0m\u001b[0;31m:\u001b[0m 1\n"
     ]
    },
    {
     "name": "stderr",
     "output_type": "stream",
     "text": [
      "/home/play/.local/lib/python3.5/site-packages/IPython/core/interactiveshell.py:2918: UserWarning: To exit: use 'exit', 'quit', or Ctrl-D.\n",
      "  warn(\"To exit: use 'exit', 'quit', or Ctrl-D.\", stacklevel=1)\n"
     ]
    }
   ],
   "source": [
    "## STANDARD PYTHON LIBS\n",
    "import os\n",
    "import re\n",
    "import sys\n",
    "import cv2\n",
    "import PIL\n",
    "import math\n",
    "import time\n",
    "import random\n",
    "import scipy.misc\n",
    "import matplotlib\n",
    "import numpy as np\n",
    "import matplotlib.pyplot as plt\n",
    "%matplotlib inline\n",
    "\n",
    "## ADDING TO ROOT\n",
    "ROOT_DIR = os.path.abspath(os.path.join(os.getcwd(), '../'))\n",
    "sys.path.append(ROOT_DIR)\n",
    "\n",
    "## CUSTOM LIBS\n",
    "from src.model import log\n",
    "import src.utils as utils\n",
    "import src.model as modellib\n",
    "from src.config import Config\n",
    "import src.visualize as visualize\n",
    "\n",
    "# GPU LIBS\n",
    "import keras\n",
    "import tensorflow as tf\n",
    "\n",
    "print ('TF : ', tf.__version__, '  Keras : ', keras.__version__)\n",
    "\n",
    "if utils.check_gpu(verbose=0):\n",
    "    pass\n",
    "else:\n",
    "    sys.exit(1)"
   ]
  },
  {
   "cell_type": "markdown",
   "metadata": {},
   "source": [
    "# CUSTOMIZATION"
   ]
  },
  {
   "cell_type": "code",
   "execution_count": 3,
   "metadata": {
    "ExecuteTime": {
     "end_time": "2018-03-08T12:40:38.419664Z",
     "start_time": "2018-03-08T12:40:38.406835Z"
    }
   },
   "outputs": [],
   "source": [
    "class MapillaryConfig(Config):\n",
    "    NAME = \"mapillary\"\n",
    "\n",
    "    GPU_COUNT = 1\n",
    "    IMAGES_PER_GPU = 8\n",
    "    \n",
    "    NUM_CLASSES = 1 + 15  # background + 3 shapes\n",
    "    # '0' '1' '17' '23' '24' '25' '26' '27' '28' '29' '30' '31' '32' '33' '8']\n",
    "    \n",
    "    IMAGE_MIN_DIM = 800 # in our case it does not matter\n",
    "    IMAGE_MAX_DIM = 1024\n",
    "\n",
    "    RPN_ANCHOR_SCALES = (8, 16, 32, 64, 128)  # anchor side in pixels\n",
    "    TRAIN_ROIS_PER_IMAGE = 100\n",
    "    STEPS_PER_EPOCH = 100\n",
    "    VALIDATION_STEPS = 5\n",
    "    \n",
    "config = MapillaryConfig()\n",
    "# config.display()"
   ]
  },
  {
   "cell_type": "code",
   "execution_count": 61,
   "metadata": {
    "ExecuteTime": {
     "end_time": "2018-03-09T04:55:44.619445Z",
     "start_time": "2018-03-09T04:55:44.343642Z"
    }
   },
   "outputs": [],
   "source": [
    "class MapillaryDataset(utils.Dataset):\n",
    "    \n",
    "    def add_classes(self):\n",
    "        self.dataset = 'mapillary'\n",
    "        self.add_class(self.dataset, 0, \"unlabelled\")\n",
    "        self.add_class(self.dataset, 1, \"void-ego vehicle\")\n",
    "        self.add_class(self.dataset, 8, \"flat-sidewalk\")\n",
    "        self.add_class(self.dataset, 17, \"object-pole\")\n",
    "        self.add_class(self.dataset, 23, \"sky-sky\")\n",
    "        self.add_class(self.dataset, 24, \"human-person\")\n",
    "        self.add_class(self.dataset, 25, \"human-rider\")\n",
    "        self.add_class(self.dataset, 26, \"vehicle-car\")\n",
    "        self.add_class(self.dataset, 27, \"vehicle-truck\")\n",
    "        self.add_class(self.dataset, 28, \"vehicle-bus\")\n",
    "        self.add_class(self.dataset, 29, \"vehicle-caravan\")\n",
    "        self.add_class(self.dataset, 30, \"vehicle-trailer\")\n",
    "        self.add_class(self.dataset, 31, \"vehicle-train\")\n",
    "        self.add_class(self.dataset, 32, \"vehicle-motorcycle\")\n",
    "        self.add_class(self.dataset, 33, \"vehicle-bicycle\")\n",
    "    \n",
    "    def add_image_mapillary(self, image_id, image_folder_path, image_file_name):\n",
    "        image_path = os.path.join(image_folder_path, image_file_name)\n",
    "        self.add_image(self.dataset, image_id=image_id, path=None\n",
    "                       , image_folder_path = image_folder_path, image_file_name = image_file_name)\n",
    "    \n",
    "    def load_image(self, image_id):\n",
    "        image_folder_path = self.image_info[image_id]['image_folder_path']\n",
    "        image_file_name   = self.image_info[image_id]['image_file_name']\n",
    "        return cv2.imread(os.path.join(image_folder_path, image_file_name))\n",
    "    \n",
    "    def load_mask(self, image_id):\n",
    "        image_folder_path = self.image_info[image_id]['image_folder_path']\n",
    "        image_file_name   = self.image_info[image_id]['image_file_name']\n",
    "        mask_file_name    = image_file_name.split('.png')[0] + '.npz'\n",
    "        mask_file_path    = os.path.join(image_folder_path, mask_file_name)\n",
    "        \n",
    "        \n",
    "        masks_res     = []\n",
    "        class_ids_res = []\n",
    "        masks_sparse = np.load(mask_file_path)\n",
    "        for class_id in masks_sparse:\n",
    "            for instance_id in masks_sparse[class_id].item():\n",
    "                mask_class_instance = np.array(masks_sparse[class_id].item()[instance_id].todense())\n",
    "                masks_res.append(mask_class_instance)\n",
    "                class_ids_res.append(class_id)\n",
    "                \n",
    "        return np.array(masks_res), np.array(class_ids_res)\n",
    "\n",
    "if __name__ == \"__main__\":\n",
    "    trainData = MapillaryDataset()\n",
    "    trainData.add_classes()\n",
    "    trainData.add_image_mapillary(0, './raw/data', '_1AbvbARvB-5S0rAPN02Mg.png')\n",
    "    img = trainData.load_image(0)"
   ]
  },
  {
   "cell_type": "code",
   "execution_count": 62,
   "metadata": {
    "ExecuteTime": {
     "end_time": "2018-03-09T04:55:50.866645Z",
     "start_time": "2018-03-09T04:55:45.902808Z"
    }
   },
   "outputs": [],
   "source": [
    "masks, class_ids = trainData.load_mask(0)"
   ]
  },
  {
   "cell_type": "code",
   "execution_count": 63,
   "metadata": {
    "ExecuteTime": {
     "end_time": "2018-03-09T04:55:51.297283Z",
     "start_time": "2018-03-09T04:55:50.869189Z"
    }
   },
   "outputs": [
    {
     "name": "stdout",
     "output_type": "stream",
     "text": [
      "26\n"
     ]
    },
    {
     "data": {
      "text/plain": [
       "<matplotlib.image.AxesImage at 0x7fb06ca87160>"
      ]
     },
     "execution_count": 63,
     "metadata": {},
     "output_type": "execute_result"
    },
    {
     "data": {
      "image/png": "[encoded data removed]",
      "text/plain": [
       "<Figure size 432x288 with 1 Axes>"
      ]
     },
     "metadata": {},
     "output_type": "display_data"
    }
   ],
   "source": [
    "idx = 42\n",
    "\n",
    "print\n",
    "print (class_ids[idx])\n",
    "plt.imshow(masks[idx], cmap='gray')"
   ]
  },
  {
   "cell_type": "code",
   "execution_count": 67,
   "metadata": {
    "ExecuteTime": {
     "end_time": "2018-03-09T04:56:31.023284Z",
     "start_time": "2018-03-09T04:56:30.679779Z"
    }
   },
   "outputs": [
    {
     "name": "stdout",
     "output_type": "stream",
     "text": [
      "[  0 255]\n",
      "[  0 255]\n"
     ]
    }
   ],
   "source": [
    "print (np.unique(masks[idx]))\n",
    "# masks_idx  = \n",
    "_, contours, hierarchy = cv2.findContours(masks[idx], cv2.RETR_TREE, cv2.CHAIN_APPROX_SIMPLE)\n",
    "img_contours = cv2.drawContours(masks[idx], contours, -1, (0,255,0), 3)\n",
    "print (np.unique(masks[idx]))\n",
    "img_contours[img_contours == 1] = 255\n",
    "plt.imshow(img_contours)"
   ]
  },
  {
   "cell_type": "code",
   "execution_count": null,
   "metadata": {},
   "outputs": [],
   "source": []
  }
 ],
 "metadata": {
  "kernelspec": {
   "display_name": "Python 3",
   "language": "python",
   "name": "python3"
  },
  "language_info": {
   "codemirror_mode": {
    "name": "ipython",
    "version": 3
   },
   "file_extension": ".py",
   "mimetype": "text/x-python",
   "name": "python",
   "nbconvert_exporter": "python",
   "pygments_lexer": "ipython3",
   "version": "3.5.2"
  }
 },
 "nbformat": 4,
 "nbformat_minor": 2
}
